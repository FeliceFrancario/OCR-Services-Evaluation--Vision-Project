{
  "cells": [
    {
      "cell_type": "code",
      "execution_count": null,
      "metadata": {
        "collapsed": true,
        "id": "94s7R_UiMWqj"
      },
      "outputs": [],
      "source": [
        "%%capture\n",
        "!pip install boto3\n",
        "!pip install Levenshtein\n",
        "!pip install python-Levenshtein\n",
        "!pip install azure-cognitiveservices-vision-computervision boto3\n",
        "!apt-get install -y tesseract-ocr\n",
        "!pip install pytesseract\n",
        "!pip install google-cloud-vision"
      ]
    },
    {
      "cell_type": "code",
      "execution_count": null,
      "metadata": {
        "colab": {
          "base_uri": "https://localhost:8080/",
          "height": 515
        },
        "id": "GpKBV1VP0kIK",
        "outputId": "e9fffa31-0b67-4bb2-daff-e07bcc3d9232"
      },
      "outputs": [
        {
          "name": "stdout",
          "output_type": "stream",
          "text": [
            "Collecting google-cloud-vision\n",
            "  Downloading google_cloud_vision-3.9.0-py2.py3-none-any.whl.metadata (5.3 kB)\n",
            "Requirement already satisfied: google-api-core!=2.0.*,!=2.1.*,!=2.10.*,!=2.2.*,!=2.3.*,!=2.4.*,!=2.5.*,!=2.6.*,!=2.7.*,!=2.8.*,!=2.9.*,<3.0.0dev,>=1.34.1 in /usr/local/lib/python3.11/dist-packages (from google-api-core[grpc]!=2.0.*,!=2.1.*,!=2.10.*,!=2.2.*,!=2.3.*,!=2.4.*,!=2.5.*,!=2.6.*,!=2.7.*,!=2.8.*,!=2.9.*,<3.0.0dev,>=1.34.1->google-cloud-vision) (2.19.2)\n",
            "Requirement already satisfied: google-auth!=2.24.0,!=2.25.0,<3.0.0dev,>=2.14.1 in /usr/local/lib/python3.11/dist-packages (from google-cloud-vision) (2.27.0)\n",
            "Requirement already satisfied: proto-plus<2.0.0dev,>=1.22.3 in /usr/local/lib/python3.11/dist-packages (from google-cloud-vision) (1.25.0)\n",
            "Requirement already satisfied: protobuf!=4.21.0,!=4.21.1,!=4.21.2,!=4.21.3,!=4.21.4,!=4.21.5,<6.0.0dev,>=3.20.2 in /usr/local/lib/python3.11/dist-packages (from google-cloud-vision) (4.25.5)\n",
            "Requirement already satisfied: googleapis-common-protos<2.0.dev0,>=1.56.2 in /usr/local/lib/python3.11/dist-packages (from google-api-core!=2.0.*,!=2.1.*,!=2.10.*,!=2.2.*,!=2.3.*,!=2.4.*,!=2.5.*,!=2.6.*,!=2.7.*,!=2.8.*,!=2.9.*,<3.0.0dev,>=1.34.1->google-api-core[grpc]!=2.0.*,!=2.1.*,!=2.10.*,!=2.2.*,!=2.3.*,!=2.4.*,!=2.5.*,!=2.6.*,!=2.7.*,!=2.8.*,!=2.9.*,<3.0.0dev,>=1.34.1->google-cloud-vision) (1.66.0)\n",
            "Requirement already satisfied: requests<3.0.0.dev0,>=2.18.0 in /usr/local/lib/python3.11/dist-packages (from google-api-core!=2.0.*,!=2.1.*,!=2.10.*,!=2.2.*,!=2.3.*,!=2.4.*,!=2.5.*,!=2.6.*,!=2.7.*,!=2.8.*,!=2.9.*,<3.0.0dev,>=1.34.1->google-api-core[grpc]!=2.0.*,!=2.1.*,!=2.10.*,!=2.2.*,!=2.3.*,!=2.4.*,!=2.5.*,!=2.6.*,!=2.7.*,!=2.8.*,!=2.9.*,<3.0.0dev,>=1.34.1->google-cloud-vision) (2.32.3)\n",
            "Requirement already satisfied: grpcio<2.0dev,>=1.33.2 in /usr/local/lib/python3.11/dist-packages (from google-api-core[grpc]!=2.0.*,!=2.1.*,!=2.10.*,!=2.2.*,!=2.3.*,!=2.4.*,!=2.5.*,!=2.6.*,!=2.7.*,!=2.8.*,!=2.9.*,<3.0.0dev,>=1.34.1->google-cloud-vision) (1.69.0)\n",
            "Requirement already satisfied: grpcio-status<2.0.dev0,>=1.33.2 in /usr/local/lib/python3.11/dist-packages (from google-api-core[grpc]!=2.0.*,!=2.1.*,!=2.10.*,!=2.2.*,!=2.3.*,!=2.4.*,!=2.5.*,!=2.6.*,!=2.7.*,!=2.8.*,!=2.9.*,<3.0.0dev,>=1.34.1->google-cloud-vision) (1.62.3)\n",
            "Requirement already satisfied: cachetools<6.0,>=2.0.0 in /usr/local/lib/python3.11/dist-packages (from google-auth!=2.24.0,!=2.25.0,<3.0.0dev,>=2.14.1->google-cloud-vision) (5.5.0)\n",
            "Requirement already satisfied: pyasn1-modules>=0.2.1 in /usr/local/lib/python3.11/dist-packages (from google-auth!=2.24.0,!=2.25.0,<3.0.0dev,>=2.14.1->google-cloud-vision) (0.4.1)\n",
            "Requirement already satisfied: rsa<5,>=3.1.4 in /usr/local/lib/python3.11/dist-packages (from google-auth!=2.24.0,!=2.25.0,<3.0.0dev,>=2.14.1->google-cloud-vision) (4.9)\n",
            "Requirement already satisfied: pyasn1<0.7.0,>=0.4.6 in /usr/local/lib/python3.11/dist-packages (from pyasn1-modules>=0.2.1->google-auth!=2.24.0,!=2.25.0,<3.0.0dev,>=2.14.1->google-cloud-vision) (0.6.1)\n",
            "Requirement already satisfied: charset-normalizer<4,>=2 in /usr/local/lib/python3.11/dist-packages (from requests<3.0.0.dev0,>=2.18.0->google-api-core!=2.0.*,!=2.1.*,!=2.10.*,!=2.2.*,!=2.3.*,!=2.4.*,!=2.5.*,!=2.6.*,!=2.7.*,!=2.8.*,!=2.9.*,<3.0.0dev,>=1.34.1->google-api-core[grpc]!=2.0.*,!=2.1.*,!=2.10.*,!=2.2.*,!=2.3.*,!=2.4.*,!=2.5.*,!=2.6.*,!=2.7.*,!=2.8.*,!=2.9.*,<3.0.0dev,>=1.34.1->google-cloud-vision) (3.4.1)\n",
            "Requirement already satisfied: idna<4,>=2.5 in /usr/local/lib/python3.11/dist-packages (from requests<3.0.0.dev0,>=2.18.0->google-api-core!=2.0.*,!=2.1.*,!=2.10.*,!=2.2.*,!=2.3.*,!=2.4.*,!=2.5.*,!=2.6.*,!=2.7.*,!=2.8.*,!=2.9.*,<3.0.0dev,>=1.34.1->google-api-core[grpc]!=2.0.*,!=2.1.*,!=2.10.*,!=2.2.*,!=2.3.*,!=2.4.*,!=2.5.*,!=2.6.*,!=2.7.*,!=2.8.*,!=2.9.*,<3.0.0dev,>=1.34.1->google-cloud-vision) (3.10)\n",
            "Requirement already satisfied: urllib3<3,>=1.21.1 in /usr/local/lib/python3.11/dist-packages (from requests<3.0.0.dev0,>=2.18.0->google-api-core!=2.0.*,!=2.1.*,!=2.10.*,!=2.2.*,!=2.3.*,!=2.4.*,!=2.5.*,!=2.6.*,!=2.7.*,!=2.8.*,!=2.9.*,<3.0.0dev,>=1.34.1->google-api-core[grpc]!=2.0.*,!=2.1.*,!=2.10.*,!=2.2.*,!=2.3.*,!=2.4.*,!=2.5.*,!=2.6.*,!=2.7.*,!=2.8.*,!=2.9.*,<3.0.0dev,>=1.34.1->google-cloud-vision) (2.3.0)\n",
            "Requirement already satisfied: certifi>=2017.4.17 in /usr/local/lib/python3.11/dist-packages (from requests<3.0.0.dev0,>=2.18.0->google-api-core!=2.0.*,!=2.1.*,!=2.10.*,!=2.2.*,!=2.3.*,!=2.4.*,!=2.5.*,!=2.6.*,!=2.7.*,!=2.8.*,!=2.9.*,<3.0.0dev,>=1.34.1->google-api-core[grpc]!=2.0.*,!=2.1.*,!=2.10.*,!=2.2.*,!=2.3.*,!=2.4.*,!=2.5.*,!=2.6.*,!=2.7.*,!=2.8.*,!=2.9.*,<3.0.0dev,>=1.34.1->google-cloud-vision) (2024.12.14)\n",
            "Downloading google_cloud_vision-3.9.0-py2.py3-none-any.whl (514 kB)\n",
            "\u001b[2K   \u001b[90m━━━━━━━━━━━━━━━━━━━━━━━━━━━━━━━━━━━━━━━━\u001b[0m \u001b[32m514.6/514.6 kB\u001b[0m \u001b[31m9.6 MB/s\u001b[0m eta \u001b[36m0:00:00\u001b[0m\n",
            "\u001b[?25hInstalling collected packages: google-cloud-vision\n",
            "Successfully installed google-cloud-vision-3.9.0\n"
          ]
        },
        {
          "data": {
            "application/vnd.colab-display-data+json": {
              "id": "00147de129524fe1a7b1a01f8edf0768",
              "pip_warning": {
                "packages": [
                  "google"
                ]
              }
            }
          },
          "metadata": {},
          "output_type": "display_data"
        }
      ],
      "source": [
        "!pip install google-cloud-vision"
      ]
    },
    {
      "cell_type": "code",
      "execution_count": null,
      "metadata": {
        "colab": {
          "base_uri": "https://localhost:8080/"
        },
        "id": "fCodLq9uMwxB",
        "outputId": "4f8b8f0b-640a-401a-b394-7d3dcb2bb021"
      },
      "outputs": [
        {
          "name": "stdout",
          "output_type": "stream",
          "text": [
            "Mounted at /content/drive\n"
          ]
        }
      ],
      "source": [
        "from google.colab import drive\n",
        "drive.mount('/content/drive')"
      ]
    },
    {
      "cell_type": "code",
      "execution_count": null,
      "metadata": {
        "id": "u3Xha2JuNHGX"
      },
      "outputs": [],
      "source": [
        "import os\n",
        "import zipfile\n",
        "import json\n",
        "import random\n",
        "import time\n",
        "from azure.cognitiveservices.vision.computervision import ComputerVisionClient\n",
        "from azure.cognitiveservices.vision.computervision.models import OperationStatusCodes\n",
        "from msrest.authentication import CognitiveServicesCredentials\n",
        "import requests\n",
        "import boto3\n",
        "from difflib import SequenceMatcher\n",
        "import logging\n",
        "import openai\n",
        "from openai import OpenAI\n",
        "import Levenshtein\n",
        "import pytesseract\n",
        "from PIL import Image"
      ]
    },
    {
      "cell_type": "code",
      "execution_count": null,
      "metadata": {
        "colab": {
          "base_uri": "https://localhost:8080/"
        },
        "id": "EatiRdWB6fAl",
        "outputId": "5bd1895e-5e8e-4684-840a-d0b9d6d9a8c7"
      },
      "outputs": [
        {
          "name": "stdout",
          "output_type": "stream",
          "text": [
            "Archive:  test_data.zip\n",
            "   creating: ./test_data/test/\n",
            "  inflating: ./test_data/test/eng_EU_119.json  \n",
            "  inflating: ./test_data/test/eng_NA_054.jpg  \n",
            "  inflating: ./test_data/test/eng_NA_023.json  \n",
            "  inflating: ./test_data/test/eng_EU_241.json  \n",
            "  inflating: ./test_data/test/eng_AF_010.json  \n",
            "  inflating: ./test_data/test/eng_EU_160.jpg  \n",
            "  inflating: ./test_data/test/eng_AS_071.json  \n",
            "  inflating: ./test_data/test/eng_AF_010.jpg  \n",
            "  inflating: ./test_data/test/eng_EU_071.json  \n",
            "  inflating: ./test_data/test/eng_AS_084.json  \n",
            "  inflating: ./test_data/test/eng_AF_011.json  \n",
            "  inflating: ./test_data/test/eng_NA_142.json  \n",
            "  inflating: ./test_data/test/eng_AF_118.jpg  \n",
            "  inflating: ./test_data/test/eng_AF_022.jpg  \n",
            "  inflating: ./test_data/test/eng_EU_216.jpg  \n",
            "  inflating: ./test_data/test/eng_AF_127.json  \n",
            "  inflating: ./test_data/test/eng_AF_083.json  \n",
            "  inflating: ./test_data/test/eng_EU_164.jpg  \n",
            "  inflating: ./test_data/test/eng_NA_121.jpg  \n",
            "  inflating: ./test_data/test/eng_AF_041.json  \n",
            "  inflating: ./test_data/test/eng_EU_186.json  \n",
            "  inflating: ./test_data/test/eng_EU_038.json  \n",
            "  inflating: ./test_data/test/eng_AS_041.json  \n",
            "  inflating: ./test_data/test/eng_EU_059.jpg  \n",
            "  inflating: ./test_data/test/eng_AF_112.json  \n",
            "  inflating: ./test_data/test/eng_EU_115.jpg  \n",
            "  inflating: ./test_data/test/eng_EU_068.jpg  \n",
            "  inflating: ./test_data/test/eng_AS_018.jpg  \n",
            "  inflating: ./test_data/test/eng_AF_095.json  \n",
            "  inflating: ./test_data/test/eng_NA_085.json  \n",
            "  inflating: ./test_data/test/eng_EU_283.jpg  \n",
            "  inflating: ./test_data/test/eng_EU_199.json  \n",
            "  inflating: ./test_data/test/eng_AF_069.jpg  \n",
            "  inflating: ./test_data/test/eng_NA_034.json  \n",
            "  inflating: ./test_data/test/eng_EU_094.json  \n",
            "  inflating: ./test_data/test/eng_AF_007.json  \n",
            "  inflating: ./test_data/test/eng_NA_066.json  \n",
            "  inflating: ./test_data/test/eng_AS_016.jpg  \n",
            "  inflating: ./test_data/test/eng_EU_200.jpg  \n",
            "  inflating: ./test_data/test/eng_EU_243.json  \n",
            "  inflating: ./test_data/test/eng_EU_140.json  \n",
            "  inflating: ./test_data/test/eng_EU_193.jpg  \n",
            "  inflating: ./test_data/test/eng_AF_031.jpg  \n",
            "  inflating: ./test_data/test/eng_EU_027.jpg  \n",
            "  inflating: ./test_data/test/eng_AF_027.jpg  \n",
            "  inflating: ./test_data/test/eng_EU_241.jpg  \n",
            "  inflating: ./test_data/test/eng_EU_184.json  \n",
            "  inflating: ./test_data/test/eng_EU_310.json  \n",
            "  inflating: ./test_data/test/eng_EU_243.jpg  \n",
            "  inflating: ./test_data/test/eng_NA_081.json  \n",
            "  inflating: ./test_data/test/eng_EU_068.json  \n",
            "  inflating: ./test_data/test/eng_EU_319.jpg  \n",
            "  inflating: ./test_data/test/eng_AS_042.json  \n",
            "  inflating: ./test_data/test/eng_EU_071.jpg  \n",
            "  inflating: ./test_data/test/eng_NA_081.jpg  \n",
            "  inflating: ./test_data/test/eng_EU_292.json  \n",
            "  inflating: ./test_data/test/eng_EU_167.jpg  \n",
            "  inflating: ./test_data/test/eng_NA_076.jpg  \n",
            "  inflating: ./test_data/test/eng_EU_098.json  \n",
            "  inflating: ./test_data/test/eng_NA_015.jpg  \n",
            "  inflating: ./test_data/test/eng_EU_115.json  \n",
            "  inflating: ./test_data/test/eng_AS_019.json  \n",
            "  inflating: ./test_data/test/eng_NA_041.jpg  \n",
            "  inflating: ./test_data/test/eng_EU_272.json  \n",
            "  inflating: ./test_data/test/eng_AS_038.jpg  \n",
            "  inflating: ./test_data/test/eng_EU_210.jpg  \n",
            "  inflating: ./test_data/test/eng_EU_174.json  \n",
            "  inflating: ./test_data/test/eng_EU_163.json  \n",
            "  inflating: ./test_data/test/eng_EU_278.jpg  \n",
            "  inflating: ./test_data/test/eng_NA_107.jpg  \n",
            "  inflating: ./test_data/test/eng_NA_095.json  \n",
            "  inflating: ./test_data/test/eng_EU_266.jpg  \n",
            "  inflating: ./test_data/test/eng_NA_114.json  \n",
            "  inflating: ./test_data/test/eng_AS_013.json  \n",
            "  inflating: ./test_data/test/eng_EU_174.jpg  \n",
            "  inflating: ./test_data/test/eng_AF_016.jpg  \n",
            "  inflating: ./test_data/test/eng_AS_045.json  \n",
            "  inflating: ./test_data/test/eng_EU_004.json  \n",
            "  inflating: ./test_data/test/eng_AF_007.jpg  \n",
            "  inflating: ./test_data/test/eng_AS_022.jpg  \n",
            "  inflating: ./test_data/test/eng_EU_197.jpg  \n",
            "  inflating: ./test_data/test/eng_AS_084.jpg  \n",
            "  inflating: ./test_data/test/eng_EU_281.json  \n",
            "  inflating: ./test_data/test/eng_AS_071.jpg  \n",
            "  inflating: ./test_data/test/eng_NA_030.jpg  \n",
            "  inflating: ./test_data/test/eng_AS_030.json  \n",
            "  inflating: ./test_data/test/eng_EU_129.json  \n",
            "  inflating: ./test_data/test/eng_NA_114.jpg  \n",
            "  inflating: ./test_data/test/eng_AS_051.jpg  \n",
            "  inflating: ./test_data/test/eng_EU_326.jpg  \n",
            "  inflating: ./test_data/test/eng_EU_283.json  \n",
            "  inflating: ./test_data/test/eng_AS_007.json  \n",
            "  inflating: ./test_data/test/eng_AS_013.jpg  \n",
            "  inflating: ./test_data/test/eng_EU_293.jpg  \n",
            "  inflating: ./test_data/test/eng_EU_196.json  \n",
            "  inflating: ./test_data/test/eng_EU_310.jpg  \n",
            "  inflating: ./test_data/test/eng_AF_022.json  \n",
            "  inflating: ./test_data/test/eng_EU_009.json  \n",
            "  inflating: ./test_data/test/eng_EU_313.json  \n",
            "  inflating: ./test_data/test/eng_EU_034.jpg  \n",
            "  inflating: ./test_data/test/eng_EU_048.jpg  \n",
            "  inflating: ./test_data/test/eng_EU_319.json  \n",
            "  inflating: ./test_data/test/eng_NA_023.jpg  \n",
            "  inflating: ./test_data/test/eng_EU_216.json  \n",
            "  inflating: ./test_data/test/eng_AF_095.jpg  \n",
            "  inflating: ./test_data/test/eng_NA_111.json  \n",
            "  inflating: ./test_data/test/eng_EU_238.jpg  \n",
            "  inflating: ./test_data/test/eng_EU_040.jpg  \n",
            "  inflating: ./test_data/test/eng_AS_072.json  \n",
            "  inflating: ./test_data/test/eng_NA_092.jpg  \n",
            "  inflating: ./test_data/test/eng_AS_034.jpg  \n",
            "  inflating: ./test_data/test/eng_EU_284.json  \n",
            "  inflating: ./test_data/test/eng_NA_034.jpg  \n",
            "  inflating: ./test_data/test/eng_AS_030.jpg  \n",
            "  inflating: ./test_data/test/eng_NA_052.json  \n",
            "  inflating: ./test_data/test/eng_NA_085.jpg  \n",
            "  inflating: ./test_data/test/eng_EU_308.jpg  \n",
            "  inflating: ./test_data/test/eng_EU_014.json  \n",
            "  inflating: ./test_data/test/eng_EU_199.jpg  \n",
            "  inflating: ./test_data/test/eng_AF_011.jpg  \n",
            "  inflating: ./test_data/test/eng_AS_007.jpg  \n",
            "  inflating: ./test_data/test/eng_EU_112.jpg  \n",
            "  inflating: ./test_data/test/eng_EU_261.json  \n",
            "  inflating: ./test_data/test/eng_EU_099.jpg  \n",
            "  inflating: ./test_data/test/eng_EU_036.json  \n",
            "  inflating: ./test_data/test/eng_NA_076.json  \n",
            "  inflating: ./test_data/test/eng_AS_077.json  \n",
            "  inflating: ./test_data/test/eng_EU_004.jpg  \n",
            "  inflating: ./test_data/test/eng_EU_069.json  \n",
            "  inflating: ./test_data/test/eng_NA_035.jpg  \n",
            "  inflating: ./test_data/test/eng_AF_113.jpg  \n",
            "  inflating: ./test_data/test/eng_AS_056.jpg  \n",
            "  inflating: ./test_data/test/eng_EU_038.jpg  \n",
            "  inflating: ./test_data/test/eng_AF_126.jpg  \n",
            "  inflating: ./test_data/test/eng_NA_101.jpg  \n",
            "  inflating: ./test_data/test/eng_AF_085.jpg  \n",
            "  inflating: ./test_data/test/eng_AS_059.json  \n",
            "  inflating: ./test_data/test/eng_NA_128.jpg  \n",
            "  inflating: ./test_data/test/eng_AF_061.jpg  \n",
            "  inflating: ./test_data/test/eng_EU_128.jpg  \n",
            "  inflating: ./test_data/test/eng_NA_065.jpg  \n",
            "  inflating: ./test_data/test/eng_EU_094.jpg  \n",
            "  inflating: ./test_data/test/eng_EU_025.json  \n",
            "  inflating: ./test_data/test/eng_EU_119.jpg  \n",
            "  inflating: ./test_data/test/eng_AF_031.json  \n",
            "  inflating: ./test_data/test/eng_NA_124.json  \n",
            "  inflating: ./test_data/test/eng_EU_051.json  \n",
            "  inflating: ./test_data/test/eng_NA_142.jpg  \n",
            "  inflating: ./test_data/test/eng_EU_198.jpg  \n",
            "  inflating: ./test_data/test/eng_EU_163.jpg  \n",
            "  inflating: ./test_data/test/eng_AF_076.json  \n",
            "  inflating: ./test_data/test/eng_NA_128.json  \n",
            "  inflating: ./test_data/test/eng_AF_004.jpg  \n",
            "  inflating: ./test_data/test/eng_AF_076.jpg  \n",
            "  inflating: ./test_data/test/eng_EU_186.jpg  \n",
            "  inflating: ./test_data/test/eng_AS_056.json  \n",
            "  inflating: ./test_data/test/eng_EU_123.json  \n",
            "  inflating: ./test_data/test/eng_EU_034.json  \n",
            "  inflating: ./test_data/test/eng_EU_272.jpg  \n",
            "  inflating: ./test_data/test/eng_EU_059.json  \n",
            "  inflating: ./test_data/test/eng_EU_292.jpg  \n",
            "  inflating: ./test_data/test/eng_EU_063.jpg  \n",
            "  inflating: ./test_data/test/eng_EU_227.json  \n",
            "  inflating: ./test_data/test/eng_AF_061.json  \n",
            "  inflating: ./test_data/test/eng_AS_019.jpg  \n",
            "  inflating: ./test_data/test/eng_NA_095.jpg  \n",
            "  inflating: ./test_data/test/eng_NA_050.json  \n",
            "  inflating: ./test_data/test/eng_EU_227.jpg  \n",
            "  inflating: ./test_data/test/eng_AS_063.json  \n",
            "  inflating: ./test_data/test/eng_AS_063.jpg  \n",
            "  inflating: ./test_data/test/eng_EU_026.jpg  \n",
            "  inflating: ./test_data/test/eng_EU_109.json  \n",
            "  inflating: ./test_data/test/eng_NA_092.json  \n",
            "  inflating: ./test_data/test/eng_EU_322.json  \n",
            "  inflating: ./test_data/test/eng_EU_229.jpg  \n",
            "  inflating: ./test_data/test/eng_NA_013.json  \n",
            "  inflating: ./test_data/test/eng_EU_131.jpg  \n",
            "  inflating: ./test_data/test/eng_EU_139.jpg  \n",
            "  inflating: ./test_data/test/eng_AF_112.jpg  \n",
            "  inflating: ./test_data/test/eng_NA_137.jpg  \n",
            "  inflating: ./test_data/test/eng_AF_074.jpg  \n",
            "  inflating: ./test_data/test/eng_NA_038.json  \n",
            "  inflating: ./test_data/test/eng_EU_139.json  \n",
            "  inflating: ./test_data/test/eng_EU_261.jpg  \n",
            "  inflating: ./test_data/test/eng_AF_077.json  \n",
            "  inflating: ./test_data/test/eng_AS_075.jpg  \n",
            "  inflating: ./test_data/test/eng_NA_136.json  \n",
            "  inflating: ./test_data/test/eng_EU_044.jpg  \n",
            "  inflating: ./test_data/test/eng_EU_026.json  \n",
            "  inflating: ./test_data/test/eng_NA_101.json  \n",
            "  inflating: ./test_data/test/eng_AS_042.jpg  \n",
            "  inflating: ./test_data/test/eng_EU_313.jpg  \n",
            "  inflating: ./test_data/test/eng_EU_099.json  \n",
            "  inflating: ./test_data/test/eng_NA_111.jpg  \n",
            "  inflating: ./test_data/test/eng_EU_051.jpg  \n",
            "  inflating: ./test_data/test/eng_AS_037.jpg  \n",
            "  inflating: ./test_data/test/eng_EU_109.jpg  \n",
            "  inflating: ./test_data/test/eng_AS_016.json  \n",
            "  inflating: ./test_data/test/eng_AF_027.json  \n",
            "  inflating: ./test_data/test/eng_EU_316.json  \n",
            "  inflating: ./test_data/test/eng_EU_178.json  \n",
            "  inflating: ./test_data/test/eng_EU_067.json  \n",
            "  inflating: ./test_data/test/eng_AF_064.jpg  \n",
            "  inflating: ./test_data/test/eng_EU_013.json  \n",
            "  inflating: ./test_data/test/eng_AF_067.jpg  \n",
            "  inflating: ./test_data/test/eng_EU_197.json  \n",
            "  inflating: ./test_data/test/eng_AS_022.json  \n",
            "  inflating: ./test_data/test/eng_EU_040.json  \n",
            "  inflating: ./test_data/test/eng_EU_013.jpg  \n",
            "  inflating: ./test_data/test/eng_AF_065.jpg  \n",
            "  inflating: ./test_data/test/eng_EU_285.jpg  \n",
            "  inflating: ./test_data/test/eng_NA_107.json  \n",
            "  inflating: ./test_data/test/eng_EU_138.json  \n",
            "  inflating: ./test_data/test/eng_AS_045.jpg  \n",
            "  inflating: ./test_data/test/eng_AS_051.json  \n",
            "  inflating: ./test_data/test/eng_NA_132.jpg  \n",
            "  inflating: ./test_data/test/eng_NA_012.json  \n",
            "  inflating: ./test_data/test/eng_NA_035.json  \n",
            "  inflating: ./test_data/test/eng_EU_184.jpg  \n",
            "  inflating: ./test_data/test/eng_AF_046.jpg  \n",
            "  inflating: ./test_data/test/eng_EU_148.json  \n",
            "  inflating: ./test_data/test/eng_EU_009.jpg  \n",
            "  inflating: ./test_data/test/eng_NA_113.jpg  \n",
            "  inflating: ./test_data/test/eng_EU_315.json  \n",
            "  inflating: ./test_data/test/eng_EU_308.json  \n",
            "  inflating: ./test_data/test/eng_EU_281.jpg  \n",
            "  inflating: ./test_data/test/eng_AS_054.json  \n",
            "  inflating: ./test_data/test/eng_NA_121.json  \n",
            "  inflating: ./test_data/test/eng_EU_266.json  \n",
            "  inflating: ./test_data/test/eng_AF_115.json  \n",
            "  inflating: ./test_data/test/eng_EU_298.jpg  \n",
            "  inflating: ./test_data/test/eng_NA_038.jpg  \n",
            "  inflating: ./test_data/test/eng_EU_137.json  \n",
            "  inflating: ./test_data/test/eng_NA_050.jpg  \n",
            "  inflating: ./test_data/test/eng_AF_067.json  \n",
            "  inflating: ./test_data/test/eng_EU_048.json  \n",
            "  inflating: ./test_data/test/eng_EU_278.json  \n",
            "  inflating: ./test_data/test/eng_EU_322.jpg  \n",
            "  inflating: ./test_data/test/eng_EU_285.json  \n",
            "  inflating: ./test_data/test/eng_AS_054.jpg  \n",
            "  inflating: ./test_data/test/eng_NA_054.json  \n",
            "  inflating: ./test_data/test/eng_AF_083.jpg  \n",
            "  inflating: ./test_data/test/eng_EU_268.jpg  \n",
            "  inflating: ./test_data/test/eng_NA_047.json  \n",
            "  inflating: ./test_data/test/eng_EU_027.json  \n",
            "  inflating: ./test_data/test/eng_AS_018.json  \n",
            "  inflating: ./test_data/test/eng_NA_015.json  \n",
            "  inflating: ./test_data/test/eng_EU_316.jpg  \n",
            "  inflating: ./test_data/test/eng_AS_077.jpg  \n",
            "  inflating: ./test_data/test/eng_AS_083.json  \n",
            "  inflating: ./test_data/test/eng_EU_167.json  \n",
            "  inflating: ./test_data/test/eng_EU_307.json  \n",
            "  inflating: ./test_data/test/eng_EU_131.json  \n",
            "  inflating: ./test_data/test/eng_EU_144.json  \n",
            "  inflating: ./test_data/test/eng_EU_117.jpg  \n",
            "  inflating: ./test_data/test/eng_AF_004.json  \n",
            "  inflating: ./test_data/test/eng_NA_088.jpg  \n",
            "  inflating: ./test_data/test/eng_AF_047.jpg  \n",
            "  inflating: ./test_data/test/eng_AS_072.jpg  \n",
            "  inflating: ./test_data/test/eng_AF_036.jpg  \n",
            "  inflating: ./test_data/test/eng_AF_113.json  \n",
            "  inflating: ./test_data/test/eng_NA_137.json  \n",
            "  inflating: ./test_data/test/eng_NA_065.json  \n",
            "  inflating: ./test_data/test/eng_NA_066.jpg  \n",
            "  inflating: ./test_data/test/eng_AS_036.jpg  \n",
            "  inflating: ./test_data/test/eng_AF_064.json  \n",
            "  inflating: ./test_data/test/eng_NA_052.jpg  \n",
            "  inflating: ./test_data/test/eng_EU_118.jpg  \n",
            "  inflating: ./test_data/test/eng_EU_148.jpg  \n",
            "  inflating: ./test_data/test/eng_EU_326.json  \n",
            "  inflating: ./test_data/test/eng_EU_307.jpg  \n",
            "  inflating: ./test_data/test/eng_EU_178.jpg  \n",
            "  inflating: ./test_data/test/eng_AF_047.json  \n",
            "  inflating: ./test_data/test/eng_EU_298.json  \n",
            "  inflating: ./test_data/test/eng_EU_025.jpg  \n",
            "  inflating: ./test_data/test/eng_EU_129.jpg  \n",
            "  inflating: ./test_data/test/eng_AF_046.json  \n",
            "  inflating: ./test_data/test/eng_EU_315.jpg  \n",
            "  inflating: ./test_data/test/eng_NA_124.jpg  \n",
            "  inflating: ./test_data/test/eng_AF_041.jpg  \n",
            "  inflating: ./test_data/test/eng_EU_144.jpg  \n",
            "  inflating: ./test_data/test/eng_EU_140.jpg  \n",
            "  inflating: ./test_data/test/eng_EU_044.json  \n",
            "  inflating: ./test_data/test/eng_NA_018.jpg  \n",
            "  inflating: ./test_data/test/eng_AS_036.json  \n",
            "  inflating: ./test_data/test/eng_EU_160.json  \n",
            "  inflating: ./test_data/test/eng_NA_113.json  \n",
            "  inflating: ./test_data/test/eng_NA_047.jpg  \n",
            "  inflating: ./test_data/test/eng_AS_075.json  \n",
            "  inflating: ./test_data/test/eng_AS_037.json  \n",
            "  inflating: ./test_data/test/eng_AS_083.jpg  \n",
            "  inflating: ./test_data/test/eng_AF_074.json  \n",
            "  inflating: ./test_data/test/eng_EU_196.jpg  \n",
            "  inflating: ./test_data/test/eng_AS_034.json  \n",
            "  inflating: ./test_data/test/eng_NA_088.json  \n",
            "  inflating: ./test_data/test/eng_EU_293.json  \n",
            "  inflating: ./test_data/test/eng_NA_032.json  \n",
            "  inflating: ./test_data/test/eng_EU_128.json  \n",
            "  inflating: ./test_data/test/eng_AF_016.json  \n",
            "  inflating: ./test_data/test/eng_EU_069.jpg  \n",
            "  inflating: ./test_data/test/eng_EU_098.jpg  \n",
            "  inflating: ./test_data/test/eng_EU_164.json  \n",
            "  inflating: ./test_data/test/eng_NA_132.json  \n",
            "  inflating: ./test_data/test/eng_NA_030.json  \n",
            "  inflating: ./test_data/test/eng_EU_067.jpg  \n",
            "  inflating: ./test_data/test/eng_AS_038.json  \n",
            "  inflating: ./test_data/test/eng_AF_115.jpg  \n",
            "  inflating: ./test_data/test/eng_AS_041.jpg  \n",
            "  inflating: ./test_data/test/eng_AF_036.json  \n",
            "  inflating: ./test_data/test/eng_EU_138.jpg  \n",
            "  inflating: ./test_data/test/eng_NA_094.jpg  \n",
            "  inflating: ./test_data/test/eng_AF_085.json  \n",
            "  inflating: ./test_data/test/eng_EU_118.json  \n",
            "  inflating: ./test_data/test/eng_EU_303.jpg  \n",
            "  inflating: ./test_data/test/eng_EU_123.jpg  \n",
            "  inflating: ./test_data/test/eng_NA_013.jpg  \n",
            "  inflating: ./test_data/test/eng_AF_118.json  \n",
            "  inflating: ./test_data/test/eng_EU_063.json  \n",
            "  inflating: ./test_data/test/eng_NA_041.json  \n",
            "  inflating: ./test_data/test/eng_EU_137.jpg  \n",
            "  inflating: ./test_data/test/eng_EU_200.json  \n",
            "  inflating: ./test_data/test/eng_AF_126.json  \n",
            "  inflating: ./test_data/test/eng_EU_229.json  \n",
            "  inflating: ./test_data/test/eng_EU_238.json  \n",
            "  inflating: ./test_data/test/eng_EU_117.json  \n",
            "  inflating: ./test_data/test/eng_NA_094.json  \n",
            "  inflating: ./test_data/test/eng_EU_303.json  \n",
            "  inflating: ./test_data/test/eng_AF_069.json  \n",
            "  inflating: ./test_data/test/eng_AF_065.json  \n",
            "  inflating: ./test_data/test/eng_NA_032.jpg  \n",
            "  inflating: ./test_data/test/eng_NA_018.json  \n",
            "  inflating: ./test_data/test/eng_NA_136.jpg  \n",
            "  inflating: ./test_data/test/eng_EU_284.jpg  \n",
            "  inflating: ./test_data/test/eng_EU_198.json  \n",
            "  inflating: ./test_data/test/eng_AF_127.jpg  \n",
            "  inflating: ./test_data/test/eng_AS_059.jpg  \n",
            "  inflating: ./test_data/test/eng_EU_193.json  \n",
            "  inflating: ./test_data/test/eng_NA_012.jpg  \n",
            "  inflating: ./test_data/test/eng_EU_210.json  \n",
            "  inflating: ./test_data/test/eng_EU_014.jpg  \n",
            "  inflating: ./test_data/test/eng_EU_268.json  \n",
            "  inflating: ./test_data/test/eng_EU_036.jpg  \n",
            "  inflating: ./test_data/test/eng_AF_077.jpg  \n",
            "  inflating: ./test_data/test/eng_EU_112.json  \n"
          ]
        }
      ],
      "source": [
        "!cp \"/content/drive/My Drive/vision_datasets/paper/test_data.zip\" ./test_data.zip\n",
        "\n",
        "# Unzip the file\n",
        "!unzip test_data.zip -d ./test_data"
      ]
    },
    {
      "cell_type": "code",
      "execution_count": null,
      "metadata": {
        "id": "NCEZ0-1SOyCI"
      },
      "outputs": [],
      "source": [
        "#folder = \"/content/drive/MyDrive/vision_datasets/Handwriting\"\n",
        "\n",
        "folder=\"/content/test_data/test\""
      ]
    },
    {
      "cell_type": "code",
      "execution_count": null,
      "metadata": {
        "id": "whHKnZ09OFyX"
      },
      "outputs": [],
      "source": [
        "max_size = 1 * 1024 * 1024\n",
        "\n",
        "images_paths = sorted(\n",
        "    [os.path.join(folder, file) for file in os.listdir(folder) if file.endswith((\".jpg\", \".png\", \".jpeg\")) and os.path.getsize(os.path.join(folder, file)) < max_size]\n",
        ")\n"
      ]
    },
    {
      "cell_type": "code",
      "execution_count": null,
      "metadata": {
        "colab": {
          "base_uri": "https://localhost:8080/"
        },
        "id": "bpJH0xotwBFu",
        "outputId": "7dd124ea-f0e4-483b-ff98-0bb733e5f49b"
      },
      "outputs": [
        {
          "name": "stdout",
          "output_type": "stream",
          "text": [
            "['eng_AF_007', 'eng_AF_010', 'eng_AF_011', 'eng_AF_016', 'eng_AF_022', 'eng_AF_027', 'eng_AF_046', 'eng_AF_069', 'eng_AF_083', 'eng_AF_095', 'eng_AF_112', 'eng_AF_113', 'eng_AF_115', 'eng_AF_118', 'eng_AS_013', 'eng_AS_016', 'eng_AS_018', 'eng_AS_019', 'eng_AS_022', 'eng_AS_030', 'eng_AS_034', 'eng_AS_036', 'eng_AS_037', 'eng_AS_038', 'eng_AS_041', 'eng_AS_042', 'eng_AS_045', 'eng_AS_051', 'eng_AS_054', 'eng_AS_056', 'eng_AS_059', 'eng_AS_063', 'eng_AS_071', 'eng_AS_072', 'eng_AS_075', 'eng_AS_077', 'eng_AS_083', 'eng_AS_084', 'eng_EU_112', 'eng_EU_261', 'eng_EU_266', 'eng_EU_268', 'eng_EU_272', 'eng_EU_278', 'eng_EU_281', 'eng_EU_283', 'eng_EU_284', 'eng_EU_285', 'eng_EU_292', 'eng_EU_293', 'eng_EU_298', 'eng_EU_303', 'eng_EU_307', 'eng_EU_308', 'eng_EU_310', 'eng_EU_313', 'eng_EU_316', 'eng_EU_319', 'eng_NA_013', 'eng_NA_018', 'eng_NA_023', 'eng_NA_030', 'eng_NA_034', 'eng_NA_035', 'eng_NA_038', 'eng_NA_041', 'eng_NA_050', 'eng_NA_054', 'eng_NA_065', 'eng_NA_066', 'eng_NA_076', 'eng_NA_085', 'eng_NA_088', 'eng_NA_094', 'eng_NA_111', 'eng_NA_113', 'eng_NA_124', 'eng_NA_128']\n"
          ]
        }
      ],
      "source": [
        "\n",
        "file_names = [os.path.splitext(os.path.basename(path))[0] for path in images_paths]\n",
        "print(file_names)\n"
      ]
    },
    {
      "cell_type": "code",
      "execution_count": null,
      "metadata": {
        "colab": {
          "base_uri": "https://localhost:8080/"
        },
        "id": "8AlNnaiew_Vk",
        "outputId": "1139bb76-7473-4567-cfe4-cc598e503257"
      },
      "outputs": [
        {
          "data": {
            "text/plain": [
              "['eng_AF_007',\n",
              " 'eng_AF_010',\n",
              " 'eng_AF_011',\n",
              " 'eng_AF_016',\n",
              " 'eng_AF_022',\n",
              " 'eng_AF_027',\n",
              " 'eng_AF_046',\n",
              " 'eng_AF_069',\n",
              " 'eng_AF_083',\n",
              " 'eng_AF_095',\n",
              " 'eng_AF_112',\n",
              " 'eng_AF_113',\n",
              " 'eng_AF_115',\n",
              " 'eng_AF_118',\n",
              " 'eng_AS_013',\n",
              " 'eng_AS_016',\n",
              " 'eng_AS_018',\n",
              " 'eng_AS_019',\n",
              " 'eng_AS_022',\n",
              " 'eng_AS_030',\n",
              " 'eng_AS_034',\n",
              " 'eng_AS_036',\n",
              " 'eng_AS_037',\n",
              " 'eng_AS_038',\n",
              " 'eng_AS_041',\n",
              " 'eng_AS_042',\n",
              " 'eng_AS_045',\n",
              " 'eng_AS_051',\n",
              " 'eng_AS_054',\n",
              " 'eng_AS_056',\n",
              " 'eng_AS_059',\n",
              " 'eng_AS_063',\n",
              " 'eng_AS_071',\n",
              " 'eng_AS_072',\n",
              " 'eng_AS_075',\n",
              " 'eng_AS_077',\n",
              " 'eng_AS_083',\n",
              " 'eng_AS_084',\n",
              " 'eng_EU_112',\n",
              " 'eng_EU_261',\n",
              " 'eng_EU_266',\n",
              " 'eng_EU_268',\n",
              " 'eng_EU_272',\n",
              " 'eng_EU_278',\n",
              " 'eng_EU_281',\n",
              " 'eng_EU_283',\n",
              " 'eng_EU_284',\n",
              " 'eng_EU_285',\n",
              " 'eng_EU_292',\n",
              " 'eng_EU_293',\n",
              " 'eng_EU_298',\n",
              " 'eng_EU_303',\n",
              " 'eng_EU_307',\n",
              " 'eng_EU_308',\n",
              " 'eng_EU_310',\n",
              " 'eng_EU_313',\n",
              " 'eng_EU_316',\n",
              " 'eng_EU_319',\n",
              " 'eng_NA_013',\n",
              " 'eng_NA_018',\n",
              " 'eng_NA_023',\n",
              " 'eng_NA_030',\n",
              " 'eng_NA_034',\n",
              " 'eng_NA_035',\n",
              " 'eng_NA_038',\n",
              " 'eng_NA_041',\n",
              " 'eng_NA_050',\n",
              " 'eng_NA_054',\n",
              " 'eng_NA_065',\n",
              " 'eng_NA_066',\n",
              " 'eng_NA_076',\n",
              " 'eng_NA_085',\n",
              " 'eng_NA_088',\n",
              " 'eng_NA_094',\n",
              " 'eng_NA_111',\n",
              " 'eng_NA_113',\n",
              " 'eng_NA_124',\n",
              " 'eng_NA_128']"
            ]
          },
          "execution_count": 81,
          "metadata": {},
          "output_type": "execute_result"
        }
      ],
      "source": [
        "file_names"
      ]
    },
    {
      "cell_type": "markdown",
      "metadata": {
        "id": "fBYIjdfwJ8sU"
      },
      "source": [
        "# LLM Initializitation"
      ]
    },
    {
      "cell_type": "code",
      "execution_count": null,
      "metadata": {
        "id": "7LOFrmYJzNHI"
      },
      "outputs": [],
      "source": [
        "\n",
        "\n",
        "import os\n",
        "\n",
        "if \"GOOGLE_API_KEY\" not in os.environ:\n",
        "    os.environ[\"GOOGLE_API_KEY\"] = GOOGLE_API_KEY\n"
      ]
    },
    {
      "cell_type": "code",
      "execution_count": null,
      "metadata": {
        "colab": {
          "base_uri": "https://localhost:8080/"
        },
        "id": "aevdoGH7zNHI",
        "outputId": "51b0318e-3769-4a48-c464-fc33181c583f"
      },
      "outputs": [
        {
          "name": "stdout",
          "output_type": "stream",
          "text": [
            "\u001b[?25l   \u001b[90m━━━━━━━━━━━━━━━━━━━━━━━━━━━━━━━━━━━━━━━━\u001b[0m \u001b[32m0.0/41.7 kB\u001b[0m \u001b[31m?\u001b[0m eta \u001b[36m-:--:--\u001b[0m\r\u001b[2K   \u001b[90m━━━━━━━━━━━━━━━━━━━━━━━━━━━━━━━━━━━━━━━━\u001b[0m \u001b[32m41.7/41.7 kB\u001b[0m \u001b[31m2.3 MB/s\u001b[0m eta \u001b[36m0:00:00\u001b[0m\n",
            "\u001b[?25h"
          ]
        }
      ],
      "source": [
        "%pip install -qU langchain-google-genai"
      ]
    },
    {
      "cell_type": "code",
      "execution_count": null,
      "metadata": {
        "id": "GdH5m5kszNHJ"
      },
      "outputs": [],
      "source": [
        "from langchain_google_genai import ChatGoogleGenerativeAI"
      ]
    },
    {
      "cell_type": "code",
      "execution_count": null,
      "metadata": {
        "id": "AlRtkSAQzNHM"
      },
      "outputs": [],
      "source": [
        "llm = ChatGoogleGenerativeAI(\n",
        "    model=\"gemini-1.5-flash\",\n",
        "    temperature=0,\n",
        "    max_tokens=None,\n",
        "    timeout=None,\n",
        "    max_retries=2\n",
        ")"
      ]
    },
    {
      "cell_type": "code",
      "execution_count": null,
      "metadata": {
        "id": "uGgvAJqnzNHM"
      },
      "outputs": [],
      "source": [
        "prompt_template='''You are an advanced language model specialized in text correction. You will receive text extracted from images using OCR (Optical Character Recognition) models. Your task is to identify and correct any misspelled words or inaccuracies while preserving the context and intended meaning of the text.\n",
        "\n",
        "### Instructions:\n",
        "1. Correct spelling errors: Replace any misspelled words with the correct ones.\n",
        "2. Maintain context: Ensure that the corrected text aligns with the overall meaning and structure of the original input.\n",
        "3. Handle OCR-specific errors:\n",
        "   - Fix common OCR mistakes such as incorrect substitutions of similar-looking characters (e.g., \"rn\" misread as \"m\").\n",
        "   - Handle mixed-case errors, such as \"tHiS iS\" to \"This is.\"\n",
        "4. Do not alter proper nouns, numbers, or special characters unless they are obviously incorrect.\n",
        "5. Do not add or remove punctuations\n",
        "\n",
        "Output the corrected text clearly and concisely.\n",
        "\n",
        "### Example Inputs and Outputs:\n",
        "\n",
        "**Input:**\n",
        "Th1s 1s an exarnple of OCR t3xt.\n",
        "\n",
        "**Output:**\n",
        "This is an example of OCR text.\n",
        "\n",
        "**Input:**\n",
        "Th@ rn0del w1ll c0rrect err0rs.\n",
        "\n",
        "**Output:**\n",
        "The model will correct errors.\n",
        "\n",
        "Focus on accuracy and consistency. Your goal is to produce clean and coherent text that closely resembles the intended content. Only output the corrected text and noting else'''"
      ]
    },
    {
      "cell_type": "code",
      "execution_count": null,
      "metadata": {
        "id": "a2bRn2cUzNHN"
      },
      "outputs": [],
      "source": [
        "from langchain_core.prompts import ChatPromptTemplate\n",
        "\n",
        "prompt = ChatPromptTemplate.from_messages(\n",
        "    [\n",
        "        (\n",
        "            \"system\",\n",
        "            prompt_template,\n",
        "        ),\n",
        "        (\"human\", \"{input}\"),\n",
        "    ]\n",
        ")"
      ]
    },
    {
      "cell_type": "code",
      "execution_count": null,
      "metadata": {
        "id": "Ob2EtKyJzNHN"
      },
      "outputs": [],
      "source": [
        "from langchain_core.output_parsers.string import StrOutputParser"
      ]
    },
    {
      "cell_type": "markdown",
      "metadata": {
        "id": "PWL2WvYb_yo_"
      },
      "source": [
        "Esempio:"
      ]
    },
    {
      "cell_type": "code",
      "execution_count": null,
      "metadata": {
        "colab": {
          "base_uri": "https://localhost:8080/",
          "height": 36
        },
        "id": "ytWVs35AzNHN",
        "outputId": "e7be9adc-2fb2-44ed-8709-c95e29a639b2"
      },
      "outputs": [
        {
          "data": {
            "application/vnd.google.colaboratory.intrinsic+json": {
              "type": "string"
            },
            "text/plain": [
              "'Hello, my name is John'"
            ]
          },
          "execution_count": 15,
          "metadata": {},
          "output_type": "execute_result"
        }
      ],
      "source": [
        "model=prompt|llm|StrOutputParser()\n",
        "\n",
        "model.invoke({'input':\"Hrllo,my name is john\"})"
      ]
    },
    {
      "cell_type": "markdown",
      "metadata": {
        "id": "KM03mXny_5fJ"
      },
      "source": [
        "Funzione per ordinare il testo dei file json:"
      ]
    },
    {
      "cell_type": "code",
      "execution_count": null,
      "metadata": {
        "id": "wpZ31pXC8CQb"
      },
      "outputs": [],
      "source": [
        "from itertools import groupby\n",
        "\n",
        "def Join_expected_output(expected_output_data):\n",
        "  # Sort data first by line_idx, then by x0\n",
        "  data = sorted(expected_output_data, key=lambda x: (x[\"line_idx\"], x[\"polygon\"][\"x0\"]))\n",
        "\n",
        "  # Group the sorted data by line_idx\n",
        "  lines= groupby(data, key=lambda x: x[\"line_idx\"])\n",
        "\n",
        "  # Combine the text for each line and join all lines\n",
        "  output = \"\\n\".join(\n",
        "      \" \".join(item[\"text\"] for item in sorted(group, key=lambda x: x[\"polygon\"][\"x0\"]))\n",
        "      for _, group in lines\n",
        "  )\n",
        "  return output"
      ]
    },
    {
      "cell_type": "code",
      "execution_count": null,
      "metadata": {
        "id": "c0D47WKCUTx6"
      },
      "outputs": [],
      "source": [
        "\n",
        "# Functions for Metrics\n",
        "def calculate_levenshtein_accuracy(extracted_text, ground_truth):\n",
        "    extracted_text = extracted_text.strip().lower()\n",
        "    ground_truth = ground_truth.strip().lower()\n",
        "    distance = Levenshtein.distance(extracted_text, ground_truth)\n",
        "    max_length = max(len(extracted_text), len(ground_truth))\n",
        "    return (1 - distance / max_length) * 100 if max_length > 0 else 0\n",
        "\n",
        "def calculate_word_accuracy(expected_words, ocr_words):\n",
        "    expected_set = set(expected_words)\n",
        "    ocr_set = set(ocr_words)\n",
        "    matching_words = expected_set & ocr_set\n",
        "    return (len(matching_words) / len(expected_set)) * 100 if expected_set else 0\n",
        "\n",
        "def calculate_character_error_rate(extracted_text, ground_truth):\n",
        "    errors = Levenshtein.distance(extracted_text, ground_truth)\n",
        "    total_chars = len(ground_truth)\n",
        "    return (errors / total_chars) * 100 if total_chars > 0 else 0\n",
        "\n",
        "# Evaluation Pipeline\n",
        "def evaluate_ocr(ocr_dict):\n",
        "    \"\"\"\n",
        "    Evaluate OCR output against ground truth for each entry in a dictionary.\n",
        "\n",
        "    Parameters:\n",
        "        ocr_dict (dict): Dictionary with keys as image names and values as OCR outputs.\n",
        "        ground_truth_dir (str): Path to the directory containing ground truth JSON files.\n",
        "\n",
        "    Returns:\n",
        "        dict: A dictionary with image names as keys and evaluation metrics as values.\n",
        "    \"\"\"\n",
        "    evaluation_results = {}\n",
        "\n",
        "    for image_name, ocr_output in ocr_dict.items():\n",
        "\n",
        "      ground_truth_file = f\"{folder}/{os.path.splitext(image_name)[0]}.json\"\n",
        "\n",
        "      with open(ground_truth_file, \"r\") as ref_file:\n",
        "        ground_truth_data = json.load(ref_file)\n",
        "\n",
        "        # Assuming ground truth JSON has a key \"text\" containing the expected output\n",
        "        #ground_truth = \" \".join(item[\"text\"] for item in ground_truth_data if \"text\" in item)\n",
        "\n",
        "        ground_truth= Join_expected_output(ground_truth_data)\n",
        "        lev_acc_baseline = calculate_levenshtein_accuracy(ocr_output, ground_truth)\n",
        "        word_acc_baseline = calculate_word_accuracy(ground_truth.split(), ocr_output.split())\n",
        "        cer_baseline = calculate_character_error_rate(ocr_output, ground_truth)\n",
        "\n",
        "        #LLM\n",
        "        llm_output=model.invoke({'input':ocr_output})\n",
        "        time.sleep(5)#Con il piano gratuito, possiamo fare solo 15 run al minuto\n",
        "        lev_acc_llm = calculate_levenshtein_accuracy(llm_output, ground_truth)\n",
        "        word_acc_llm = calculate_word_accuracy(ground_truth.split(), llm_output.split())\n",
        "        cer_llm = calculate_character_error_rate(llm_output, ground_truth)\n",
        "\n",
        "\n",
        "\n",
        "        # Store the results in the evaluation dictionary\n",
        "        evaluation_results[os.path.splitext(image_name)[0]] = {\n",
        "            \"Levenshtein Accuracy\": lev_acc_baseline,\n",
        "            \"Word Accuracy\": word_acc_baseline,\n",
        "            \"Character Error Rate\": cer_baseline,\n",
        "            \"Levenshtein Accuracy LLM\": lev_acc_llm,\n",
        "            \"Word Accuracy LLM\": word_acc_llm,\n",
        "            \"Character Error Rate LLM\": cer_llm\n",
        "\n",
        "        }\n",
        "    return evaluation_results"
      ]
    },
    {
      "cell_type": "markdown",
      "metadata": {
        "id": "rQGLksNnNt7W"
      },
      "source": [
        "## AZURE"
      ]
    },
    {
      "cell_type": "code",
      "execution_count": null,
      "metadata": {
        "id": "-ZLm-J41NaBN"
      },
      "outputs": [],
      "source": [
        "subscription_key = AZURE_API_KEY\n",
        "endpoint = \"https://patrikbaldon.cognitiveservices.azure.com/\"\n",
        "computervision_client = ComputerVisionClient(endpoint, CognitiveServicesCredentials(subscription_key))"
      ]
    },
    {
      "cell_type": "code",
      "execution_count": null,
      "metadata": {
        "id": "BDvtxnUBOPdA"
      },
      "outputs": [],
      "source": [
        "azure_extraction = {}\n",
        "\n",
        "# Funzione per estrarre testo e aggiungerlo al dizionario\n",
        "def extract_text_azure(image_path):\n",
        "    with open(image_path, \"rb\") as image_file:\n",
        "        read_response = computervision_client.read_in_stream(image_file, raw=True)\n",
        "        operation_location = read_response.headers[\"Operation-Location\"]\n",
        "        operation_id = operation_location.split(\"/\")[-1]\n",
        "\n",
        "        # Attendi il completamento\n",
        "        while True:\n",
        "            result = computervision_client.get_read_result(operation_id)\n",
        "            if result.status not in ['notStarted', 'running']:\n",
        "                break\n",
        "            time.sleep(1)\n",
        "\n",
        "        # Estrai il testo\n",
        "        extracted_text = \"\"\n",
        "        if result.status == OperationStatusCodes.succeeded:\n",
        "            for page in result.analyze_result.read_results:\n",
        "                for line in page.lines:\n",
        "                    extracted_text += line.text + \" \"\n",
        "\n",
        "        # Salva nel dizionario\n",
        "        azure_extraction[os.path.basename(image_path)] = extracted_text.strip()"
      ]
    },
    {
      "cell_type": "code",
      "execution_count": null,
      "metadata": {
        "collapsed": true,
        "id": "TTJ0vyi1PFE-"
      },
      "outputs": [],
      "source": [
        "# Processa ogni immagine\n",
        "for image_path in images_paths[0:150]:\n",
        "    extract_text_azure(image_path)"
      ]
    },
    {
      "cell_type": "code",
      "execution_count": null,
      "metadata": {
        "id": "2dPepBsOi7R6"
      },
      "outputs": [],
      "source": [
        "Azure_Evaluation = evaluate_ocr(azure_extraction)"
      ]
    },
    {
      "cell_type": "code",
      "execution_count": null,
      "metadata": {
        "colab": {
          "base_uri": "https://localhost:8080/"
        },
        "id": "ypeRx5koatqD",
        "outputId": "1dd9b9d1-1db0-4eec-e551-a0b712dbe505"
      },
      "outputs": [
        {
          "name": "stdout",
          "output_type": "stream",
          "text": [
            "First record:\n",
            "Key: eng_AF_007\n",
            "Value: {'Levenshtein Accuracy': 91.39784946236558, 'Word Accuracy': 71.42857142857143, 'Character Error Rate': 10.173160173160174, 'Levenshtein Accuracy LLM': 86.91983122362869, 'Word Accuracy LLM': 57.14285714285714, 'Character Error Rate LLM': 15.367965367965366}\n"
          ]
        }
      ],
      "source": [
        "keys = list(Azure_Evaluation.keys())\n",
        "values = list(Azure_Evaluation.values())\n",
        "\n",
        "print(f\"First record:\\nKey: {keys[0]}\\nValue: {values[0]}\")"
      ]
    },
    {
      "cell_type": "markdown",
      "metadata": {
        "id": "gk2AbV54Nwxa"
      },
      "source": [
        "# AWS"
      ]
    },
    {
      "cell_type": "code",
      "execution_count": null,
      "metadata": {
        "id": "497UcGUKNhvR"
      },
      "outputs": [],
      "source": [
        "session = boto3.Session(\n",
        "    aws_access_key_id=AWS_ACCESS_KEY_ID,\n",
        "    aws_secret_access_key=AWS_SECRET,\n",
        "    region_name='us-east-1'\n",
        ")\n",
        "bucket_name = \"patriksbucket\"\n",
        "# Esempio: utilizza il client Textract\n",
        "# Inizializza i client con la sessione\n",
        "s3 = session.client('s3')\n",
        "textract = session.client('textract')\n",
        "response = s3.list_objects_v2(Bucket=bucket_name,Prefix=\"train 3/\")"
      ]
    },
    {
      "cell_type": "code",
      "execution_count": null,
      "metadata": {
        "colab": {
          "base_uri": "https://localhost:8080/"
        },
        "id": "TtkQfORzvJ42",
        "outputId": "a45d97c8-1744-46c2-ab84-81a10b570862"
      },
      "outputs": [
        {
          "data": {
            "text/plain": [
              "['/content/test_data/test/eng_AF_007.jpg',\n",
              " '/content/test_data/test/eng_AF_010.jpg',\n",
              " '/content/test_data/test/eng_AF_011.jpg',\n",
              " '/content/test_data/test/eng_AF_016.jpg',\n",
              " '/content/test_data/test/eng_AF_022.jpg',\n",
              " '/content/test_data/test/eng_AF_027.jpg',\n",
              " '/content/test_data/test/eng_AF_046.jpg',\n",
              " '/content/test_data/test/eng_AF_069.jpg',\n",
              " '/content/test_data/test/eng_AF_083.jpg',\n",
              " '/content/test_data/test/eng_AF_095.jpg',\n",
              " '/content/test_data/test/eng_AF_112.jpg',\n",
              " '/content/test_data/test/eng_AF_113.jpg',\n",
              " '/content/test_data/test/eng_AF_115.jpg',\n",
              " '/content/test_data/test/eng_AF_118.jpg',\n",
              " '/content/test_data/test/eng_AS_013.jpg',\n",
              " '/content/test_data/test/eng_AS_016.jpg',\n",
              " '/content/test_data/test/eng_AS_018.jpg',\n",
              " '/content/test_data/test/eng_AS_019.jpg',\n",
              " '/content/test_data/test/eng_AS_022.jpg',\n",
              " '/content/test_data/test/eng_AS_030.jpg',\n",
              " '/content/test_data/test/eng_AS_034.jpg',\n",
              " '/content/test_data/test/eng_AS_036.jpg',\n",
              " '/content/test_data/test/eng_AS_037.jpg',\n",
              " '/content/test_data/test/eng_AS_038.jpg',\n",
              " '/content/test_data/test/eng_AS_041.jpg',\n",
              " '/content/test_data/test/eng_AS_042.jpg',\n",
              " '/content/test_data/test/eng_AS_045.jpg',\n",
              " '/content/test_data/test/eng_AS_051.jpg',\n",
              " '/content/test_data/test/eng_AS_054.jpg',\n",
              " '/content/test_data/test/eng_AS_056.jpg',\n",
              " '/content/test_data/test/eng_AS_059.jpg',\n",
              " '/content/test_data/test/eng_AS_063.jpg',\n",
              " '/content/test_data/test/eng_AS_071.jpg',\n",
              " '/content/test_data/test/eng_AS_072.jpg',\n",
              " '/content/test_data/test/eng_AS_075.jpg',\n",
              " '/content/test_data/test/eng_AS_077.jpg',\n",
              " '/content/test_data/test/eng_AS_083.jpg',\n",
              " '/content/test_data/test/eng_AS_084.jpg',\n",
              " '/content/test_data/test/eng_EU_112.jpg',\n",
              " '/content/test_data/test/eng_EU_261.jpg',\n",
              " '/content/test_data/test/eng_EU_266.jpg',\n",
              " '/content/test_data/test/eng_EU_268.jpg',\n",
              " '/content/test_data/test/eng_EU_272.jpg',\n",
              " '/content/test_data/test/eng_EU_278.jpg',\n",
              " '/content/test_data/test/eng_EU_281.jpg',\n",
              " '/content/test_data/test/eng_EU_283.jpg',\n",
              " '/content/test_data/test/eng_EU_284.jpg',\n",
              " '/content/test_data/test/eng_EU_285.jpg',\n",
              " '/content/test_data/test/eng_EU_292.jpg',\n",
              " '/content/test_data/test/eng_EU_293.jpg',\n",
              " '/content/test_data/test/eng_EU_298.jpg',\n",
              " '/content/test_data/test/eng_EU_303.jpg',\n",
              " '/content/test_data/test/eng_EU_307.jpg',\n",
              " '/content/test_data/test/eng_EU_308.jpg',\n",
              " '/content/test_data/test/eng_EU_310.jpg',\n",
              " '/content/test_data/test/eng_EU_313.jpg',\n",
              " '/content/test_data/test/eng_EU_316.jpg',\n",
              " '/content/test_data/test/eng_EU_319.jpg',\n",
              " '/content/test_data/test/eng_NA_013.jpg',\n",
              " '/content/test_data/test/eng_NA_018.jpg',\n",
              " '/content/test_data/test/eng_NA_023.jpg',\n",
              " '/content/test_data/test/eng_NA_030.jpg',\n",
              " '/content/test_data/test/eng_NA_034.jpg',\n",
              " '/content/test_data/test/eng_NA_035.jpg',\n",
              " '/content/test_data/test/eng_NA_038.jpg',\n",
              " '/content/test_data/test/eng_NA_041.jpg',\n",
              " '/content/test_data/test/eng_NA_050.jpg',\n",
              " '/content/test_data/test/eng_NA_054.jpg',\n",
              " '/content/test_data/test/eng_NA_065.jpg',\n",
              " '/content/test_data/test/eng_NA_066.jpg',\n",
              " '/content/test_data/test/eng_NA_076.jpg',\n",
              " '/content/test_data/test/eng_NA_085.jpg',\n",
              " '/content/test_data/test/eng_NA_088.jpg',\n",
              " '/content/test_data/test/eng_NA_094.jpg',\n",
              " '/content/test_data/test/eng_NA_111.jpg',\n",
              " '/content/test_data/test/eng_NA_113.jpg',\n",
              " '/content/test_data/test/eng_NA_124.jpg',\n",
              " '/content/test_data/test/eng_NA_128.jpg']"
            ]
          },
          "execution_count": 73,
          "metadata": {},
          "output_type": "execute_result"
        }
      ],
      "source": [
        "images_paths"
      ]
    },
    {
      "cell_type": "code",
      "execution_count": null,
      "metadata": {
        "id": "CPcVbUZiV1No"
      },
      "outputs": [],
      "source": [
        "def list_images_in_folder(bucket):\n",
        "    session = boto3.Session(\n",
        "        aws_access_key_id=AWS_API_KEY,\n",
        "        aws_secret_access_key=AWS_SECRET,\n",
        "        region_name='us-east-1'\n",
        "    )\n",
        "    s3 = session.client('s3')\n",
        "    response = s3.list_objects_v2(Bucket=bucket,Prefix=\"train 3/\")\n",
        "\n",
        "    # Dimensione massima in bytes (1 MB)\n",
        "    max_size = 1 * 1024 * 1024  # 1 MB\n",
        "\n",
        "    # Ottieni e ordina le immagini per nome\n",
        "    sorted_objects = sorted(\n",
        "        [obj for obj in response.get('Contents', []) if obj['Key'].endswith(('.jpg', '.png', '.jpeg'))],\n",
        "        key=lambda x: x['Key']\n",
        "    )\n",
        "\n",
        "    # Filtra immagini per dimensione\n",
        "    return [\n",
        "        (obj['Key'], obj['Key'].split('/')[-1].split('.')[0])\n",
        "        for obj in sorted_objects\n",
        "        if (obj['Size'] < max_size and obj['Key'].split('/')[-1].split('.')[0] in file_names)\n",
        "    ]"
      ]
    },
    {
      "cell_type": "code",
      "execution_count": null,
      "metadata": {
        "id": "EWp7AEH6VSC5"
      },
      "outputs": [],
      "source": [
        "def extract_text_textract(bucket, image_name):\n",
        "    session = boto3.Session(\n",
        "        aws_access_key_id=AWS_API_KEY,\n",
        "        aws_secret_access_key=AWS_SECRET,\n",
        "        region_name='us-east-1'\n",
        "    )\n",
        "    textract = session.client('textract')\n",
        "    response = textract.detect_document_text(\n",
        "        Document={'S3Object': {'Bucket': bucket, 'Name': image_name}}\n",
        "    )\n",
        "    extracted_text = []\n",
        "    for block in response['Blocks']:\n",
        "        if block['BlockType'] == 'LINE':\n",
        "            extracted_text.append(block['Text'])\n",
        "    return \" \".join(extracted_text)"
      ]
    },
    {
      "cell_type": "code",
      "execution_count": null,
      "metadata": {
        "id": "4UG34BkGWpMS"
      },
      "outputs": [],
      "source": [
        "# Configurazione AWS\n",
        "region_name = \"us-east-1\"\n",
        "bucket_name = \"patriksbucket\"\n",
        "\n",
        "aws_extraction = {}\n",
        "\n",
        "\n",
        "files = list_images_in_folder(bucket_name)\n",
        "\n",
        "\n",
        "for path, image_name in files[0:150]:\n",
        "  # Estrai testo dall'immagine\n",
        "  aws_extraction[image_name] = extract_text_textract(bucket_name, path)"
      ]
    },
    {
      "cell_type": "code",
      "execution_count": null,
      "metadata": {
        "colab": {
          "base_uri": "https://localhost:8080/"
        },
        "id": "5bI-Cn3owpwH",
        "outputId": "90cc1596-44eb-4064-f953-183793b7def8"
      },
      "outputs": [
        {
          "data": {
            "text/plain": [
              "{'eng_AF_003': '12/2/2020 Early settlement And Intergrasp Relations In Southern Africa to 1800 Course Description - we Shall study indigeneous people of Southern Africa and how they interact among them selves - we shall examine the white immigrants Indigent eous. at The Bantu - The Khoi - The San Immigrants - The Dutch - The French - The British tim'}"
            ]
          },
          "execution_count": 95,
          "metadata": {},
          "output_type": "execute_result"
        }
      ],
      "source": [
        "aws_extraction"
      ]
    },
    {
      "cell_type": "code",
      "execution_count": null,
      "metadata": {
        "id": "oqDJYC_aZ3pQ"
      },
      "outputs": [],
      "source": [
        "#folder = \"/content/drive/MyDrive/vision_datasets/Handwriting\""
      ]
    },
    {
      "cell_type": "code",
      "execution_count": null,
      "metadata": {
        "id": "0oH-GzRlj-oN"
      },
      "outputs": [],
      "source": [
        "Aws_Evaluation = evaluate_ocr(aws_extraction)"
      ]
    },
    {
      "cell_type": "code",
      "execution_count": null,
      "metadata": {
        "colab": {
          "base_uri": "https://localhost:8080/"
        },
        "id": "fPcOwyFvkaW2",
        "outputId": "4c9255db-d612-4757-a164-dcbc3d45ac38"
      },
      "outputs": [
        {
          "name": "stdout",
          "output_type": "stream",
          "text": [
            "First record:\n",
            "Key: eng_AF_007\n",
            "Value: {'Levenshtein Accuracy': 90.49676025917927, 'Word Accuracy': 76.19047619047619, 'Character Error Rate': 10.822510822510822, 'Levenshtein Accuracy LLM': 84.10462776659959, 'Word Accuracy LLM': 57.14285714285714, 'Character Error Rate LLM': 19.047619047619047}\n"
          ]
        }
      ],
      "source": [
        "keys = list(Aws_Evaluation.keys())\n",
        "values = list(Aws_Evaluation.values())\n",
        "\n",
        "print(f\"First record:\\nKey: {keys[0]}\\nValue: {values[0]}\")"
      ]
    },
    {
      "cell_type": "markdown",
      "metadata": {
        "id": "AMUBiaD2N0Mx"
      },
      "source": [
        "# OCR_SPACE"
      ]
    },
    {
      "cell_type": "code",
      "execution_count": null,
      "metadata": {
        "id": "DYA5TCa1Z8AK"
      },
      "outputs": [],
      "source": [
        "folder=\"/content/test_data/test\""
      ]
    },
    {
      "cell_type": "code",
      "execution_count": null,
      "metadata": {
        "id": "nEa3C9cXNr1f"
      },
      "outputs": [],
      "source": [
        "API_KEY = OCR_SPACE_API_KEY\n",
        "ocrspace_extraction = {}"
      ]
    },
    {
      "cell_type": "code",
      "execution_count": null,
      "metadata": {
        "id": "DDrWs-bsktlb"
      },
      "outputs": [],
      "source": [
        "\n",
        "def ocr_space_file(image_path, output_path=None, overlay=False, api_key=None, language='eng'):\n",
        "    \"\"\"\n",
        "    OCR.space API request with a local file, optionally saving results as JSON.\n",
        "\n",
        "    Parameters:\n",
        "        image_path (str): Path to the file.\n",
        "        output_path (str, optional): Path to save the resulting JSON file.\n",
        "        overlay (bool, optional): Include OCR overlay in the response.\n",
        "        api_key (str): Your OCR.space API key.\n",
        "        language (str): Language code for OCR.\n",
        "\n",
        "    Returns:\n",
        "        dict: A dictionary containing image names as keys and extracted text as values.\n",
        "    \"\"\"\n",
        "\n",
        "    payload = {\n",
        "        'isOverlayRequired': overlay,\n",
        "        'apikey': api_key,\n",
        "        'language': language,\n",
        "        'OCREngine': 2\n",
        "    }\n",
        "\n",
        "\n",
        "    # Open the image file in binary mode\n",
        "    with open(image_path, 'rb') as f:\n",
        "      r = requests.post(\n",
        "      'https://api.ocr.space/parse/image',\n",
        "      files={os.path.basename(image_path): f},\n",
        "      data=payload,\n",
        "      )\n",
        "      result = r.json()\n",
        "\n",
        "      # Skip if there are errors in the response\n",
        "      if result.get(\"IsErroredOnProcessing\"):\n",
        "        return extracted_text\n",
        "\n",
        "      ## Extract the text and remove newlines\n",
        "      extracted_text = result[\"ParsedResults\"][0][\"ParsedText\"].replace('\\n', ' ')\n",
        "    return extracted_text\n",
        "\n"
      ]
    },
    {
      "cell_type": "code",
      "execution_count": null,
      "metadata": {
        "id": "Df9gm_XYyL1c"
      },
      "outputs": [],
      "source": [
        "for image_path in images_paths[0:150]:\n",
        "  ocrspace_extraction[os.path.basename(image_path)] = ocr_space_file(image_path, api_key=OCR_SPACE_API_KEY)"
      ]
    },
    {
      "cell_type": "code",
      "execution_count": null,
      "metadata": {
        "id": "GgCt_m2SqFAM"
      },
      "outputs": [],
      "source": [
        "OcrSpace_Evaluation = evaluate_ocr(ocrspace_extraction)"
      ]
    },
    {
      "cell_type": "code",
      "execution_count": null,
      "metadata": {
        "colab": {
          "base_uri": "https://localhost:8080/"
        },
        "id": "OBc22SXLqKRJ",
        "outputId": "819da463-53cc-4fb8-b184-e6271a8db95c"
      },
      "outputs": [
        {
          "name": "stdout",
          "output_type": "stream",
          "text": [
            "First record:\n",
            "Key: eng_AF_007\n",
            "Value: {'Levenshtein Accuracy': 87.44588744588745, 'Word Accuracy': 63.49206349206349, 'Character Error Rate': 13.852813852813853, 'Levenshtein Accuracy LLM': 83.23108384458078, 'Word Accuracy LLM': 53.96825396825397, 'Character Error Rate LLM': 19.480519480519483}\n"
          ]
        }
      ],
      "source": [
        "keys = list(OcrSpace_Evaluation.keys())\n",
        "values = list(OcrSpace_Evaluation.values())\n",
        "\n",
        "print(f\"First record:\\nKey: {keys[0]}\\nValue: {values[0]}\")"
      ]
    },
    {
      "cell_type": "markdown",
      "metadata": {
        "id": "WzXo_CxA6OkB"
      },
      "source": [
        "# TESSERACT"
      ]
    },
    {
      "cell_type": "code",
      "execution_count": null,
      "metadata": {
        "id": "Pi2gu_Ll68cg"
      },
      "outputs": [],
      "source": [
        "tesseract_extraction = {}"
      ]
    },
    {
      "cell_type": "code",
      "execution_count": null,
      "metadata": {
        "id": "kyOMTr6L6Sal"
      },
      "outputs": [],
      "source": [
        "# Function to extract text using Tesseract OCR\n",
        "def extract_text_tesseract(image_path):\n",
        "  text = pytesseract.image_to_string(Image.open(image_path))\n",
        "  return text.strip()"
      ]
    },
    {
      "cell_type": "code",
      "execution_count": null,
      "metadata": {
        "id": "w4Fy4KKR7GDA"
      },
      "outputs": [],
      "source": [
        "for image_path in images_paths[0:150]:\n",
        "  tesseract_extraction[os.path.basename(image_path)] = extract_text_tesseract(image_path)"
      ]
    },
    {
      "cell_type": "code",
      "execution_count": null,
      "metadata": {
        "colab": {
          "base_uri": "https://localhost:8080/"
        },
        "id": "wwZ6hXVB8IwX",
        "outputId": "52ec8508-5ad8-4ab6-f0df-a4b45445129e"
      },
      "outputs": [
        {
          "name": "stderr",
          "output_type": "stream",
          "text": [
            "WARNING:langchain_google_genai.chat_models:Retrying langchain_google_genai.chat_models._chat_with_retry.<locals>._chat_with_retry in 2.0 seconds as it raised InternalServerError: 500 Unable to submit request because the service is temporarily unavailable..\n",
            "WARNING:langchain_google_genai.chat_models:Retrying langchain_google_genai.chat_models._chat_with_retry.<locals>._chat_with_retry in 2.0 seconds as it raised InternalServerError: 500 Unable to submit request because the service is temporarily unavailable..\n",
            "WARNING:langchain_google_genai.chat_models:Retrying langchain_google_genai.chat_models._chat_with_retry.<locals>._chat_with_retry in 2.0 seconds as it raised InternalServerError: 500 Unable to submit request because the service is temporarily unavailable..\n",
            "WARNING:langchain_google_genai.chat_models:Retrying langchain_google_genai.chat_models._chat_with_retry.<locals>._chat_with_retry in 2.0 seconds as it raised InternalServerError: 500 Unable to submit request because the service is temporarily unavailable..\n"
          ]
        }
      ],
      "source": [
        "Tesseract_Evaluation = evaluate_ocr(tesseract_extraction)"
      ]
    },
    {
      "cell_type": "code",
      "execution_count": null,
      "metadata": {
        "colab": {
          "base_uri": "https://localhost:8080/"
        },
        "id": "AFjqRPz08SV8",
        "outputId": "91bc494f-5a4a-4def-9d53-988a46d1ba8a"
      },
      "outputs": [
        {
          "name": "stdout",
          "output_type": "stream",
          "text": [
            "First record:\n",
            "Key: eng_AF_007\n",
            "Value: {'Levenshtein Accuracy': 25.324675324675326, 'Word Accuracy': 12.698412698412698, 'Character Error Rate': 75.75757575757575, 'Levenshtein Accuracy LLM': 24.458874458874458, 'Word Accuracy LLM': 15.873015873015872, 'Character Error Rate LLM': 76.19047619047619}\n"
          ]
        }
      ],
      "source": [
        "keys = list(Tesseract_Evaluation.keys())\n",
        "values = list(Tesseract_Evaluation.values())\n",
        "\n",
        "print(f\"First record:\\nKey: {keys[0]}\\nValue: {values[0]}\")"
      ]
    },
    {
      "cell_type": "markdown",
      "metadata": {
        "id": "C8P95qxkevKc"
      },
      "source": [
        "# GOOGLE CLOUD VISION API"
      ]
    },
    {
      "cell_type": "code",
      "execution_count": null,
      "metadata": {
        "id": "1YRrzttyequu"
      },
      "outputs": [],
      "source": [
        "cloudvisionapikey = CLOUD_VISION_API_KEY\n",
        "cloudvision_extraction = {}"
      ]
    },
    {
      "cell_type": "code",
      "execution_count": null,
      "metadata": {
        "id": "iwhPI5Zve6uz"
      },
      "outputs": [],
      "source": [
        "from google.cloud import vision\n",
        "from google.auth.transport.requests import Request\n",
        "from google.auth.credentials import AnonymousCredentials\n",
        "import requests\n",
        "import base64 # Import base64\n",
        "\n",
        "def detect_text(image_path):\n",
        "    \"\"\"\n",
        "    Detect text in an image using the Vision API with an API key.\n",
        "\n",
        "    Args:\n",
        "        api_key (str): Your Google Cloud Vision API key.\n",
        "        image_path (str): Path to the image file.\n",
        "\n",
        "    Returns:\n",
        "        str: Detected text.\n",
        "    \"\"\"\n",
        "    # Read the image file\n",
        "    with open(image_path, \"rb\") as image_file:\n",
        "        image_content = image_file.read()\n",
        "\n",
        "    # Encode image content to base64\n",
        "    image_content_base64 = base64.b64encode(image_content).decode('utf-8')\n",
        "\n",
        "    # Create the request payload\n",
        "    url = f\"https://vision.googleapis.com/v1/images:annotate?key={cloudvisionapikey}\"\n",
        "    headers = {\"Content-Type\": \"application/json\"}\n",
        "    payload = {\n",
        "        \"requests\": [\n",
        "            {\n",
        "                \"image\": {\"content\": image_content_base64}, # Use base64 encoded content\n",
        "                \"features\": [{\"type\": \"TEXT_DETECTION\"}]\n",
        "            }\n",
        "        ]\n",
        "    }\n",
        "\n",
        "    # Send the request\n",
        "    response = requests.post(url, json=payload, headers=headers)\n",
        "    response.raise_for_status()\n",
        "\n",
        "    # Parse the response\n",
        "    result = response.json()\n",
        "    if \"responses\" in result and \"textAnnotations\" in result[\"responses\"][0]:\n",
        "        detected_text = result[\"responses\"][0][\"textAnnotations\"][0][\"description\"]\n",
        "        return detected_text\n",
        "    else:\n",
        "        return \"No text detected.\""
      ]
    },
    {
      "cell_type": "code",
      "execution_count": null,
      "metadata": {
        "id": "Wz4pMZipfXFj"
      },
      "outputs": [],
      "source": [
        "for image_path in images_paths[0:150]:\n",
        "  cloudvision_extraction[os.path.basename(image_path)] = detect_text(image_path)"
      ]
    },
    {
      "cell_type": "code",
      "execution_count": null,
      "metadata": {
        "id": "FMBGxMHgfak0"
      },
      "outputs": [],
      "source": [
        "OcrCloudVision_Evaluation = evaluate_ocr(cloudvision_extraction)"
      ]
    },
    {
      "cell_type": "code",
      "execution_count": null,
      "metadata": {
        "colab": {
          "base_uri": "https://localhost:8080/"
        },
        "id": "nngHxoSDfdUp",
        "outputId": "2a2356fd-5a44-4ae1-bd76-6c5a8f6b1974"
      },
      "outputs": [
        {
          "name": "stdout",
          "output_type": "stream",
          "text": [
            "First record:\n",
            "Key: eng_AF_007\n",
            "Value: {'Levenshtein Accuracy': 80.94218415417559, 'Word Accuracy': 71.42857142857143, 'Character Error Rate': 20.12987012987013, 'Levenshtein Accuracy LLM': 83.76623376623377, 'Word Accuracy LLM': 65.07936507936508, 'Character Error Rate LLM': 18.181818181818183}\n"
          ]
        }
      ],
      "source": [
        "keys = list(OcrCloudVision_Evaluation.keys())\n",
        "values = list(OcrCloudVision_Evaluation.values())\n",
        "\n",
        "print(f\"First record:\\nKey: {keys[0]}\\nValue: {values[0]}\")"
      ]
    },
    {
      "cell_type": "markdown",
      "metadata": {
        "id": "ddo5LrlefViD"
      },
      "source": [
        "# COMPARE THE EVALUATIONS"
      ]
    },
    {
      "cell_type": "code",
      "execution_count": null,
      "metadata": {
        "id": "r-_liZJw7mhV"
      },
      "outputs": [],
      "source": [
        "import pandas as pd"
      ]
    },
    {
      "cell_type": "code",
      "execution_count": null,
      "metadata": {
        "id": "-mbXUWbgcQn9"
      },
      "outputs": [],
      "source": [
        "def calculate_score(metrics, alpha, beta, gamma):\n",
        "\n",
        "    lev_accuracy = metrics.get(\"Levenshtein Accuracy\", 0)\n",
        "    word_accuracy = metrics.get(\"Word Accuracy\", 0)\n",
        "    cer = metrics.get(\"Character Error Rate\", 0)\n",
        "\n",
        "    total_score = alpha * lev_accuracy + beta * word_accuracy - gamma * cer\n",
        "    return total_score\n",
        "\n",
        "def calculate_score_llm(metrics, alpha, beta, gamma):\n",
        "\n",
        "    lev_accuracy = metrics.get(\"Levenshtein Accuracy LLM\", 0)\n",
        "    word_accuracy = metrics.get(\"Word Accuracy LLM\", 0)\n",
        "    cer = metrics.get(\"Character Error Rate LLM\", 0)\n",
        "\n",
        "    total_score = alpha * lev_accuracy + beta * word_accuracy - gamma * cer\n",
        "    return total_score\n",
        "\n",
        "\n",
        "def evaluate_all_metrics(evaluations, alpha, beta, gamma):\n",
        "\n",
        "    best_api = None\n",
        "    best_score = float('-inf')\n",
        "    results=[]\n",
        "\n",
        "    print(\"API Scores:\\n\")\n",
        "\n",
        "    for api_name, image_metrics in evaluations.items():\n",
        "        total_score = 0\n",
        "        total_score_llm = 0\n",
        "        total_lev_accuracy = 0\n",
        "        total_word_accuracy = 0\n",
        "        total_cer = 0\n",
        "        total_lev_accuracy_llm = 0\n",
        "        total_word_accuracy_llm = 0\n",
        "        total_cer_llm = 0\n",
        "        num_images = len(image_metrics)\n",
        "        for image_name, metrics in image_metrics.items():\n",
        "            total_score += calculate_score(metrics, alpha, beta, gamma)\n",
        "            total_score_llm += calculate_score_llm(metrics, alpha, beta, gamma)\n",
        "\n",
        "            total_lev_accuracy += metrics.get(\"Levenshtein Accuracy\", 0)\n",
        "            total_word_accuracy += metrics.get(\"Word Accuracy\", 0)\n",
        "            total_cer += metrics.get(\"Character Error Rate\", 0)\n",
        "\n",
        "            total_lev_accuracy_llm += metrics.get(\"Levenshtein Accuracy LLM\", 0)\n",
        "            total_word_accuracy_llm += metrics.get(\"Word Accuracy LLM\", 0)\n",
        "            total_cer_llm += metrics.get(\"Character Error Rate LLM\", 0)\n",
        "        avg_score = total_score / num_images if num_images > 0 else 0\n",
        "        avg_score_llm = total_score_llm / num_images if num_images > 0 else 0\n",
        "\n",
        "        avg_lev_accuracy = total_lev_accuracy / num_images if num_images > 0 else 0\n",
        "        avg_word_accuracy = total_word_accuracy / num_images if num_images > 0 else 0\n",
        "        avg_cer = total_cer / num_images if num_images > 0 else 0\n",
        "\n",
        "        avg_lev_accuracy_llm = total_lev_accuracy_llm / num_images if num_images > 0 else 0\n",
        "        avg_word_accuracy_llm = total_word_accuracy_llm / num_images if num_images > 0 else 0\n",
        "        avg_cer_llm = total_cer_llm / num_images if num_images > 0 else 0\n",
        "\n",
        "        print(f\"{api_name} - Average Score: {avg_score:.2f}, with LLM: {avg_score_llm:.2f}\")\n",
        "\n",
        "        results.append({\n",
        "            \"API Name\": api_name,\n",
        "            \"Levenshtein Accuracy\": avg_lev_accuracy,\n",
        "            \"Levenshtein Accuracy with LLM\": avg_lev_accuracy_llm,\n",
        "            \"Word Accuracy\": avg_word_accuracy,\n",
        "            \"Word Accuracy with LLM\": avg_word_accuracy_llm,\n",
        "            \"Character Error Rate\": avg_cer,\n",
        "            \"Character Error Rate with LLM\": avg_cer_llm,\n",
        "            \"Average Score\": avg_score,\n",
        "            \"Average Score with LLM\": avg_score_llm\n",
        "        })\n",
        "\n",
        "\n",
        "        if avg_score > best_score:\n",
        "            best_score = avg_score\n",
        "            best_api = api_name\n",
        "\n",
        "\n",
        "    df = pd.DataFrame(results)\n",
        "    df.to_excel(\"eng_handwriting_ocr_evaluation_results.xlsx\", index=False)\n",
        "\n",
        "    print(\"\\nResults saved to excel file\")\n",
        "    return best_api, best_score\n",
        "\n",
        "\n"
      ]
    },
    {
      "cell_type": "code",
      "execution_count": null,
      "metadata": {
        "colab": {
          "base_uri": "https://localhost:8080/"
        },
        "id": "H7sYG4UVcWlH",
        "outputId": "8a14fe78-59cb-4d35-a7ac-9044394bded5"
      },
      "outputs": [
        {
          "name": "stdout",
          "output_type": "stream",
          "text": [
            "API Scores:\n",
            "\n",
            "Azure OCR - Average Score: 124.38, with LLM: 114.57\n",
            "AWS Textract - Average Score: 114.49, with LLM: 108.57\n",
            "OCR.space - Average Score: 105.87, with LLM: 107.82\n",
            "Tesseract - Average Score: -55.95, with LLM: -41.27\n",
            "Google Cloud Vision API - Average Score: 106.71, with LLM: 111.89\n",
            "\n",
            "Results saved to excel file\n",
            "\n",
            "The best OCR API is Azure OCR with an average score of 124.38.\n"
          ]
        }
      ],
      "source": [
        "# Esempio di dati delle metriche\n",
        "evaluations = {\n",
        "    \"Azure OCR\": Azure_Evaluation,\n",
        "    \"AWS Textract\": Aws_Evaluation,\n",
        "    \"OCR.space\": OcrSpace_Evaluation,\n",
        "    \"Tesseract\": Tesseract_Evaluation,\n",
        "    \"Google Cloud Vision API\": OcrCloudVision_Evaluation\n",
        "}\n",
        "\n",
        "# Confronta le metriche per tutte le API\n",
        "best_api, best_score = evaluate_all_metrics(evaluations, alpha=1.3, beta=0.6, gamma=1.5)\n",
        "print(f\"\\nThe best OCR API is {best_api} with an average score of {best_score:.2f}.\")\n"
      ]
    },
    {
      "cell_type": "code",
      "execution_count": null,
      "metadata": {
        "id": "KL4DHeow6ckN"
      },
      "outputs": [],
      "source": []
    },
    {
      "cell_type": "markdown",
      "metadata": {
        "id": "o8rsJ9gbcdES"
      },
      "source": [
        "# Tesseract test"
      ]
    },
    {
      "cell_type": "code",
      "execution_count": null,
      "metadata": {
        "id": "KwkdYU_Rc_2b"
      },
      "outputs": [],
      "source": [
        "image=\"/content/test_data/test/eng_AF_004.jpg\""
      ]
    },
    {
      "cell_type": "code",
      "execution_count": null,
      "metadata": {
        "colab": {
          "base_uri": "https://localhost:8080/",
          "height": 36
        },
        "id": "cOFEiGf6cbbK",
        "outputId": "51193741-e106-4a4e-e0e3-da98143d1da7"
      },
      "outputs": [
        {
          "data": {
            "application/vnd.google.colaboratory.intrinsic+json": {
              "type": "string"
            },
            "text/plain": [
              "'+l AoC\\n\\nDate: 7 A\\n\\n \\n\\x0c'"
            ]
          },
          "execution_count": 102,
          "metadata": {},
          "output_type": "execute_result"
        }
      ],
      "source": [
        "pytesseract.image_to_string(Image.open(image))"
      ]
    },
    {
      "cell_type": "markdown",
      "metadata": {
        "id": "23UmLZ8Wem-G"
      },
      "source": [
        "Riesce a riconoscere solo il testo stampato"
      ]
    },
    {
      "cell_type": "code",
      "execution_count": null,
      "metadata": {
        "id": "FdbEWG86cfPc"
      },
      "outputs": [],
      "source": [
        "image =\"/content/test_data/test/eng_AF_010.jpg\""
      ]
    },
    {
      "cell_type": "code",
      "execution_count": null,
      "metadata": {
        "colab": {
          "base_uri": "https://localhost:8080/",
          "height": 36
        },
        "id": "34V7A4JweIcm",
        "outputId": "df43e933-04cb-409d-9b22-3540696f4853"
      },
      "outputs": [
        {
          "data": {
            "application/vnd.google.colaboratory.intrinsic+json": {
              "type": "string"
            },
            "text/plain": [
              "'      \\n\\n \\n\\nie ,DNINIWAF ro\\nroy pegs grow rm | Bye\\nree zu nor Rew Ty apn)\\n\\nsso a ae poy, wh 7p | Ja\\n\\x0c'"
            ]
          },
          "execution_count": 104,
          "metadata": {},
          "output_type": "execute_result"
        }
      ],
      "source": [
        "pytesseract.image_to_string(Image.open(image))"
      ]
    }
  ],
  "metadata": {
    "colab": {
      "provenance": []
    },
    "kernelspec": {
      "display_name": "ds",
      "language": "python",
      "name": "python3"
    },
    "language_info": {
      "codemirror_mode": {
        "name": "ipython",
        "version": 3
      },
      "file_extension": ".py",
      "mimetype": "text/x-python",
      "name": "python",
      "nbconvert_exporter": "python",
      "pygments_lexer": "ipython3",
      "version": "3.12.8"
    }
  },
  "nbformat": 4,
  "nbformat_minor": 0
}
