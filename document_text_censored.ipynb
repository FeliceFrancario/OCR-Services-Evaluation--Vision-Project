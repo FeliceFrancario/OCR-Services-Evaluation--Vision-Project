{
  "cells": [
    {
      "cell_type": "code",
      "execution_count": null,
      "metadata": {
        "collapsed": true,
        "id": "94s7R_UiMWqj"
      },
      "outputs": [],
      "source": [
        "%%capture\n",
        "!pip install boto3\n",
        "!pip install Levenshtein\n",
        "!pip install python-Levenshtein\n",
        "!pip install azure-cognitiveservices-vision-computervision boto3\n",
        "!apt-get install -y tesseract-ocr\n",
        "!pip install pytesseract"
      ]
    },
    {
      "cell_type": "code",
      "execution_count": null,
      "metadata": {
        "colab": {
          "base_uri": "https://localhost:8080/"
        },
        "id": "fCodLq9uMwxB",
        "outputId": "822b9c1e-6522-462a-dc49-51bc00f35026"
      },
      "outputs": [
        {
          "name": "stdout",
          "output_type": "stream",
          "text": [
            "Mounted at /content/drive\n"
          ]
        }
      ],
      "source": [
        "from google.colab import drive\n",
        "drive.mount('/content/drive')"
      ]
    },
    {
      "cell_type": "code",
      "execution_count": null,
      "metadata": {
        "id": "u3Xha2JuNHGX"
      },
      "outputs": [],
      "source": [
        "import os\n",
        "import zipfile\n",
        "import json\n",
        "import random\n",
        "import time\n",
        "from azure.cognitiveservices.vision.computervision import ComputerVisionClient\n",
        "from azure.cognitiveservices.vision.computervision.models import OperationStatusCodes\n",
        "from msrest.authentication import CognitiveServicesCredentials\n",
        "import requests\n",
        "import boto3\n",
        "from difflib import SequenceMatcher\n",
        "import logging\n",
        "from openai import OpenAI\n",
        "import Levenshtein\n",
        "import pytesseract\n",
        "from PIL import Image"
      ]
    },
    {
      "cell_type": "code",
      "execution_count": null,
      "metadata": {
        "id": "NCEZ0-1SOyCI"
      },
      "outputs": [],
      "source": [
        "folder = \"/content/drive/MyDrive/vision_datasets/SROIE2019\"\n",
        "\n",
        "#folder=\"/content/test_data/test\"\n",
        "#folder=r\"C:\\Users\\franc\\OneDrive\\Desktop\\vision project\\ICDAR FOCUSED SCENE TEXT\""
      ]
    },
    {
      "cell_type": "code",
      "execution_count": null,
      "metadata": {
        "id": "whHKnZ09OFyX"
      },
      "outputs": [],
      "source": [
        "max_size = 1 * 1024 * 1024\n",
        "\n",
        "image_folder=os.path.join(folder,\"task1&2_test(361p)\")\n",
        "text_folder=os.path.join(folder,\"text.task1&2-test（361p)\")\n",
        "\n",
        "images_paths = sorted(\n",
        "    [os.path.join(image_folder, file) for file in os.listdir(image_folder) if file.endswith((\".jpg\", \".png\", \".jpeg\")) and os.path.getsize(os.path.join(image_folder, file)) < max_size]\n",
        ")\n"
      ]
    },
    {
      "cell_type": "code",
      "execution_count": null,
      "metadata": {
        "id": "5pfd-fcCzFfg"
      },
      "outputs": [],
      "source": [
        "import re"
      ]
    },
    {
      "cell_type": "code",
      "execution_count": null,
      "metadata": {
        "colab": {
          "base_uri": "https://localhost:8080/"
        },
        "id": "aur74INMNXtk",
        "outputId": "640abac4-fd01-4190-e0b5-64222e62351c"
      },
      "outputs": [
        {
          "data": {
            "text/plain": [
              "['/content/drive/MyDrive/vision_datasets/SROIE2019/task1&2_test(361p)/X00016469670.jpg',\n",
              " '/content/drive/MyDrive/vision_datasets/SROIE2019/task1&2_test(361p)/X00016469671.jpg',\n",
              " '/content/drive/MyDrive/vision_datasets/SROIE2019/task1&2_test(361p)/X51005200931.jpg',\n",
              " '/content/drive/MyDrive/vision_datasets/SROIE2019/task1&2_test(361p)/X51005230605.jpg',\n",
              " '/content/drive/MyDrive/vision_datasets/SROIE2019/task1&2_test(361p)/X51005230616.jpg',\n",
              " '/content/drive/MyDrive/vision_datasets/SROIE2019/task1&2_test(361p)/X51005230621.jpg',\n",
              " '/content/drive/MyDrive/vision_datasets/SROIE2019/task1&2_test(361p)/X51005230648.jpg',\n",
              " '/content/drive/MyDrive/vision_datasets/SROIE2019/task1&2_test(361p)/X51005230657.jpg',\n",
              " '/content/drive/MyDrive/vision_datasets/SROIE2019/task1&2_test(361p)/X51005230659.jpg',\n",
              " '/content/drive/MyDrive/vision_datasets/SROIE2019/task1&2_test(361p)/X51005268275.jpg',\n",
              " '/content/drive/MyDrive/vision_datasets/SROIE2019/task1&2_test(361p)/X51005268408.jpg',\n",
              " '/content/drive/MyDrive/vision_datasets/SROIE2019/task1&2_test(361p)/X51005288570.jpg',\n",
              " '/content/drive/MyDrive/vision_datasets/SROIE2019/task1&2_test(361p)/X51005301666.jpg',\n",
              " '/content/drive/MyDrive/vision_datasets/SROIE2019/task1&2_test(361p)/X51005337867.jpg',\n",
              " '/content/drive/MyDrive/vision_datasets/SROIE2019/task1&2_test(361p)/X51005337877.jpg',\n",
              " '/content/drive/MyDrive/vision_datasets/SROIE2019/task1&2_test(361p)/X51005361906.jpg',\n",
              " '/content/drive/MyDrive/vision_datasets/SROIE2019/task1&2_test(361p)/X51005361912.jpg',\n",
              " '/content/drive/MyDrive/vision_datasets/SROIE2019/task1&2_test(361p)/X51005361923.jpg',\n",
              " '/content/drive/MyDrive/vision_datasets/SROIE2019/task1&2_test(361p)/X51005365187.jpg',\n",
              " '/content/drive/MyDrive/vision_datasets/SROIE2019/task1&2_test(361p)/X51005433518.jpg',\n",
              " '/content/drive/MyDrive/vision_datasets/SROIE2019/task1&2_test(361p)/X51005433543.jpg',\n",
              " '/content/drive/MyDrive/vision_datasets/SROIE2019/task1&2_test(361p)/X51005433548.jpg',\n",
              " '/content/drive/MyDrive/vision_datasets/SROIE2019/task1&2_test(361p)/X51005433556.jpg',\n",
              " '/content/drive/MyDrive/vision_datasets/SROIE2019/task1&2_test(361p)/X51005442322.jpg',\n",
              " '/content/drive/MyDrive/vision_datasets/SROIE2019/task1&2_test(361p)/X51005442334.jpg',\n",
              " '/content/drive/MyDrive/vision_datasets/SROIE2019/task1&2_test(361p)/X51005442343.jpg',\n",
              " '/content/drive/MyDrive/vision_datasets/SROIE2019/task1&2_test(361p)/X51005442366.jpg',\n",
              " '/content/drive/MyDrive/vision_datasets/SROIE2019/task1&2_test(361p)/X51005442375.jpg',\n",
              " '/content/drive/MyDrive/vision_datasets/SROIE2019/task1&2_test(361p)/X51005442382.jpg',\n",
              " '/content/drive/MyDrive/vision_datasets/SROIE2019/task1&2_test(361p)/X51005442388.jpg',\n",
              " '/content/drive/MyDrive/vision_datasets/SROIE2019/task1&2_test(361p)/X51005444040.jpg',\n",
              " '/content/drive/MyDrive/vision_datasets/SROIE2019/task1&2_test(361p)/X51005444041.jpg',\n",
              " '/content/drive/MyDrive/vision_datasets/SROIE2019/task1&2_test(361p)/X51005444044.jpg',\n",
              " '/content/drive/MyDrive/vision_datasets/SROIE2019/task1&2_test(361p)/X51005444046.jpg',\n",
              " '/content/drive/MyDrive/vision_datasets/SROIE2019/task1&2_test(361p)/X51005447841.jpg',\n",
              " '/content/drive/MyDrive/vision_datasets/SROIE2019/task1&2_test(361p)/X51005447842.jpg',\n",
              " '/content/drive/MyDrive/vision_datasets/SROIE2019/task1&2_test(361p)/X51005447844.jpg',\n",
              " '/content/drive/MyDrive/vision_datasets/SROIE2019/task1&2_test(361p)/X51005447851.jpg',\n",
              " '/content/drive/MyDrive/vision_datasets/SROIE2019/task1&2_test(361p)/X51005447859.jpg',\n",
              " '/content/drive/MyDrive/vision_datasets/SROIE2019/task1&2_test(361p)/X51005568855.jpg',\n",
              " '/content/drive/MyDrive/vision_datasets/SROIE2019/task1&2_test(361p)/X51005568866.jpg',\n",
              " '/content/drive/MyDrive/vision_datasets/SROIE2019/task1&2_test(361p)/X51005568885.jpg',\n",
              " '/content/drive/MyDrive/vision_datasets/SROIE2019/task1&2_test(361p)/X51005568887.jpg',\n",
              " '/content/drive/MyDrive/vision_datasets/SROIE2019/task1&2_test(361p)/X51005568889.jpg',\n",
              " '/content/drive/MyDrive/vision_datasets/SROIE2019/task1&2_test(361p)/X51005568890.jpg',\n",
              " '/content/drive/MyDrive/vision_datasets/SROIE2019/task1&2_test(361p)/X51005568892.jpg',\n",
              " '/content/drive/MyDrive/vision_datasets/SROIE2019/task1&2_test(361p)/X51005568894.jpg',\n",
              " '/content/drive/MyDrive/vision_datasets/SROIE2019/task1&2_test(361p)/X51005568895.jpg',\n",
              " '/content/drive/MyDrive/vision_datasets/SROIE2019/task1&2_test(361p)/X51005577191.jpg',\n",
              " '/content/drive/MyDrive/vision_datasets/SROIE2019/task1&2_test(361p)/X51005582745.jpg',\n",
              " '/content/drive/MyDrive/vision_datasets/SROIE2019/task1&2_test(361p)/X51005587261.jpg',\n",
              " '/content/drive/MyDrive/vision_datasets/SROIE2019/task1&2_test(361p)/X51005605287.jpg',\n",
              " '/content/drive/MyDrive/vision_datasets/SROIE2019/task1&2_test(361p)/X51005605295.jpg',\n",
              " '/content/drive/MyDrive/vision_datasets/SROIE2019/task1&2_test(361p)/X51005605332.jpg',\n",
              " '/content/drive/MyDrive/vision_datasets/SROIE2019/task1&2_test(361p)/X51005621482.jpg',\n",
              " '/content/drive/MyDrive/vision_datasets/SROIE2019/task1&2_test(361p)/X51005663274.jpg',\n",
              " '/content/drive/MyDrive/vision_datasets/SROIE2019/task1&2_test(361p)/X51005663300.jpg',\n",
              " '/content/drive/MyDrive/vision_datasets/SROIE2019/task1&2_test(361p)/X51005663307.jpg',\n",
              " '/content/drive/MyDrive/vision_datasets/SROIE2019/task1&2_test(361p)/X51005663309.jpg',\n",
              " '/content/drive/MyDrive/vision_datasets/SROIE2019/task1&2_test(361p)/X51005663310.jpg',\n",
              " '/content/drive/MyDrive/vision_datasets/SROIE2019/task1&2_test(361p)/X51005663323.jpg',\n",
              " '/content/drive/MyDrive/vision_datasets/SROIE2019/task1&2_test(361p)/X51005675099.jpg',\n",
              " '/content/drive/MyDrive/vision_datasets/SROIE2019/task1&2_test(361p)/X51005675103.jpg',\n",
              " '/content/drive/MyDrive/vision_datasets/SROIE2019/task1&2_test(361p)/X51005675104.jpg',\n",
              " '/content/drive/MyDrive/vision_datasets/SROIE2019/task1&2_test(361p)/X51005675914.jpg',\n",
              " '/content/drive/MyDrive/vision_datasets/SROIE2019/task1&2_test(361p)/X51005676534.jpg',\n",
              " '/content/drive/MyDrive/vision_datasets/SROIE2019/task1&2_test(361p)/X51005676535.jpg',\n",
              " '/content/drive/MyDrive/vision_datasets/SROIE2019/task1&2_test(361p)/X51005676537.jpg',\n",
              " '/content/drive/MyDrive/vision_datasets/SROIE2019/task1&2_test(361p)/X51005676542.jpg',\n",
              " '/content/drive/MyDrive/vision_datasets/SROIE2019/task1&2_test(361p)/X51005676548.jpg',\n",
              " '/content/drive/MyDrive/vision_datasets/SROIE2019/task1&2_test(361p)/X51005677327.jpg',\n",
              " '/content/drive/MyDrive/vision_datasets/SROIE2019/task1&2_test(361p)/X51005677333.jpg',\n",
              " '/content/drive/MyDrive/vision_datasets/SROIE2019/task1&2_test(361p)/X51005677336.jpg',\n",
              " '/content/drive/MyDrive/vision_datasets/SROIE2019/task1&2_test(361p)/X51005677337.jpg',\n",
              " '/content/drive/MyDrive/vision_datasets/SROIE2019/task1&2_test(361p)/X510056849111.jpg',\n",
              " '/content/drive/MyDrive/vision_datasets/SROIE2019/task1&2_test(361p)/X51005684949.jpg',\n",
              " '/content/drive/MyDrive/vision_datasets/SROIE2019/task1&2_test(361p)/X51005705727.jpg',\n",
              " '/content/drive/MyDrive/vision_datasets/SROIE2019/task1&2_test(361p)/X51005705729.jpg',\n",
              " '/content/drive/MyDrive/vision_datasets/SROIE2019/task1&2_test(361p)/X51005705784.jpg',\n",
              " '/content/drive/MyDrive/vision_datasets/SROIE2019/task1&2_test(361p)/X51005710963.jpg',\n",
              " '/content/drive/MyDrive/vision_datasets/SROIE2019/task1&2_test(361p)/X51005711402.jpg',\n",
              " '/content/drive/MyDrive/vision_datasets/SROIE2019/task1&2_test(361p)/X51005711443.jpg',\n",
              " '/content/drive/MyDrive/vision_datasets/SROIE2019/task1&2_test(361p)/X51005711444.jpg',\n",
              " '/content/drive/MyDrive/vision_datasets/SROIE2019/task1&2_test(361p)/X51005711446.jpg',\n",
              " '/content/drive/MyDrive/vision_datasets/SROIE2019/task1&2_test(361p)/X51005711449.jpg',\n",
              " '/content/drive/MyDrive/vision_datasets/SROIE2019/task1&2_test(361p)/X51005715006.jpg',\n",
              " '/content/drive/MyDrive/vision_datasets/SROIE2019/task1&2_test(361p)/X51005715007.jpg',\n",
              " '/content/drive/MyDrive/vision_datasets/SROIE2019/task1&2_test(361p)/X51005715455.jpg',\n",
              " '/content/drive/MyDrive/vision_datasets/SROIE2019/task1&2_test(361p)/X51005719823.jpg',\n",
              " '/content/drive/MyDrive/vision_datasets/SROIE2019/task1&2_test(361p)/X51005719855.jpg',\n",
              " '/content/drive/MyDrive/vision_datasets/SROIE2019/task1&2_test(361p)/X51005719857.jpg',\n",
              " '/content/drive/MyDrive/vision_datasets/SROIE2019/task1&2_test(361p)/X51005719863.jpg',\n",
              " '/content/drive/MyDrive/vision_datasets/SROIE2019/task1&2_test(361p)/X51005719888.jpg',\n",
              " '/content/drive/MyDrive/vision_datasets/SROIE2019/task1&2_test(361p)/X51005719889.jpg',\n",
              " '/content/drive/MyDrive/vision_datasets/SROIE2019/task1&2_test(361p)/X51005719895.jpg',\n",
              " '/content/drive/MyDrive/vision_datasets/SROIE2019/task1&2_test(361p)/X51005719898.jpg',\n",
              " '/content/drive/MyDrive/vision_datasets/SROIE2019/task1&2_test(361p)/X51005719903.jpg',\n",
              " '/content/drive/MyDrive/vision_datasets/SROIE2019/task1&2_test(361p)/X51005719905.jpg',\n",
              " '/content/drive/MyDrive/vision_datasets/SROIE2019/task1&2_test(361p)/X51005724552.jpg',\n",
              " '/content/drive/MyDrive/vision_datasets/SROIE2019/task1&2_test(361p)/X51005724609.jpg',\n",
              " '/content/drive/MyDrive/vision_datasets/SROIE2019/task1&2_test(361p)/X51005724611.jpg',\n",
              " '/content/drive/MyDrive/vision_datasets/SROIE2019/task1&2_test(361p)/X51005724622.jpg',\n",
              " '/content/drive/MyDrive/vision_datasets/SROIE2019/task1&2_test(361p)/X51005724623.jpg',\n",
              " '/content/drive/MyDrive/vision_datasets/SROIE2019/task1&2_test(361p)/X51005724624.jpg',\n",
              " '/content/drive/MyDrive/vision_datasets/SROIE2019/task1&2_test(361p)/X51005724625.jpg',\n",
              " '/content/drive/MyDrive/vision_datasets/SROIE2019/task1&2_test(361p)/X51005724626.jpg',\n",
              " '/content/drive/MyDrive/vision_datasets/SROIE2019/task1&2_test(361p)/X51005724628.jpg',\n",
              " '/content/drive/MyDrive/vision_datasets/SROIE2019/task1&2_test(361p)/X51005741929.jpg',\n",
              " '/content/drive/MyDrive/vision_datasets/SROIE2019/task1&2_test(361p)/X51005742110.jpg',\n",
              " '/content/drive/MyDrive/vision_datasets/SROIE2019/task1&2_test(361p)/X51005745213.jpg',\n",
              " '/content/drive/MyDrive/vision_datasets/SROIE2019/task1&2_test(361p)/X51005745244.jpg',\n",
              " '/content/drive/MyDrive/vision_datasets/SROIE2019/task1&2_test(361p)/X51005745298.jpg',\n",
              " '/content/drive/MyDrive/vision_datasets/SROIE2019/task1&2_test(361p)/X51005746203.jpg',\n",
              " '/content/drive/MyDrive/vision_datasets/SROIE2019/task1&2_test(361p)/X51005746204.jpg',\n",
              " '/content/drive/MyDrive/vision_datasets/SROIE2019/task1&2_test(361p)/X51005746206.jpg',\n",
              " '/content/drive/MyDrive/vision_datasets/SROIE2019/task1&2_test(361p)/X51005746207.jpg',\n",
              " '/content/drive/MyDrive/vision_datasets/SROIE2019/task1&2_test(361p)/X51005746210.jpg',\n",
              " '/content/drive/MyDrive/vision_datasets/SROIE2019/task1&2_test(361p)/X51005749904.jpg',\n",
              " '/content/drive/MyDrive/vision_datasets/SROIE2019/task1&2_test(361p)/X51005757220.jpg',\n",
              " '/content/drive/MyDrive/vision_datasets/SROIE2019/task1&2_test(361p)/X51005757233.jpg',\n",
              " '/content/drive/MyDrive/vision_datasets/SROIE2019/task1&2_test(361p)/X51005757282.jpg',\n",
              " '/content/drive/MyDrive/vision_datasets/SROIE2019/task1&2_test(361p)/X51005757292.jpg',\n",
              " '/content/drive/MyDrive/vision_datasets/SROIE2019/task1&2_test(361p)/X51005757308.jpg',\n",
              " '/content/drive/MyDrive/vision_datasets/SROIE2019/task1&2_test(361p)/X51005757342.jpg',\n",
              " '/content/drive/MyDrive/vision_datasets/SROIE2019/task1&2_test(361p)/X51005763958.jpg',\n",
              " '/content/drive/MyDrive/vision_datasets/SROIE2019/task1&2_test(361p)/X51005763964.jpg',\n",
              " '/content/drive/MyDrive/vision_datasets/SROIE2019/task1&2_test(361p)/X51005763999.jpg',\n",
              " '/content/drive/MyDrive/vision_datasets/SROIE2019/task1&2_test(361p)/X51005764031.jpg',\n",
              " '/content/drive/MyDrive/vision_datasets/SROIE2019/task1&2_test(361p)/X51005764154.jpg',\n",
              " '/content/drive/MyDrive/vision_datasets/SROIE2019/task1&2_test(361p)/X51005764161.jpg',\n",
              " '/content/drive/MyDrive/vision_datasets/SROIE2019/task1&2_test(361p)/X51005806692.jpg',\n",
              " '/content/drive/MyDrive/vision_datasets/SROIE2019/task1&2_test(361p)/X51005806695.jpg',\n",
              " '/content/drive/MyDrive/vision_datasets/SROIE2019/task1&2_test(361p)/X51005806696.jpg',\n",
              " '/content/drive/MyDrive/vision_datasets/SROIE2019/task1&2_test(361p)/X51005806718.jpg',\n",
              " '/content/drive/MyDrive/vision_datasets/SROIE2019/task1&2_test(361p)/X51005806719.jpg',\n",
              " '/content/drive/MyDrive/vision_datasets/SROIE2019/task1&2_test(361p)/X51005806720.jpg',\n",
              " '/content/drive/MyDrive/vision_datasets/SROIE2019/task1&2_test(361p)/X51006008081.jpg',\n",
              " '/content/drive/MyDrive/vision_datasets/SROIE2019/task1&2_test(361p)/X51006008082.jpg',\n",
              " '/content/drive/MyDrive/vision_datasets/SROIE2019/task1&2_test(361p)/X51006008083.jpg',\n",
              " '/content/drive/MyDrive/vision_datasets/SROIE2019/task1&2_test(361p)/X51006008090.jpg',\n",
              " '/content/drive/MyDrive/vision_datasets/SROIE2019/task1&2_test(361p)/X51006008092.jpg',\n",
              " '/content/drive/MyDrive/vision_datasets/SROIE2019/task1&2_test(361p)/X51006008093.jpg',\n",
              " '/content/drive/MyDrive/vision_datasets/SROIE2019/task1&2_test(361p)/X51006008105.jpg',\n",
              " '/content/drive/MyDrive/vision_datasets/SROIE2019/task1&2_test(361p)/X51006008166.jpg',\n",
              " '/content/drive/MyDrive/vision_datasets/SROIE2019/task1&2_test(361p)/X51006008206.jpg',\n",
              " '/content/drive/MyDrive/vision_datasets/SROIE2019/task1&2_test(361p)/X51006248253.jpg',\n",
              " '/content/drive/MyDrive/vision_datasets/SROIE2019/task1&2_test(361p)/X51006311714.jpg',\n",
              " '/content/drive/MyDrive/vision_datasets/SROIE2019/task1&2_test(361p)/X51006327953.jpg',\n",
              " '/content/drive/MyDrive/vision_datasets/SROIE2019/task1&2_test(361p)/X51006327960.jpg',\n",
              " '/content/drive/MyDrive/vision_datasets/SROIE2019/task1&2_test(361p)/X51006328345.jpg',\n",
              " '/content/drive/MyDrive/vision_datasets/SROIE2019/task1&2_test(361p)/X51006328937.jpg',\n",
              " '/content/drive/MyDrive/vision_datasets/SROIE2019/task1&2_test(361p)/X51006328967.jpg',\n",
              " '/content/drive/MyDrive/vision_datasets/SROIE2019/task1&2_test(361p)/X51006329183.jpg',\n",
              " '/content/drive/MyDrive/vision_datasets/SROIE2019/task1&2_test(361p)/X51006329388.jpg',\n",
              " '/content/drive/MyDrive/vision_datasets/SROIE2019/task1&2_test(361p)/X51006332641.jpg',\n",
              " '/content/drive/MyDrive/vision_datasets/SROIE2019/task1&2_test(361p)/X51006334139.jpg',\n",
              " '/content/drive/MyDrive/vision_datasets/SROIE2019/task1&2_test(361p)/X51006334742.jpg',\n",
              " '/content/drive/MyDrive/vision_datasets/SROIE2019/task1&2_test(361p)/X51006334766.jpg',\n",
              " '/content/drive/MyDrive/vision_datasets/SROIE2019/task1&2_test(361p)/X51006334770.jpg',\n",
              " '/content/drive/MyDrive/vision_datasets/SROIE2019/task1&2_test(361p)/X51006334819.jpg',\n",
              " '/content/drive/MyDrive/vision_datasets/SROIE2019/task1&2_test(361p)/X51006334927.jpg',\n",
              " '/content/drive/MyDrive/vision_datasets/SROIE2019/task1&2_test(361p)/X51006335818.jpg',\n",
              " '/content/drive/MyDrive/vision_datasets/SROIE2019/task1&2_test(361p)/X51006349081.jpg',\n",
              " '/content/drive/MyDrive/vision_datasets/SROIE2019/task1&2_test(361p)/X51006349083.jpg',\n",
              " '/content/drive/MyDrive/vision_datasets/SROIE2019/task1&2_test(361p)/X51006349085.jpg',\n",
              " '/content/drive/MyDrive/vision_datasets/SROIE2019/task1&2_test(361p)/X51006350737.jpg',\n",
              " '/content/drive/MyDrive/vision_datasets/SROIE2019/task1&2_test(361p)/X51006387660.jpg',\n",
              " '/content/drive/MyDrive/vision_datasets/SROIE2019/task1&2_test(361p)/X51006387737.jpg',\n",
              " '/content/drive/MyDrive/vision_datasets/SROIE2019/task1&2_test(361p)/X51006387931.jpg',\n",
              " '/content/drive/MyDrive/vision_datasets/SROIE2019/task1&2_test(361p)/X51006387950.jpg',\n",
              " '/content/drive/MyDrive/vision_datasets/SROIE2019/task1&2_test(361p)/X51006387973.jpg',\n",
              " '/content/drive/MyDrive/vision_datasets/SROIE2019/task1&2_test(361p)/X51006388068.jpg',\n",
              " '/content/drive/MyDrive/vision_datasets/SROIE2019/task1&2_test(361p)/X51006388081.jpg',\n",
              " '/content/drive/MyDrive/vision_datasets/SROIE2019/task1&2_test(361p)/X51006388089.jpg',\n",
              " '/content/drive/MyDrive/vision_datasets/SROIE2019/task1&2_test(361p)/X51006389894.jpg',\n",
              " '/content/drive/MyDrive/vision_datasets/SROIE2019/task1&2_test(361p)/X51006389898.jpg',\n",
              " '/content/drive/MyDrive/vision_datasets/SROIE2019/task1&2_test(361p)/X51006392167.jpg',\n",
              " '/content/drive/MyDrive/vision_datasets/SROIE2019/task1&2_test(361p)/X51006401845.jpg',\n",
              " '/content/drive/MyDrive/vision_datasets/SROIE2019/task1&2_test(361p)/X51006401853.jpg',\n",
              " '/content/drive/MyDrive/vision_datasets/SROIE2019/task1&2_test(361p)/X51006401940.jpg',\n",
              " '/content/drive/MyDrive/vision_datasets/SROIE2019/task1&2_test(361p)/X51006401977.jpg',\n",
              " '/content/drive/MyDrive/vision_datasets/SROIE2019/task1&2_test(361p)/X51006438346.jpg',\n",
              " '/content/drive/MyDrive/vision_datasets/SROIE2019/task1&2_test(361p)/X51006466070.jpg',\n",
              " '/content/drive/MyDrive/vision_datasets/SROIE2019/task1&2_test(361p)/X51006502534.jpg',\n",
              " '/content/drive/MyDrive/vision_datasets/SROIE2019/task1&2_test(361p)/X51006502535.jpg',\n",
              " '/content/drive/MyDrive/vision_datasets/SROIE2019/task1&2_test(361p)/X51006502540.jpg',\n",
              " '/content/drive/MyDrive/vision_datasets/SROIE2019/task1&2_test(361p)/X51006554841.jpg',\n",
              " '/content/drive/MyDrive/vision_datasets/SROIE2019/task1&2_test(361p)/X51006555819.jpg',\n",
              " '/content/drive/MyDrive/vision_datasets/SROIE2019/task1&2_test(361p)/X51006555833.jpg',\n",
              " '/content/drive/MyDrive/vision_datasets/SROIE2019/task1&2_test(361p)/X51006555835.jpg',\n",
              " '/content/drive/MyDrive/vision_datasets/SROIE2019/task1&2_test(361p)/X51006556603.jpg',\n",
              " '/content/drive/MyDrive/vision_datasets/SROIE2019/task1&2_test(361p)/X51006556610.jpg',\n",
              " '/content/drive/MyDrive/vision_datasets/SROIE2019/task1&2_test(361p)/X51006556648.jpg',\n",
              " '/content/drive/MyDrive/vision_datasets/SROIE2019/task1&2_test(361p)/X51006556654.jpg',\n",
              " '/content/drive/MyDrive/vision_datasets/SROIE2019/task1&2_test(361p)/X51006556657.jpg',\n",
              " '/content/drive/MyDrive/vision_datasets/SROIE2019/task1&2_test(361p)/X51006556658.jpg',\n",
              " '/content/drive/MyDrive/vision_datasets/SROIE2019/task1&2_test(361p)/X51006556723.jpg',\n",
              " '/content/drive/MyDrive/vision_datasets/SROIE2019/task1&2_test(361p)/X51006556728.jpg',\n",
              " '/content/drive/MyDrive/vision_datasets/SROIE2019/task1&2_test(361p)/X51006556734.jpg',\n",
              " '/content/drive/MyDrive/vision_datasets/SROIE2019/task1&2_test(361p)/X51006556740.jpg',\n",
              " '/content/drive/MyDrive/vision_datasets/SROIE2019/task1&2_test(361p)/X51006556806.jpg',\n",
              " '/content/drive/MyDrive/vision_datasets/SROIE2019/task1&2_test(361p)/X51006556808.jpg',\n",
              " '/content/drive/MyDrive/vision_datasets/SROIE2019/task1&2_test(361p)/X51006556809.jpg',\n",
              " '/content/drive/MyDrive/vision_datasets/SROIE2019/task1&2_test(361p)/X51006556810.jpg',\n",
              " '/content/drive/MyDrive/vision_datasets/SROIE2019/task1&2_test(361p)/X51006556812.jpg',\n",
              " '/content/drive/MyDrive/vision_datasets/SROIE2019/task1&2_test(361p)/X51006556821.jpg',\n",
              " '/content/drive/MyDrive/vision_datasets/SROIE2019/task1&2_test(361p)/X51006556826.jpg',\n",
              " '/content/drive/MyDrive/vision_datasets/SROIE2019/task1&2_test(361p)/X51006556827.jpg',\n",
              " '/content/drive/MyDrive/vision_datasets/SROIE2019/task1&2_test(361p)/X51006556829.jpg',\n",
              " '/content/drive/MyDrive/vision_datasets/SROIE2019/task1&2_test(361p)/X51006556851.jpg',\n",
              " '/content/drive/MyDrive/vision_datasets/SROIE2019/task1&2_test(361p)/X51006556865.jpg',\n",
              " '/content/drive/MyDrive/vision_datasets/SROIE2019/task1&2_test(361p)/X51006557115.jpg',\n",
              " '/content/drive/MyDrive/vision_datasets/SROIE2019/task1&2_test(361p)/X51006557169.jpg',\n",
              " '/content/drive/MyDrive/vision_datasets/SROIE2019/task1&2_test(361p)/X51006557173.jpg',\n",
              " '/content/drive/MyDrive/vision_datasets/SROIE2019/task1&2_test(361p)/X51006557187.jpg',\n",
              " '/content/drive/MyDrive/vision_datasets/SROIE2019/task1&2_test(361p)/X51006557194.jpg',\n",
              " '/content/drive/MyDrive/vision_datasets/SROIE2019/task1&2_test(361p)/X51006557196.jpg',\n",
              " '/content/drive/MyDrive/vision_datasets/SROIE2019/task1&2_test(361p)/X51006557208.jpg',\n",
              " '/content/drive/MyDrive/vision_datasets/SROIE2019/task1&2_test(361p)/X51006557209.jpg',\n",
              " '/content/drive/MyDrive/vision_datasets/SROIE2019/task1&2_test(361p)/X51006557507.jpg',\n",
              " '/content/drive/MyDrive/vision_datasets/SROIE2019/task1&2_test(361p)/X51006619328.jpg',\n",
              " '/content/drive/MyDrive/vision_datasets/SROIE2019/task1&2_test(361p)/X51006619338.jpg',\n",
              " '/content/drive/MyDrive/vision_datasets/SROIE2019/task1&2_test(361p)/X51006619345.jpg',\n",
              " '/content/drive/MyDrive/vision_datasets/SROIE2019/task1&2_test(361p)/X51006619346.jpg',\n",
              " '/content/drive/MyDrive/vision_datasets/SROIE2019/task1&2_test(361p)/X51006619503.jpg',\n",
              " '/content/drive/MyDrive/vision_datasets/SROIE2019/task1&2_test(361p)/X51006619506.jpg',\n",
              " '/content/drive/MyDrive/vision_datasets/SROIE2019/task1&2_test(361p)/X51006619507.jpg',\n",
              " '/content/drive/MyDrive/vision_datasets/SROIE2019/task1&2_test(361p)/X51006619509.jpg',\n",
              " '/content/drive/MyDrive/vision_datasets/SROIE2019/task1&2_test(361p)/X51006619564.jpg',\n",
              " '/content/drive/MyDrive/vision_datasets/SROIE2019/task1&2_test(361p)/X51006619567.jpg',\n",
              " '/content/drive/MyDrive/vision_datasets/SROIE2019/task1&2_test(361p)/X51006619569.jpg',\n",
              " '/content/drive/MyDrive/vision_datasets/SROIE2019/task1&2_test(361p)/X51006619700.jpg',\n",
              " '/content/drive/MyDrive/vision_datasets/SROIE2019/task1&2_test(361p)/X51006619703.jpg',\n",
              " '/content/drive/MyDrive/vision_datasets/SROIE2019/task1&2_test(361p)/X51006619704.jpg',\n",
              " '/content/drive/MyDrive/vision_datasets/SROIE2019/task1&2_test(361p)/X51006619757.jpg',\n",
              " '/content/drive/MyDrive/vision_datasets/SROIE2019/task1&2_test(361p)/X51006619760.jpg',\n",
              " '/content/drive/MyDrive/vision_datasets/SROIE2019/task1&2_test(361p)/X51006619764.jpg',\n",
              " '/content/drive/MyDrive/vision_datasets/SROIE2019/task1&2_test(361p)/X51006619766.jpg',\n",
              " '/content/drive/MyDrive/vision_datasets/SROIE2019/task1&2_test(361p)/X51006619779.jpg',\n",
              " '/content/drive/MyDrive/vision_datasets/SROIE2019/task1&2_test(361p)/X51006619782.jpg',\n",
              " '/content/drive/MyDrive/vision_datasets/SROIE2019/task1&2_test(361p)/X51006619784.jpg',\n",
              " '/content/drive/MyDrive/vision_datasets/SROIE2019/task1&2_test(361p)/X51006619790.jpg',\n",
              " '/content/drive/MyDrive/vision_datasets/SROIE2019/task1&2_test(361p)/X51006619842.jpg',\n",
              " '/content/drive/MyDrive/vision_datasets/SROIE2019/task1&2_test(361p)/X51006619863.jpg',\n",
              " '/content/drive/MyDrive/vision_datasets/SROIE2019/task1&2_test(361p)/X51006619869.jpg',\n",
              " '/content/drive/MyDrive/vision_datasets/SROIE2019/task1&2_test(361p)/X51006620175.jpg',\n",
              " '/content/drive/MyDrive/vision_datasets/SROIE2019/task1&2_test(361p)/X51006620182.jpg',\n",
              " '/content/drive/MyDrive/vision_datasets/SROIE2019/task1&2_test(361p)/X51006620192.jpg',\n",
              " '/content/drive/MyDrive/vision_datasets/SROIE2019/task1&2_test(361p)/X51006620437.jpg',\n",
              " '/content/drive/MyDrive/vision_datasets/SROIE2019/task1&2_test(361p)/X51006647933.jpg',\n",
              " '/content/drive/MyDrive/vision_datasets/SROIE2019/task1&2_test(361p)/X51006647984.jpg',\n",
              " '/content/drive/MyDrive/vision_datasets/SROIE2019/task1&2_test(361p)/X51006714066.jpg',\n",
              " '/content/drive/MyDrive/vision_datasets/SROIE2019/task1&2_test(361p)/X51006733495.jpg',\n",
              " '/content/drive/MyDrive/vision_datasets/SROIE2019/task1&2_test(361p)/X51006828199.jpg',\n",
              " '/content/drive/MyDrive/vision_datasets/SROIE2019/task1&2_test(361p)/X51006828200.jpg',\n",
              " '/content/drive/MyDrive/vision_datasets/SROIE2019/task1&2_test(361p)/X51006828201.jpg',\n",
              " '/content/drive/MyDrive/vision_datasets/SROIE2019/task1&2_test(361p)/X51006856982.jpg',\n",
              " '/content/drive/MyDrive/vision_datasets/SROIE2019/task1&2_test(361p)/X51006857126.jpg',\n",
              " '/content/drive/MyDrive/vision_datasets/SROIE2019/task1&2_test(361p)/X51006857132.jpg',\n",
              " '/content/drive/MyDrive/vision_datasets/SROIE2019/task1&2_test(361p)/X51006857137.jpg',\n",
              " '/content/drive/MyDrive/vision_datasets/SROIE2019/task1&2_test(361p)/X51006857540.jpg',\n",
              " '/content/drive/MyDrive/vision_datasets/SROIE2019/task1&2_test(361p)/X51007103597.jpg',\n",
              " '/content/drive/MyDrive/vision_datasets/SROIE2019/task1&2_test(361p)/X51007103610.jpg',\n",
              " '/content/drive/MyDrive/vision_datasets/SROIE2019/task1&2_test(361p)/X51007103649.jpg',\n",
              " '/content/drive/MyDrive/vision_datasets/SROIE2019/task1&2_test(361p)/X51007103668.jpg',\n",
              " '/content/drive/MyDrive/vision_datasets/SROIE2019/task1&2_test(361p)/X51007103687.jpg',\n",
              " '/content/drive/MyDrive/vision_datasets/SROIE2019/task1&2_test(361p)/X51007225406.jpg',\n",
              " '/content/drive/MyDrive/vision_datasets/SROIE2019/task1&2_test(361p)/X51007231274.jpg',\n",
              " '/content/drive/MyDrive/vision_datasets/SROIE2019/task1&2_test(361p)/X51007231275.jpg',\n",
              " '/content/drive/MyDrive/vision_datasets/SROIE2019/task1&2_test(361p)/X51007231276.jpg',\n",
              " '/content/drive/MyDrive/vision_datasets/SROIE2019/task1&2_test(361p)/X51007231331.jpg',\n",
              " '/content/drive/MyDrive/vision_datasets/SROIE2019/task1&2_test(361p)/X51007231341.jpg',\n",
              " '/content/drive/MyDrive/vision_datasets/SROIE2019/task1&2_test(361p)/X51007231343.jpg',\n",
              " '/content/drive/MyDrive/vision_datasets/SROIE2019/task1&2_test(361p)/X51007231346.jpg',\n",
              " '/content/drive/MyDrive/vision_datasets/SROIE2019/task1&2_test(361p)/X51007339105.jpg',\n",
              " '/content/drive/MyDrive/vision_datasets/SROIE2019/task1&2_test(361p)/X51007339109.jpg',\n",
              " '/content/drive/MyDrive/vision_datasets/SROIE2019/task1&2_test(361p)/X51007339116.jpg',\n",
              " '/content/drive/MyDrive/vision_datasets/SROIE2019/task1&2_test(361p)/X51007339119.jpg',\n",
              " '/content/drive/MyDrive/vision_datasets/SROIE2019/task1&2_test(361p)/X51007339121.jpg',\n",
              " '/content/drive/MyDrive/vision_datasets/SROIE2019/task1&2_test(361p)/X51007339122.jpg',\n",
              " '/content/drive/MyDrive/vision_datasets/SROIE2019/task1&2_test(361p)/X51007339125.jpg',\n",
              " '/content/drive/MyDrive/vision_datasets/SROIE2019/task1&2_test(361p)/X51007339127.jpg',\n",
              " '/content/drive/MyDrive/vision_datasets/SROIE2019/task1&2_test(361p)/X51007339134.jpg',\n",
              " '/content/drive/MyDrive/vision_datasets/SROIE2019/task1&2_test(361p)/X51007339159.jpg',\n",
              " '/content/drive/MyDrive/vision_datasets/SROIE2019/task1&2_test(361p)/X51007339160.jpg',\n",
              " '/content/drive/MyDrive/vision_datasets/SROIE2019/task1&2_test(361p)/X51007339161.jpg',\n",
              " '/content/drive/MyDrive/vision_datasets/SROIE2019/task1&2_test(361p)/X51007339163.jpg',\n",
              " '/content/drive/MyDrive/vision_datasets/SROIE2019/task1&2_test(361p)/X51007339638.jpg',\n",
              " '/content/drive/MyDrive/vision_datasets/SROIE2019/task1&2_test(361p)/X51007391390.jpg',\n",
              " '/content/drive/MyDrive/vision_datasets/SROIE2019/task1&2_test(361p)/X51007579714.jpg',\n",
              " '/content/drive/MyDrive/vision_datasets/SROIE2019/task1&2_test(361p)/X51007579719.jpg',\n",
              " '/content/drive/MyDrive/vision_datasets/SROIE2019/task1&2_test(361p)/X51007579725.jpg',\n",
              " '/content/drive/MyDrive/vision_datasets/SROIE2019/task1&2_test(361p)/X51008030561.jpg',\n",
              " '/content/drive/MyDrive/vision_datasets/SROIE2019/task1&2_test(361p)/X51008030563.jpg',\n",
              " '/content/drive/MyDrive/vision_datasets/SROIE2019/task1&2_test(361p)/X51008042779.jpg',\n",
              " '/content/drive/MyDrive/vision_datasets/SROIE2019/task1&2_test(361p)/X51008042780.jpg',\n",
              " '/content/drive/MyDrive/vision_datasets/SROIE2019/task1&2_test(361p)/X51008042781.jpg',\n",
              " '/content/drive/MyDrive/vision_datasets/SROIE2019/task1&2_test(361p)/X51008042786.jpg',\n",
              " '/content/drive/MyDrive/vision_datasets/SROIE2019/task1&2_test(361p)/X51008042787.jpg',\n",
              " '/content/drive/MyDrive/vision_datasets/SROIE2019/task1&2_test(361p)/X51008099047.jpg',\n",
              " '/content/drive/MyDrive/vision_datasets/SROIE2019/task1&2_test(361p)/X51008099086.jpg',\n",
              " '/content/drive/MyDrive/vision_datasets/SROIE2019/task1&2_test(361p)/X51008099088.jpg',\n",
              " '/content/drive/MyDrive/vision_datasets/SROIE2019/task1&2_test(361p)/X51008099090.jpg',\n",
              " '/content/drive/MyDrive/vision_datasets/SROIE2019/task1&2_test(361p)/X51008099100.jpg',\n",
              " '/content/drive/MyDrive/vision_datasets/SROIE2019/task1&2_test(361p)/X51009008091.jpg',\n",
              " '/content/drive/MyDrive/vision_datasets/SROIE2019/task1&2_test(361p)/X51009008095.jpg',\n",
              " '/content/drive/MyDrive/vision_datasets/SROIE2019/task1&2_test(361p)/X51009447842.jpg',\n",
              " '/content/drive/MyDrive/vision_datasets/SROIE2019/task1&2_test(361p)/X51009453729.jpg',\n",
              " '/content/drive/MyDrive/vision_datasets/SROIE2019/task1&2_test(361p)/X51009568881.jpg']"
            ]
          },
          "execution_count": 8,
          "metadata": {},
          "output_type": "execute_result"
        }
      ],
      "source": [
        "images_paths"
      ]
    },
    {
      "cell_type": "code",
      "execution_count": null,
      "metadata": {
        "colab": {
          "base_uri": "https://localhost:8080/"
        },
        "id": "BLmrBQ68zFfg",
        "outputId": "15ada21b-40b2-4d6e-c939-77821b1946ec"
      },
      "outputs": [
        {
          "name": "stdout",
          "output_type": "stream",
          "text": [
            "['PASARAYA BORONG PINTAR', 'SDN BHD', 'BR NO.: (124525-H)', 'MEDAN NIAGA TASIK DAMAI', 'GST NO.:', '14/03/2018 4:06:34PM', 'TAX INVOICE', 'TRN: CR0008955', 'COUNTER 3', 'CASHIER: 1', 'QTY UOM', 'UNIT AMT EXC. AMT INC. GST', 'PRICE', 'TAX', 'TAX CODE', 'GB CR-CORN', '1', 'WALK', '0.90', '0.90', '0.90', 'ZRL', '*TOTAL QTY: 1.00', '0.90', 'TOTAL INCLUDES GST 0%', '0.90', \"CUSTOMER'S PAYMENT\", 'CASH', 'CHANGE', '5.00', '4.10', 'GST SUMMARY', 'AMOUNT (RM)', 'TAX (RM)', 'ZRL = 0 %', '0.90', '0.00', '*GOODS SOLD ARE NOT RETURNABLE', 'THANK YOU FOR SHOPPING AT PASARAYA', 'BORONG PINTAR SDN BHD']\n"
          ]
        }
      ],
      "source": [
        "# Funzione per estrarre parole da un file di testo\n",
        "\n",
        "\n",
        "def estrai_parole_da_file(percorso_file):\n",
        "    parole = []\n",
        "    with open(percorso_file, 'r') as file:\n",
        "        for riga in file:\n",
        "            # Extract the last word or quoted word after the last comma\n",
        "            match = re.search(r',\\s*\"?([^\",]+)\"?\\s*$', riga.strip())\n",
        "            if match:\n",
        "                transcription = match.group(1)\n",
        "                # Ignore transcriptions that are ###\n",
        "                if transcription != \"###\":\n",
        "                    parole.append(transcription)\n",
        "    return parole\n",
        "#ESEMPIO\n",
        "# Percorso al file di testo\n",
        "percorso_file = \"/content/drive/MyDrive/vision_datasets/SROIE2019/text.task1&2-test（361p)/X51009447842.txt\"\n",
        "\n",
        "# Estrazione delle parole\n",
        "parole_estratte = estrai_parole_da_file(percorso_file)\n",
        "print(parole_estratte)"
      ]
    },
    {
      "cell_type": "markdown",
      "metadata": {
        "id": "fBYIjdfwJ8sU"
      },
      "source": [
        "# LLM Initializitation"
      ]
    },
    {
      "cell_type": "code",
      "execution_count": null,
      "metadata": {
        "id": "7LOFrmYJzNHI"
      },
      "outputs": [],
      "source": [
        "\n",
        "\n",
        "import os\n",
        "\n",
        "if \"GOOGLE_API_KEY\" not in os.environ:\n",
        "    os.environ[\"GOOGLE_API_KEY\"] = GOOGLE_API_KEY\n"
      ]
    },
    {
      "cell_type": "code",
      "execution_count": null,
      "metadata": {
        "colab": {
          "base_uri": "https://localhost:8080/"
        },
        "id": "aevdoGH7zNHI",
        "outputId": "65ffd58a-c7d6-4616-d95d-c689dc4130d6"
      },
      "outputs": [
        {
          "name": "stdout",
          "output_type": "stream",
          "text": [
            "\u001b[?25l   \u001b[90m━━━━━━━━━━━━━━━━━━━━━━━━━━━━━━━━━━━━━━━━\u001b[0m \u001b[32m0.0/41.7 kB\u001b[0m \u001b[31m?\u001b[0m eta \u001b[36m-:--:--\u001b[0m\r\u001b[2K   \u001b[90m━━━━━━━━━━━━━━━━━━━━━━━━━━━━━━━━━━━━━━━━\u001b[0m \u001b[32m41.7/41.7 kB\u001b[0m \u001b[31m2.3 MB/s\u001b[0m eta \u001b[36m0:00:00\u001b[0m\n",
            "\u001b[?25h"
          ]
        }
      ],
      "source": [
        "%pip install -qU langchain-google-genai"
      ]
    },
    {
      "cell_type": "code",
      "execution_count": null,
      "metadata": {
        "id": "GdH5m5kszNHJ"
      },
      "outputs": [],
      "source": [
        "from langchain_google_genai import ChatGoogleGenerativeAI"
      ]
    },
    {
      "cell_type": "code",
      "execution_count": null,
      "metadata": {
        "id": "AlRtkSAQzNHM"
      },
      "outputs": [],
      "source": [
        "llm = ChatGoogleGenerativeAI(\n",
        "    model=\"gemini-1.5-flash\",\n",
        "    temperature=0,\n",
        "    max_tokens=None,\n",
        "    timeout=None,\n",
        "    max_retries=2\n",
        ")"
      ]
    },
    {
      "cell_type": "code",
      "execution_count": null,
      "metadata": {
        "id": "uGgvAJqnzNHM"
      },
      "outputs": [],
      "source": [
        "prompt_template='''You are an advanced language model specialized in text correction. You will receive text extracted from images using OCR (Optical Character Recognition) models. Your task is to identify and correct any misspelled words or inaccuracies while preserving the context and intended meaning of the text.\n",
        "\n",
        "### Instructions:\n",
        "1. Correct spelling errors: Replace any misspelled words with the correct ones.\n",
        "2. Maintain context: Ensure that the corrected text aligns with the overall meaning and structure of the original input.\n",
        "3. Handle OCR-specific errors:\n",
        "   - Fix common OCR mistakes such as incorrect substitutions of similar-looking characters (e.g., \"rn\" misread as \"m\").\n",
        "   - Handle mixed-case errors, such as \"tHiS iS\" to \"This is.\"\n",
        "4. Do not alter proper nouns, numbers, or special characters unless they are obviously incorrect.\n",
        "5. Do not add or remove punctuations\n",
        "\n",
        "Output the corrected text clearly and concisely.\n",
        "\n",
        "### Example Inputs and Outputs:\n",
        "\n",
        "**Input:**\n",
        "Th1s 1s an exarnple of OCR t3xt.\n",
        "\n",
        "**Output:**\n",
        "This is an example of OCR text.\n",
        "\n",
        "**Input:**\n",
        "Th@ rn0del w1ll c0rrect err0rs.\n",
        "\n",
        "**Output:**\n",
        "The model will correct errors.\n",
        "\n",
        "Focus on accuracy and consistency. Your goal is to produce clean and coherent text that closely resembles the intended content. Only output the corrected text and noting else'''"
      ]
    },
    {
      "cell_type": "code",
      "execution_count": null,
      "metadata": {
        "id": "a2bRn2cUzNHN"
      },
      "outputs": [],
      "source": [
        "from langchain_core.prompts import ChatPromptTemplate\n",
        "\n",
        "prompt = ChatPromptTemplate.from_messages(\n",
        "    [\n",
        "        (\n",
        "            \"system\",\n",
        "            prompt_template,\n",
        "        ),\n",
        "        (\"human\", \"{input}\"),\n",
        "    ]\n",
        ")"
      ]
    },
    {
      "cell_type": "code",
      "execution_count": null,
      "metadata": {
        "id": "Ob2EtKyJzNHN"
      },
      "outputs": [],
      "source": [
        "from langchain_core.output_parsers.string import StrOutputParser"
      ]
    },
    {
      "cell_type": "markdown",
      "metadata": {
        "id": "PWL2WvYb_yo_"
      },
      "source": [
        "Esempio:"
      ]
    },
    {
      "cell_type": "code",
      "execution_count": null,
      "metadata": {
        "colab": {
          "base_uri": "https://localhost:8080/",
          "height": 36
        },
        "id": "ytWVs35AzNHN",
        "outputId": "70dc6bcc-b952-4636-db69-16a06dfecbc8"
      },
      "outputs": [
        {
          "data": {
            "application/vnd.google.colaboratory.intrinsic+json": {
              "type": "string"
            },
            "text/plain": [
              "'Hello, my name is John'"
            ]
          },
          "execution_count": 21,
          "metadata": {},
          "output_type": "execute_result"
        }
      ],
      "source": [
        "model=prompt|llm|StrOutputParser()\n",
        "\n",
        "model.invoke({'input':\"Hrllo,my name is john\"})"
      ]
    },
    {
      "cell_type": "code",
      "execution_count": null,
      "metadata": {
        "id": "c0D47WKCUTx6"
      },
      "outputs": [],
      "source": [
        "\n",
        "# Functions for Metrics\n",
        "def calculate_levenshtein_accuracy(extracted_text, ground_truth):\n",
        "    extracted_text = extracted_text.strip().lower()\n",
        "    ground_truth = ground_truth.strip().lower()\n",
        "    distance = Levenshtein.distance(extracted_text, ground_truth)\n",
        "    max_length = max(len(extracted_text), len(ground_truth))\n",
        "    return (1 - distance / max_length) * 100 if max_length > 0 else 0\n",
        "\n",
        "def calculate_word_accuracy(expected_words, ocr_words):\n",
        "    expected_set = set(word.lower() for word in expected_words)\n",
        "    ocr_set = set(word.lower() for word in ocr_words)\n",
        "    matching_words = expected_set & ocr_set\n",
        "    return (len(matching_words) / len(expected_set)) * 100 if expected_set else 0\n",
        "\n",
        "def calculate_character_error_rate(extracted_text, ground_truth):\n",
        "    errors = Levenshtein.distance(extracted_text, ground_truth)\n",
        "    total_chars = len(ground_truth)\n",
        "    return (errors / total_chars) * 100 if total_chars > 0 else 0\n",
        "\n",
        "# Evaluation Pipeline\n",
        "def evaluate_ocr(ocr_dict,type):\n",
        "    \"\"\"\n",
        "    Evaluate OCR output against ground truth for each entry in a dictionary.\n",
        "\n",
        "    Parameters:\n",
        "        ocr_dict (dict): Dictionary with keys as image names and values as OCR outputs.\n",
        "        type: 'scene' o 'document'\n",
        "\n",
        "    Returns:\n",
        "        dict: A dictionary with image names as keys and evaluation metrics as values.\n",
        "    \"\"\"\n",
        "    evaluation_results = {}\n",
        "    #image_folder_path = os.path.join(folder, \"Images\")\n",
        "    #text_folder_path = os.path.join(folder, \"Text\")\n",
        "\n",
        "    for image_name, ocr_output in ocr_dict.items():\n",
        "\n",
        "        #ground_truth_file = f\"{folder}/{os.path.splitext(image_name)[0]}.json\"\n",
        "        if type==\"scene\":\n",
        "            ground_truth_file=os.path.join(folder,'gt_'+ image_name.rsplit('.', 1)[0] + '.txt')\n",
        "        if type==\"document\":\n",
        "            ground_truth_file=os.path.join(text_folder, image_name.rsplit('.', 1)[0] + '.txt')\n",
        "\n",
        "      #output_json_path = os.path.join(folder, image_name.rsplit('.', 1)[0] + '_ocr.json')\n",
        "\n",
        "\n",
        "\n",
        "        # Assuming ground truth JSON has a key \"text\" containing the expected output\n",
        "        #ground_truth = \" \".join(item[\"text\"] for item in ground_truth_data if \"text\" in item)\n",
        "\n",
        "        ground_truth_words = estrai_parole_da_file(ground_truth_file)\n",
        "        ground_truth_text=\" \".join(item for item in ground_truth_words)\n",
        "        lev_acc_baseline = calculate_levenshtein_accuracy(ocr_output, ground_truth_text)\n",
        "        word_acc_baseline = calculate_word_accuracy(ground_truth_words, ocr_output.split())\n",
        "        cer_baseline = calculate_character_error_rate(ocr_output, ground_truth_text)\n",
        "\n",
        "        #LLM\n",
        "        llm_output=model.invoke({'input':ocr_output})\n",
        "        time.sleep(5)#Con il piano gratuito, possiamo fare solo 15 run al minuto\n",
        "        lev_acc_llm = calculate_levenshtein_accuracy(llm_output, ground_truth_text)\n",
        "        word_acc_llm = calculate_word_accuracy(ground_truth_words, llm_output.split())\n",
        "        cer_llm = calculate_character_error_rate(llm_output, ground_truth_text)\n",
        "\n",
        "\n",
        "\n",
        "        # Store the results in the evaluation dictionary\n",
        "        evaluation_results[os.path.splitext(image_name)[0]] = {\n",
        "            \"Levenshtein Accuracy\": lev_acc_baseline,\n",
        "            \"Word Accuracy\": word_acc_baseline,\n",
        "            \"Character Error Rate\": cer_baseline,\n",
        "            \"Levenshtein Accuracy LLM\": lev_acc_llm,\n",
        "            \"Word Accuracy LLM\": word_acc_llm,\n",
        "            \"Character Error Rate LLM\": cer_llm\n",
        "\n",
        "        }\n",
        "    return evaluation_results"
      ]
    },
    {
      "cell_type": "markdown",
      "metadata": {
        "id": "rQGLksNnNt7W"
      },
      "source": [
        "## AZURE"
      ]
    },
    {
      "cell_type": "code",
      "execution_count": null,
      "metadata": {
        "id": "-ZLm-J41NaBN"
      },
      "outputs": [],
      "source": [
        "subscription_key = AZURE_API_KEY\n",
        "endpoint = \"https://patrikbaldon.cognitiveservices.azure.com/\"\n",
        "computervision_client = ComputerVisionClient(endpoint, CognitiveServicesCredentials(subscription_key))"
      ]
    },
    {
      "cell_type": "code",
      "execution_count": null,
      "metadata": {
        "id": "BDvtxnUBOPdA"
      },
      "outputs": [],
      "source": [
        "azure_extraction = {}\n",
        "\n",
        "# Funzione per estrarre testo e aggiungerlo al dizionario\n",
        "def extract_text_azure(image_path):\n",
        "    with open(image_path, \"rb\") as image_file:\n",
        "        read_response = computervision_client.read_in_stream(image_file, raw=True)\n",
        "        operation_location = read_response.headers[\"Operation-Location\"]\n",
        "        operation_id = operation_location.split(\"/\")[-1]\n",
        "\n",
        "        # Attendi il completamento\n",
        "        while True:\n",
        "            result = computervision_client.get_read_result(operation_id)\n",
        "            if result.status not in ['notStarted', 'running']:\n",
        "                break\n",
        "            time.sleep(1)\n",
        "\n",
        "        # Estrai il testo\n",
        "        extracted_text = \"\"\n",
        "        if result.status == OperationStatusCodes.succeeded:\n",
        "            for page in result.analyze_result.read_results:\n",
        "                for line in page.lines:\n",
        "                    extracted_text += line.text + \" \"\n",
        "\n",
        "        # Salva nel dizionario\n",
        "        azure_extraction[os.path.basename(image_path)] = extracted_text.strip()"
      ]
    },
    {
      "cell_type": "code",
      "execution_count": null,
      "metadata": {
        "collapsed": true,
        "id": "TTJ0vyi1PFE-"
      },
      "outputs": [],
      "source": [
        "# Processa ogni immagine\n",
        "azure_time_record=[]\n",
        "for image_path in images_paths[0:150]:\n",
        "    start_time = time.time()\n",
        "    extract_text_azure(image_path)\n",
        "    end_time = time.time()\n",
        "    elapsed_time = end_time - start_time\n",
        "    azure_time_record.append(elapsed_time)"
      ]
    },
    {
      "cell_type": "code",
      "execution_count": null,
      "metadata": {
        "id": "2dPepBsOi7R6"
      },
      "outputs": [],
      "source": [
        "Azure_Evaluation = evaluate_ocr(azure_extraction,'document')"
      ]
    },
    {
      "cell_type": "code",
      "execution_count": null,
      "metadata": {
        "colab": {
          "base_uri": "https://localhost:8080/"
        },
        "id": "ypeRx5koatqD",
        "outputId": "73d3c208-adac-4483-c150-9460a492c244"
      },
      "outputs": [
        {
          "name": "stdout",
          "output_type": "stream",
          "text": [
            "First record:\n",
            "Key: X00016469670\n",
            "Value: {'Levenshtein Accuracy': 89.30163447251115, 'Word Accuracy': 32.5, 'Character Error Rate': 40.88669950738916, 'Levenshtein Accuracy LLM': 89.45022288261517, 'Word Accuracy LLM': 32.5, 'Character Error Rate LLM': 40.88669950738916}\n"
          ]
        }
      ],
      "source": [
        "keys = list(Azure_Evaluation.keys())\n",
        "values = list(Azure_Evaluation.values())\n",
        "\n",
        "print(f\"First record:\\nKey: {keys[0]}\\nValue: {values[0]}\")\n"
      ]
    },
    {
      "cell_type": "markdown",
      "metadata": {
        "id": "gk2AbV54Nwxa"
      },
      "source": [
        "# AWS"
      ]
    },
    {
      "cell_type": "code",
      "execution_count": null,
      "metadata": {
        "id": "497UcGUKNhvR"
      },
      "outputs": [],
      "source": [
        "# Configura manualmente le credenziali e la regione\n",
        "session = boto3.Session(\n",
        "    aws_access_key_id=AWS_API_KEY,\n",
        "    aws_secret_access_key=AWS_SECRET,\n",
        "    region_name='us-east-1'\n",
        ")\n",
        "bucket_name = \"patriksbucket\"\n",
        "# Esempio: utilizza il client Textract\n",
        "# Inizializza i client con la sessione\n",
        "s3 = session.client('s3')\n",
        "textract = session.client('textract')\n",
        "response = s3.list_objects_v2(Bucket=bucket_name, Prefix=\"SROIE2019/task1&2_test(361p)/\")"
      ]
    },
    {
      "cell_type": "code",
      "execution_count": null,
      "metadata": {
        "colab": {
          "base_uri": "https://localhost:8080/"
        },
        "id": "Jmt9TOZUTpl7",
        "outputId": "28ac44bd-fcfa-4d29-c78d-ac805906ad4e"
      },
      "outputs": [
        {
          "name": "stdout",
          "output_type": "stream",
          "text": [
            "['X00016469670', 'X00016469671', 'X51005200931', 'X51005230605', 'X51005230616', 'X51005230621', 'X51005230648', 'X51005230657', 'X51005230659', 'X51005268275', 'X51005268408', 'X51005288570', 'X51005301666', 'X51005337867', 'X51005337877', 'X51005361906', 'X51005361912', 'X51005361923', 'X51005365187', 'X51005433518', 'X51005433543', 'X51005433548', 'X51005433556', 'X51005442322', 'X51005442334', 'X51005442343', 'X51005442366', 'X51005442375', 'X51005442382', 'X51005442388', 'X51005444040', 'X51005444041', 'X51005444044', 'X51005444046', 'X51005447841', 'X51005447842', 'X51005447844', 'X51005447851', 'X51005447859', 'X51005568855', 'X51005568866', 'X51005568885', 'X51005568887', 'X51005568889', 'X51005568890', 'X51005568892', 'X51005568894', 'X51005568895', 'X51005577191', 'X51005582745', 'X51005587261', 'X51005605287', 'X51005605295', 'X51005605332', 'X51005621482', 'X51005663274', 'X51005663300', 'X51005663307', 'X51005663309', 'X51005663310', 'X51005663323', 'X51005675099', 'X51005675103', 'X51005675104', 'X51005675914', 'X51005676534', 'X51005676535', 'X51005676537', 'X51005676542', 'X51005676548', 'X51005677327', 'X51005677333', 'X51005677336', 'X51005677337', 'X510056849111', 'X51005684949', 'X51005705727', 'X51005705729', 'X51005705784', 'X51005710963', 'X51005711402', 'X51005711443', 'X51005711444', 'X51005711446', 'X51005711449', 'X51005715006', 'X51005715007', 'X51005715455', 'X51005719823', 'X51005719855', 'X51005719857', 'X51005719863', 'X51005719888', 'X51005719889', 'X51005719895', 'X51005719898', 'X51005719903', 'X51005719905', 'X51005724552', 'X51005724609', 'X51005724611', 'X51005724622', 'X51005724623', 'X51005724624', 'X51005724625', 'X51005724626', 'X51005724628', 'X51005741929', 'X51005742110', 'X51005745213', 'X51005745244', 'X51005745298', 'X51005746203', 'X51005746204', 'X51005746206', 'X51005746207', 'X51005746210', 'X51005749904', 'X51005757220', 'X51005757233', 'X51005757282', 'X51005757292', 'X51005757308', 'X51005757342', 'X51005763958', 'X51005763964', 'X51005763999', 'X51005764031', 'X51005764154', 'X51005764161', 'X51005806692', 'X51005806695', 'X51005806696', 'X51005806718', 'X51005806719', 'X51005806720', 'X51006008081', 'X51006008082', 'X51006008083', 'X51006008090', 'X51006008092', 'X51006008093', 'X51006008105', 'X51006008166', 'X51006008206', 'X51006248253', 'X51006311714', 'X51006327953', 'X51006327960', 'X51006328345', 'X51006328937', 'X51006328967', 'X51006329183', 'X51006329388', 'X51006332641', 'X51006334139', 'X51006334742', 'X51006334766', 'X51006334770', 'X51006334819', 'X51006334927', 'X51006335818', 'X51006349081', 'X51006349083', 'X51006349085', 'X51006350737', 'X51006387660', 'X51006387737', 'X51006387931', 'X51006387950', 'X51006387973', 'X51006388068', 'X51006388081', 'X51006388089', 'X51006389894', 'X51006389898', 'X51006392167', 'X51006401845', 'X51006401853', 'X51006401940', 'X51006401977', 'X51006438346', 'X51006466070', 'X51006502534', 'X51006502535', 'X51006502540', 'X51006554841', 'X51006555819', 'X51006555833', 'X51006555835', 'X51006556603', 'X51006556610', 'X51006556648', 'X51006556654', 'X51006556657', 'X51006556658', 'X51006556723', 'X51006556728', 'X51006556734', 'X51006556740', 'X51006556806', 'X51006556808', 'X51006556809', 'X51006556810', 'X51006556812', 'X51006556821', 'X51006556826', 'X51006556827', 'X51006556829', 'X51006556851', 'X51006556865', 'X51006557115', 'X51006557169', 'X51006557173', 'X51006557187', 'X51006557194', 'X51006557196', 'X51006557208', 'X51006557209', 'X51006557507', 'X51006619328', 'X51006619338', 'X51006619345', 'X51006619346', 'X51006619503', 'X51006619506', 'X51006619507', 'X51006619509', 'X51006619564', 'X51006619567', 'X51006619569', 'X51006619700', 'X51006619703', 'X51006619704', 'X51006619757', 'X51006619760', 'X51006619764', 'X51006619766', 'X51006619779', 'X51006619782', 'X51006619784', 'X51006619790', 'X51006619842', 'X51006619863', 'X51006619869', 'X51006620175', 'X51006620182', 'X51006620192', 'X51006620437', 'X51006647933', 'X51006647984', 'X51006714066', 'X51006733495', 'X51006828199', 'X51006828200', 'X51006828201', 'X51006856982', 'X51006857126', 'X51006857132', 'X51006857137', 'X51006857540', 'X51007103597', 'X51007103610', 'X51007103649', 'X51007103668', 'X51007103687', 'X51007225406', 'X51007231274', 'X51007231275', 'X51007231276', 'X51007231331', 'X51007231341', 'X51007231343', 'X51007231346', 'X51007339105', 'X51007339109', 'X51007339116', 'X51007339119', 'X51007339121', 'X51007339122', 'X51007339125', 'X51007339127', 'X51007339134', 'X51007339159', 'X51007339160', 'X51007339161', 'X51007339163', 'X51007339638', 'X51007391390', 'X51007579714', 'X51007579719', 'X51007579725', 'X51008030561', 'X51008030563', 'X51008042779', 'X51008042780', 'X51008042781', 'X51008042786', 'X51008042787', 'X51008099047', 'X51008099086', 'X51008099088', 'X51008099090', 'X51008099100', 'X51009008091', 'X51009008095', 'X51009447842', 'X51009453729', 'X51009568881']\n"
          ]
        }
      ],
      "source": [
        "file_names = [os.path.splitext(os.path.basename(path))[0] for path in images_paths]\n",
        "print(file_names)"
      ]
    },
    {
      "cell_type": "code",
      "execution_count": null,
      "metadata": {
        "id": "CPcVbUZiV1No"
      },
      "outputs": [],
      "source": [
        "def list_images_in_folder(bucket):\n",
        "    session = boto3.Session(\n",
        "        aws_access_key_id=AWS_API_KEY,\n",
        "        aws_secret_access_key=AWS_SECRET,\n",
        "        region_name='us-east-1'\n",
        "    )\n",
        "    s3 = session.client('s3')\n",
        "    response = s3.list_objects_v2(Bucket=bucket, Prefix=\"SROIE2019/task1&2_test(361p)/\")\n",
        "\n",
        "    # Dimensione massima in bytes (1 MB)\n",
        "    max_size = 1 * 1024 * 1024  # 1 MB\n",
        "\n",
        "    # Ottieni e ordina le immagini per nome\n",
        "    sorted_objects = sorted(\n",
        "        [obj for obj in response.get('Contents', []) if obj['Key'].endswith(('.jpg', '.png', '.jpeg'))],\n",
        "        key=lambda x: x['Key']\n",
        "    )\n",
        "\n",
        "    # Filtra immagini per dimensione\n",
        "    return [\n",
        "        (obj['Key'], obj['Key'].split('/')[-1].split('.')[0])\n",
        "        for obj in sorted_objects\n",
        "        if (obj['Size'] < max_size and obj['Key'].split('/')[-1].split('.')[0] in file_names)\n",
        "    ]\n"
      ]
    },
    {
      "cell_type": "code",
      "execution_count": null,
      "metadata": {
        "id": "EWp7AEH6VSC5"
      },
      "outputs": [],
      "source": [
        "def extract_text_textract(bucket, image_name):\n",
        "    session = boto3.Session(\n",
        "        aws_access_key_id=AWS_API_KEY,\n",
        "        aws_secret_access_key=AWS_SECRET,\n",
        "        region_name='us-east-1'\n",
        "    )\n",
        "    textract = session.client('textract')\n",
        "    response = textract.detect_document_text(\n",
        "        Document={'S3Object': {'Bucket': bucket, 'Name': image_name}}\n",
        "    )\n",
        "    extracted_text = []\n",
        "    for block in response['Blocks']:\n",
        "        if block['BlockType'] == 'LINE':\n",
        "            extracted_text.append(block['Text'])\n",
        "    return \" \".join(extracted_text)"
      ]
    },
    {
      "cell_type": "code",
      "execution_count": null,
      "metadata": {
        "id": "4UG34BkGWpMS"
      },
      "outputs": [],
      "source": [
        "# Configurazione AWS\n",
        "region_name = \"us-east-1\"\n",
        "bucket_name = \"patriksbucket\"\n",
        "\n",
        "aws_extraction = {}\n",
        "\n",
        "\n",
        "files = list_images_in_folder(bucket_name)\n",
        "\n",
        "aws_time_record=[]\n",
        "for path, image_name in files[0:150]:\n",
        "  # Estrai testo dall'immagine\n",
        "  start_time = time.time()\n",
        "  aws_extraction[image_name] = extract_text_textract(bucket_name, path)\n",
        "  end_time = time.time()\n",
        "  elapsed_time = end_time - start_time\n",
        "  aws_time_record.append(elapsed_time)"
      ]
    },
    {
      "cell_type": "code",
      "execution_count": null,
      "metadata": {
        "colab": {
          "base_uri": "https://localhost:8080/"
        },
        "id": "ZeNfAk2xVKyt",
        "outputId": "0e140c19-6db1-415b-b3af-2e386b19f52c"
      },
      "outputs": [
        {
          "data": {
            "text/plain": [
              "{'X00016469670': 'tan chay yee *** COPY *** OJC MARKETING SDN BHD ROC NO: 538358-H NO 2 & 4, JALAN BAYU 4, BANDAR SERI ALAM, 81750 MASAI, JOHOR Tel:07-388 2218 Fax:07-388 8218 Email: ng@ojcgroup.com TAX INVOICE Invoice No : PEGIV-1030765 Date : 15/01/2019 11:05:16 AM Cashier : NG CHUAN MIN Sales Person : FATIN Bill To : THE PEAK QUARRY WORKS Address :. Description Qty Price Amount 000000111 1 193.00 193.00 SR KINGS SAFETY SHOES KWD 805 Qty: 1 Total Exclude GST: 193.00 Total GST @6%: 0.00 Total Inclusive GST: 193.00 Round Amt: 0.00 TOTAL: 193.00 VISA CARD 193.00 xxxxxxxxxxxx4318 Approval Code:000 193.00 Goods Sold Are Not Returnable & Refundable **** Thank You. Please Come Again. ****',\n",
              " 'X00016469671': 'tan chay yee OJC MARKETING SDN BHD ROC NO: 538358-H NO 2 & 4, JALAN BAYU 4, BANDAR SERI ALAM, 81750 MASAI, JOHOR Tel:07-388 2218 Fax:07-388 8218 Email: ng@ojcgroup.com Cash Bill Invoice No : PEGIV-1030531 Date 02/01/2019 2:47:14 PM Cashier : RHYS TAN Sales Person : FATIN Description Qty Price Amount 000000111 1 170.00 170.00 KINGS SAFETY P004 SHOES KWD 805 Qty: 1 Total Item Discount: 0.00 Total Amount: 170.00 Round Amt: 0.00 TOTAL: 170.00 VISA CARD 170.00 xxxxxxxxxxxx4318 Approval Code:123 170.00 Goods Sold Are Not Returnable & Refundable ****Thank You. Please Come Again. ****',\n",
              " 'X51005200931': '100038 PERNIAGAAN ZHENG HUI JM0325955-V NO.59 JALAN PERMAS 9/5 BANDAR BARU PERMAS JAYA 81750 JOHOR BAHRU TEL : 07-386 7524 FAX : 07-386 3793 GST NO : 000800689824 SIMPLIFIED TAX INVOICE GOGIANT ENGINEERING (M) SDN BHD Receipt #: CS00082258 Salesperson: Date. 09/02/2018 Cashier: USER Time: 08:32:00 (RM) (RM) Item Qty RSP Amount 6783 1809 5 3.50 17.50 SR CERAMIC CAP 2954 1809 30 3.80 114.00 SR: S/STEEL 1/2\" STREET ELBOW 1760 GA 1 55.00 55.00 SR: 2.4MM STARWELD RED HEAD TUNGSTEN ROD 3496 GA 3 33.00 99.00 SR: ESICUT 4\" CUTTING DISC (1BOX)-50PCS 2460 GA 2 43.00 86.00 SR: WELDRO PICKLING GEL 1KG 9428 GB 4 10.00 40.00 SR: 13.5\" WELDING GLOVE - GREEN (GS) TOT QTY: 45 411.50 (Excluded GST) Sub Total (RM) : 411.50 Discount (RM) : 0.00 Total GST (RM) : 24.69 Rounding (RM) : 0.01 Total (RM) : 436.20 CASH : 436.20 Change (RM) : 0.00 GST SUMMARY Tax Code % Amount GST SR 6 411.50 24.69 Total : 411,50 24.69 GOODS SOLD ARE NOT RETURNABLE THANK YOU.',\n",
              " 'X51005230605': 'PETRON BKT LANJAN SB ALSERKAM ENTERPRISE Tel: 03-6156 8757 Co No: 001083069-M KM 458.4 BKT LANJAN UTARA, L/RAYA UTARA SELATAN, SG BULOH 47000 SUNGAI BUL GST ID No: 001210736640 TAX INVOICE TAX INVOICE NO: 19729058 POS: 1 Store No.: 129077 Babu 01/02/2018 4:43:17 PM A 2 double ,mint te 3.00 A 1 sandwich vanill 1.90 GST RM: 0.28 Total RM inc.GST: 4.90 Cash 5.00 Change 0.10 GST Summary Amount (RM) Tax (RM) A=6.00% 4.62 0.28 A ITAL INCLUDES 6.00% GST Use 3000 Petron Miles points to pay for RM45 Fuel',\n",
              " 'X51005230616': \"Q 0583. 190 Gerbang Alaf Restaurants Sdn Bhd (65351-M) formerly known as Golden Arches Restaurants Sdn Bhd Licensee of McDonald's Level 6, Bangunan TH, Damansara Uptown3 No.3, Jalan SS21/39,47400 Petaling Jaya Selangor (GST ID No: 000504664064) McDonald's Petronas Taman Melati DT Tel No. : 03-4147-3107 TAX INVOICE MFY Side 1 INV# 141900016842 ORD #90 -REG #19- 18/01/2018 17:09:21 QTY ITEM TOTAL 2 M SpicyDeluxe 25.40 2 M Coke 2 M Fries 1 M GrilChicBgr 12.50 1 M Coke 1 M Fries 1 Small Cone 1.00 TakeOut Total (incl GST) 38.90 Total Rounded 38.90 Cash Tendered 50.00 Change 11.10 TOTAL INCLUDES 6% GST 2.20 V love to hear your feedback! Visit www.mcdfeedback.com.my OR Download My McD Feedback from Google Play/App Store to share your experience Thank You and Please Come Again. ustomer Service Hotline : 03-2726-5600\",\n",
              " 'X51005230621': 'SIN LIANHAP SDN BHD LOT 13, JALAN SIN LIANHAP SDN BHD LOT 13, JALAN IPOH, KG BATU 30 1 ULU YAM LAMA 44300 BTG KALI, SELANGOR. TEL: 03-60752222(HUNTING LINE) FAX: 03-60752572 ( Company Reg No: 284922-D ) (GST Reg No: 001610833920) TAX INVOICE CASH CUSTOMER Invoice No. : : H0003939 Date : : 05/02/2018 Cashier#: : RM Code PPD 4MM DENLIME 1.887 SR 1.000 PC X 2.00 6023# GARDEN 5.000 SR 1.000 PC X 5.30 Subtotal : 7.30 Total Sales Excluding GST: 6.69 Total Sales Inclusive of GST: 7.30 tounding Adjustment : 0.00 Payment : 7.30 Change Due : 0.00 Total item(s) : 2 ST LIANH GST Summary * Amount Tax SR @ 6 6.89 0.41 CHAN ******** THANK YOU ********* **** PLEASE COME AGAIN ****',\n",
              " 'X51005230648': 'CROSS CHANNEL NETWORK SDN. BHD. 47, JALAN MERANTI 1, SEK. 3, BANDAR UTAMA BATANG KALI, 44300 BATANG KALI, SELANGOR. Tel : 03-6057 9688 Fax : 03-6057 9678 GST ID : 001151500288 Tax Invoice No. : BTG-052332 Qty RM Tax SCHNEIDER E15R 13A SWITCH 1 6.36 SR SOCKET OUTLET @ 6.0000 Total Amt Incl. GST @ 6% : 6.36 Rounding Adjustment : -0.01 Total Amt Payable : 6.35 Paid Amount : 10.00 Change : 3.65 Total Qty Tender : 1,00 GST Summary Amount Tax (RM) (RM) SR @ A 6.00 0.36 Total 6.00 0.36 THANK YOU Goods sold are not refundable nor exchangeble. For any enquiry, please e-mail us: gowa9688@gmail.com 29/01/2018 4:40:40 PM',\n",
              " 'X51005230657': 'CROSS CHANNEL NETWORK SDN. BHD. 47, JALAN MERANTI 1, SEK. 3, BANDAR UTAMA BATANG KALI, 44300 BATANG KALI, SELANGOR. Tel : 03-6057 9688 Fax : 03-6057 9678 GST ID : 001151500288 Tax Invoice No. : BTG-050036 Qty RM Tax 20MM HERO PVC CONDUIT PIPE 1 1.80 SR @ 1.7000 15A PVC CONNE TOR @ 1.8000 1 1.91 SR R & B-C/CLIP 8MM X 100PCS 1 3.71 SR CABLE CLIPS @ 3 5000 3\" X 3\" 2862 A1 PVC NUT BOX @ 1 0.53 SR 0.5000 Total Amt Incl. GST @ 6% : 7.95 Rounding Adjustment : Total Amt Payable : 7.95 Paid Amount : 10 00 Change 2.05 Total Qty Tender 4.00 GST Summary Amount Tax (RM) (RM) SR @ A 7.50 0.45 Total 7.50 0.45 THANK YOU For any enquiry, please e mail us: gowa9688@gmail.com 31/12/2017 10:33:59 AM',\n",
              " 'X51005230659': 'SWC ENTERPRISE SDN BHD (1125830-V) NO. 5-7, Jalan Mahagoni 7/1, Sekysen 4, Bandar Utama, 44300 Batang Kali, Selangor. Tel : 03-6057 1377 TAX INVOICE (GST ID No. : 002017808384) 08/01/2018 Cashier: 123 11:07:06 No: 10100080332 Item/Desc. Qty Price Amt. 20X30 BEG 1KG91X30) 20X30 1KG 1 8.00 8.00 Total Qty : 1 TOTAL AMOUNT 8.00 CASH 10.00 CHANGE 2.00 G 25% Included In Total 0.45 Thank You ! Please Come Again ! Goods Sold Only Exchangable Within 3 Days !',\n",
              " 'X51005268275': \"LIGHTROOM GALLERY SDN BHD No: 28, JALAN ASTANA 1C, BANDAR BUKIT RAJA, 41050 KLANG SELANGOR D.E, MALAYSIA ROC No. : (1072825-A) GST No. : 000584089600 Tel:03-3362 4395 Fax: 03-3362 4395 CREDIT NOTE Station: CASHIER C/N No: LCN00212 Cashier: ANGELA Cover : 1 Bill Date : 20/11/2017 Bill Start: 20/11/2017 03:57:01 PM Code : 300-E0009 Name : ESWARAN 012-6369400 Address : : : GST No. : - YT51129 SR YE36 BK 12W WW LED TRACK LIGHT 2 * RM 45.29 UNI ( 5.43)=R 90.57 YT52683 SR YE44 35W WW BK TRACK HOLDER 1 * RM 155.66 UNI ( 9.34)=RM 155.66 CH50688 SR 1 METER TRACK-BK 1 * RM 16.99 UNI ( 1.01)=RM 16.79 - SR RM39.80 CONTRA W LCN00211 0 * UNIT Sub Total : RM 263.02 Item Discount : RM 0:20 Service Charge : RM 0.00 GST/TAX 6% : RM 15.78 TOT' : RM 278.80 CAS : RM 278.80 CHANGE: RM 0.00 Item Count: 4 Qty Count : 4.0 Closed Bill: 20/11/2017 04:01:23 PM Thank You, Please come again. Goods Sold are not refundable, returnable BANK ACC MBB 5128 4851 2118 BANK ACC MBB 5626 4732 1744 BANK ACC AMBANK 888 100 123 3706 GST Summary Amount (RM) Tax (RM) SR @ 6% 263.02 15.78 ZR/OS/EZ 0.00 0.00\",\n",
              " 'X51005268408': '99 SPEED MART S/B (519537-X) LOT P.T. 2811, JALAN ANGSA, TAMAN BERKELEY 41150 KLANG, SELANGOR 1413-SETIA ALAM 2 GST ID. NO : 000181747712 INVOICE NO : 18222/102/T0341 03:29PM 562936 20-11-17 2973 PEDIASURE COMPLETE S35 RM117.90 S 069 MILD 2KG RM34.90 S 2709 ZING HEING OAT & WHEAT RM4,10 $ 2893 DISNEY DS112 WIDE NECK RMS.89 $ 4385 JOHNSONS PHS.5 2IN1 BO RM6.99 S Total Sales (Inclusive GST) RM 169.78 Rounding Adjustment RM .02 Rounding RM 169.80 CASH RM 200.00 CHANGE RM 30.20 Amount(RM) Tax{RK) GST Summary 5 = hil 160.17 9.61 Thank You. Please come again Keep the invoice for applicable returns',\n",
              " 'X51005288570': '3180301 SECURE PARKING CORPORATION S/B Riverwalk Village Batu 3, Jalan 1poh 51200 KL. GSTNo. 000296652800 TEL No: 1300881698 RECEIPT C13 Receipt Number: K0131800235697 ENTRY TIME: 23.03.18 14:59 EXIT TIME: 23.03.18 15:27 PARK-DUR. : D:HH:MM 0:00:28 KIND OF PAYMENT: CASH Parking Fee RM 0.94 Add GST RM 0.06 *AMT RM 1.00 *Rate incl. 6% GST THANK YOU FOR YOUR VISIT',\n",
              " 'X51005301666': \"LIGHTROOM GALLERY SDN BHD No: 28, JALAN ASTANA 1C, BANDAR BUKIT RAJA, 41050 KLANG SELANGOR D.E, MALAYSIA ROC No. : (1072825-A) GST No. : 000584089600 Tel:03-3362 4395 Fax: 03-3362 4395 CREDIT NOTE Station: CASHIER C/N No: LCN00212 Cashier: ANGELA Cover : 1 Bill Date : 20/11/2017 Bill Start: 20/11/2017 03:57:01 PM Code : 300-E0009 Name : ESWARAN 012-6369400 Address : : : GST No. : - YT51129 SR YE36 BK 12W WW LED TRACK LIGHT 2 * RM 45.29 UNI ( 5.43)=R 90.57 YT52683 SR YE44 35W WW BK TRACK HOLDER 1 * RM 155.66 UNI ( 9.34)=RM 155.66 CH50688 SR 1 METER TRACK-BK 1 * RM 16.99 UNI ( 1.01)=RM 16.79 - SR RM39.80 CONTRA W LCN00211 0 * UNIT Sub Total : RM 263.02 Item Discount : RM 0:20 Service Charge : RM 0.00 GST/TAX 6% : RM 15.78 TOT' : RM 278.80 CAS : RM 278.80 CHANGE: RM 0.00 Item Count: 4 Qty Count : 4.0 Closed Bill: 20/11/2017 04:01:23 PM Thank You, Please come again. Goods Sold are not refundable, returnable BANK ACC MBB 5128 4851 2118 BANK ACC MBB 5626 4732 1744 BANK ACC AMBANK 888 100 123 3706 GST Summary Amount (RM) Tax (RM) SR @ 6% 263.02 15.78 ZR/OS/EZ 0.00 0.00\",\n",
              " 'X51005337867': 'SY LEZ OLDTOWN WHITE COFFEE Old Town Kopitiam Sdn Bhd (716269-X) Sri Rampai Tel: 03-4148 1876 Guest Check **THIS IS NOT A RECEIPT** GST ID:000801587200 4 COUNTER3 2009 LIZA Check:37617 Cover:1 22 Mar 18 12:44:00 PM Table 5 / 1 Dine In 1 ST30 13.87 S 1 BR10 Stm Ginger R S 1 TF2 (H) Teh Tarik S 1 HS4 12.07 S 1 SN5 Curry Mee S 1 TF7 (C) Lemon T S Subtotal: 25.94 10% Srv Chg: 2.59 GST @6% 1.71 Total: 30.24 Rounding: 0.01 Amount Due 30.25 INCLUSIVE 0.00 * 3004 STORED 22 Mar 18 02:10.50 PM--- THANK YOU PLEASE COME AGAIN GST @6% included in total GSTSummary Amount (RM) GST(RM) S=GST @6%: 28.53 1.71 Z=GST @0%: 0.00 0.00 XW',\n",
              " 'X51005337877': 'left Pro Ipous. UROKO JAPANESE CUISINE SDN BHD 22A-1, JALAN 17/54, SECTION 17, 46400 PETALING JAYA, SELANGOR. 03-7932 1023/0191 GST Reg No: 001126838272 Bill No : 01H-25029 Date : 20/03/2018 6:41:02 PM Cashier : RESAN Table No : S09 Qty Description Amount 1 KO NABE INANIWA 24.00 SR UDON @ 24.00 1 GREEN TEA @ 1.00 1.00 SR 1 GYOZA 5pcs @ 15.00 15.00 SR 1 GARLIC CHAHAN @ [T 6.00 SR A] 4 Total : 46.00 Discount : (.00) Service Chg 10.00% : 4.00 GST : 3.00 Grand Total : 53.00 Net Total : 53.00 GST Summary % Amount( RM Tax(RM) M SR 6.00 50.00 3.00',\n",
              " 'X51005361906': 'TEO HENG STATIONERY & BOOKS (001)51637-M) NO. 53, JALAN BESAR, 45600 BATANG BERJUNTAI SELANGOR DARULEHSANV TEL : 03-3271 9872 FAX 03-3271948 GST No. : 000689913856 SIMPLIFIED TAX INVOICE CASH Receipt No. : CS1801/27175 Date : 27/01/2018 ITEM QTY DISC% AMOUNT U/P (RM) 1355 1 3,96 4.09 3.80* - DOUBLE SIDE FOAM TAPE 18MM 9557950605126 5 2.74 4.96 13.00 - CAMIS SQ BOOK 200 9557369315029 1 5,47 4.96 5.20 * - EAGLE F4 200 FOOLSCAP BOOK 9557369305006 1 3.96 4.09 3.80 * - EAGLE F4 120 NUMBERING FOOLSCAP BOOK Total Qty. : 8 25.80 SUB-TOTAL (EX) : 25.80 TOTAL TAX : 1.55 ROUNDING : 0.00 TOTAL : 27.35 CASH : 27.35 CHANGE : 0,00 GST SUMMARY AMOUNT TAX TAX CODE % (RM) (RM) SR 6.00 25.80 1.55 TOTAL : 25.80 1.55 Note: (*) Indicated The Item Sold Has Been Related To GST (Goods & Services Tax). GOODS SOLD ARE NOT RETURNABLE THANK YOU.',\n",
              " 'X51005361912': 'TEO HENG STATIONERY & BOOKS (001451637-M) NO. 53, JALAN BESAR, 45600 BATANG BERJUNTAI SELANGOR DARUL EHSAN TEL : 03-3271 9872 FAX 03-3271 9481 GST No. 000689913856 SIMPLIFIED TAX INVOICE a CASH 71 Receipt No. : CS1801/27224 Date : 29/01/2018 ITEM QTY U/P DISC% AMOUNT (RM) 1 2 0.50 0.00 1.00 * - CARBON PAPER Total Qty. : 2 1.00 SUB-TOTAL (EX) : 1.00 TOTAL TAX : 0.06 ROUNDING : -0.01 TOTAL : 1.05 CASH : 1.05 CHANGE : 0.00 GST SUMMARY TAX CODE % AMOUNT TAX (RM) (RM) SR 6.00 1.00 0.06 TOTAL : 1.00 0.06 Note: (*) Indicated The Item Sold Has Been Related To GST (Goods & Services Tax). GOODS SOLD ARE NOT RETURNABLE, THANK YOU.',\n",
              " 'X51005361923': 'SWC ENTERPRISE SDN BHD (1125830-V) 8 & 10, Jalan Ijok Permai 1, Pusat Niaga Ijok Permai, 48000 Ijok, Selangor. TAX INVOICE (GST ID No. : 002017808384) 02/01/2018 Cashier: 123 10:46:55 No: 0100036262 Item/Desc. Qty Price Amt. 5X8 500G (1X60) 5X8 500G 1 4.20 4.20 Total Qty : i TOTAL AMOUNT 4.20 CASH 50.20 CHANGE 46.00 GST @6% Included In Total 0.24 Thank You ! Please Come Again ! Goods Sold Only Exchangable within 3 Days !',\n",
              " 'X51005365187': \"3-1707067 F&P PHARMACY (002309592-P) NO.20. GROUND FLOOR, JALAN BS 10/6 TAMAN BUKIT SERDANG SEKSYEN 10. 43300 SERI KEMBANGAN. SELANGOR DARUL EHSAN TEL 03-89599823 GST Reg NO 001880666112 TAX INVOICE Doc No CS00110840 Date 02/03/2018 Cashier F&P Time. 16.46.00 Salesperson Ref (GST) (GST) Item Qty S/Price S/Price Amount Tax 9557892105255 1 5,66 6.00 6.00 SR HOMECARE GASCOAL 50MG 1486 1 6 00 6 00 6 00 ZRL P.P NAPROXEN NA 275 MG 9557837400035 1 4 30 4 30 4 30 ZRL YELLOW LOTION 30 MI. 1014 1 3 58 3 80 3 80 SR PANADOL SOLUBLE TABLET 1155 1 6 13 6.50 6 50 SR PMS GAUZE BANDAGE 5CM X 4M 95506104 I 5 00 5 30 5 30 SR DETTOL 50 ML Total Qty 6 31 90 Total Sales (Excluding GST) 30.68 Discount 0.00 Total GST ' 122 Rounding . 0.00 Total Sales (Inclusive of GST) : 31.90 CASH : 50.00 Change : 18.10 GST SUMMARY Tax Code % Amt (RM) Tax (RM) SR 6 20 38 1.22 ZRL 0 10 30 0.00 Total : 30.68 1.22 GOODS SOLD ARE NOT RETURNABLE & EXCHANGABLE, THANK YOU.\",\n",
              " 'X51005433518': 'A03026 UNIHAKKA INTERNATIONAL SDN BHD 07 Mar 2018 18:22 (867388-U) 12, Jalan Tampoi 7/4, Kawasan Perindustrian Tampoi,81200 Johor Bahru,Johor TAX INVOICE Invoice # : OR18030702170417 Item Qty Total SR 100100000035- 1 Meat +3 Vege $7.10 1 $7.10 SR 100100000015 Vegetable $1.10 1 $1.10 Total Amount: $8.20 GST @6% $0.46 Nett Total: $8.20 Payment Mode Amount CASH $8.20 Change $0.00 GST Summary Amount($) Tax($) SR GST @6% 774 0.46 GST REG #000656195584 BAR WANG RICE@PERMAS JAYA (Price Inclusive Of GST) Thank You & Come Again! Like and Follow Us on Facebook! Facebook.com/BarWangRice',\n",
              " 'X51005433543': 'A03052 UNIHAKKA INTERNATIONAL SDN BHD 13 Mar 2018 18:35 (867388-U) 12, Jalan Tampoi 7/4, Kawasan Perindustrian Tampoi.81200 Johor Bahru,Johor TAX INVOICE Invoice # : OR18031302170441 Item Qty Total SR 100100000035- 1 Meat + 3 Vege $7.10 1 $7.10 SR I00100000015- Vegetable $1.10 1 $1.10 Total Amount: $8.20 GST @6%: $0.46 Nett Total: $8.20 Payment Mode Amount CASH $8.20 Change $0.00 GST Summary Amount($) Tax($) SR=GST @6% 7.74 0.46 GST REG #000656195584 BAR WANG RICE@PERMAS JAYA (Price Inclusive Of GST) Thank You & Come Again Like and Follow Us on Facebook! Facebook.com/BarWangRice',\n",
              " 'X51005433548': '1002057 - PASAR MINI JIN SENG 379, JALAN PERMAS SATU, BANDAR BARU PERMAS JAYA 81750 PLENTONG, JOHOR. TEL : 07-3874904 (CO. NO. JM0195368-D) (GST NO. 000150511616) TAXINV:001-1541798 03/03/18 Cashier : CASHIER 1 VEGETABLES 16.00 ZRL 1 TELUR / TELUR MASIN 2.40 ZRL 1 VEGETABLES 1.80 ZRL 1 GL STEWED PORK 256G 6.80 SR i BOTAN IKAN SARDIN 425G 6.80 SR Item Count 5 SUBTOTAL: 33.80 TL : RM 33.80 6% GST 0.77 Payment Details CASH 50.00 CASH CHANGE 16.20 03/03/18 10:18 #001-1541798# CASHIER GST Summary Amount (RM) Tax(RM) SR (@6%) 13.60 0,77 ZRL (@0%) 20.20 0.00 Thank you Please come again GOODS SOLD ARE NOT REFUNDABLE',\n",
              " 'X51005433556': 'A03064 YHM Aeon Tebrau City S117, Second Floor, Aeon Tebrau City, 1, Jalan Desa Tebrau, Taman Desa Tebrau, 81100 Johor Bahru, Johor. 002105827328 TAX INVOICE * Order No. 1000249 11/03/2018 07:09 PM Receipt No.:003-1220845 Pax: 1 Cashier :Cashier Eat In Item Qty U.Price Amount Tax FG-A00019 1 1.50 1.50 SR Green Tea FG-Y00030 1 12.80 12.80 SR Yakiniku Bowl R FG-Y00183 2 15.80 31.60 SR Negi Tama Beef Bowl R FG-Y00102 1 3.80 3.80 SR Miso/Wakame+Green Tea FG-Y00264 1 0.00 0.00 SR Miso Soup SubTotal : 49.70 Total : 49.70 TOTAL :MYR 49.70 Total Excluded Tax : 46.90 : 2.80 Payment Details Cash 50.00 Cash Change 0.30 Tax Summary Tax Code % Amount(MYR) Tax(MYR) SR 6 46.90 2.80 **** Thank You **** Please Come Again.',\n",
              " 'X51005442322': \"A03668 RESTAURANT TONY ROMA'S AEON TEBRAU CITY GRAND COMPANIONS SDN BHD (285560-H) LOT G112, AEON MALL TEBRAU CITY NO 1 JALAN DESA TEBRAU 81100 JOHOR BAHRU Tel: 07-3510749 Website: www.tonyromas.com.my Facebook: www.facebook.com/TRMALAYSIA GST ID:000436699136 2 TR1 1014 FAZLIN Chk 65991 Guest3 03 Mar 18 05:16:55 PM TBL43 / 1 1 NY STRIP 67.67 S Medium Well RANCH BEANS SLAW 1 NY STRIP 67.67 S Medium FR ROASTED VEGE BAKED POTATO Loaded 1 NY STRIP 67.67 S Medium Well FR ROASTED VEGE FF 1 ICE LATTE 9.35 S 1 7UP 9.35 S 1 PEPSI 9.35 S Subtotal 231.06 10% Srv Chg 23.10 GST @6% 15.25 Total 269.40 RM 10 OFF FOR A MINIMUM OF RM 50 SPENT ON YOUR NEXT VISIT TO TONY ROMA'S !! GO TO .WWW.TONYCARES.COM PLEASE TELL US HOW WE ARE DOING Store # 0217 SURVEY VALIDATION CODE This Receipt With Validation Code Is Valid 3 Months From Date of Receipt One redemption per group, per visit. Position Avariabit Excellent Day benefits it growth Apply at recru enfutonyromas.com GST @6% included in total GSTSummary Amount(RM) GST(RM) S=GST @6%: 254.17 15.25 Z=GST @0%: 0.00 0,00\",\n",
              " 'X51005442334': 'A03128 UNIHAKKA INTERNATIONAL SDN BHD 26 Mar 2018 18:14 (867388-U) 12, Jalan Tampoi 7/4, Kawasan Perindustrian Tampoi,81200 Johor Bahru,Johor TAX INVOICE Invoice # : OR18032602170324 Item Qty Total SR 100100000035- 1 Meat + 3 Vege $7.10 1 $7.10 SR 100100000015- Vegetable $1.10 1 $1.10 Total Amount: $8.20 GST @6%: $0.46 Nett Total: $8.20 Payment Mode Amount CASH $8.20 Change $0.00 GST Summary Amount($) Tax($) SR-GST@6% 774 0.46 GST REG #000656195584 BAR WANG RICE@PERMAS JAYA (Price Inclusive Of GST) Thank You & Come Again Like and Follow Us on Facebook! Facebook.com/BarWangRice &',\n",
              " 'X51005442343': '403077 YONG TAT HARDWARE TRADING (JM0292487-D) NO 4,JALAN PERJIRANAN 10, TAMAN AIR BIRU, 81700 PASIR GUDANG, JOHOR. TEL : 07-2514733 FAX : 07-2514733 YONGTAT99@YAROO.COM.M GST ID 001570349058 TAX INVOICE Doc No. : CS00035862 Date: 13/03/2018 Cashier : USER Time: 12:41:00 Salesperson : Ref.: (GST) (GST) Item Qty S/Price S/Price Amount Tax 8603 1.00 SHTS 67.92 72.00 72.00 SR 0.8MM X 50\" X 50\" AR RED GASKET GAIPO, Total Qty. 1 72.00 Total Sales (Excluding GST) : 67.92 Discount : 0.00 Total GST : 4.08 Rounding : 0.00 Total Sales (Inclusive of GST) : 72.00 CASH : 102.00 Change : 30.00 GST SUMMARY Tax Code % Amt (RM) Tax (RM) SR 6 67.92 4.08 Total : 67.92 4.08 GOODS SOLD ARE NOT RETURNABLE THANK YOU',\n",
              " 'X51005442366': 'A03/03 Triple Six Point Enterprise 666 No 14&16 Jalan Permas 4/3 Bandar Baru Permas Jay: Tel : 016-7574666 Receipt no: REC-0014888 Date: 22-03-2018 04:01:20 PM Payment Type: Cash Receipt (Receipt No.: REC-0014888) QTY ITEM PRICE TOTAL (RM) (RM) 1x VS FUJI500ml 10.00 10,00 1x Apollo cake 6.80 6.50 original 30s (Disc: 0.3000) 1x TG Cashew 4.20 4.20 nuts mixwd Almond smoke 1x TG Coated 1.90 1.90 coconut peanuts Discount 0.30 Total Amount 22.60 Tendered 22.60 &',\n",
              " 'X51005442375': 'A02112 UNIHAKKA INTERNATIONAL SDN BHD 25 Mar 2018 18:26 (867388-U) 12, Jalan Tampoi 7/4, Kawasan Perindustrian Tampoi,81200 Johor Bahru, Johor TAX INVOICE Invoice # : OR18032502170439 Item Qty Total SR 100100000060- 4 Vege $5.50 1 $5.50 SR 100100000057-Fried Noodle (L) $3.00 1 $3.00 Total Amount $8.50 GST @6%: $0.48 Nett Total: $8.50 Payment Mode Amount CASH $8.50 Change $0.00 GST Summary Amount($) Tax($) SR GST @6% 8.02 0.48 GST REG #000656195584 BAR WANG RICE@PERMAS JAYA (Price Inclusive Of GST) Thank You & Come Again Like and Follow Us on Facebook! Facebook.com/BarWangRice',\n",
              " 'X51005442382': '003119 UNIHAKKA INTERNATIONAL SDN BHD 20 Mar 2018 17:55 (867388-U) 12, Jalan Tampoi 7/4, Kawasan Perindustrian Tampoi,81200 Johor Bahru,Johor TAX INVOICE Invoice # : OR18032002170471 Item Qty Total SR 100100000061 5 Vege $6.60 1 $6.60 Total Amount: $6.60 GST @6%: $0.37 Nett Total: $6.60 Payment Mode Amount CASH $6.60 Change $0.00 GST Summary Amount($) Tax($) 6.33 0.37 SR=GST @6% GST REG #000656195584 BAR WANG RICE@PERMAS JAYA (Price Inclusive Of GST) Thank You & Come Again! Like and Follow Us on Facebook! Facebook.com/BarWangRice',\n",
              " 'X51005442388': 'A03125 CONTENTO (JM0761170-K) 15, JALAN PERMAS 10/7, PERMAS 81750 MASAI JOHOR 20/03/18 17:19 000000#001429 2x 5.90 (Dnly) RM 11.80 Bubble M T 1x 4.90 RM 4.90 Yam M I 1x 1.00 (Snack) RM 1.00 ADD ON 1x 3 90 RH 3.90 #. Cho ITEMS 50 ***TOTAL RM 21.60 CASH RM 30.00 CHANGE RM 8.40 THANK YOU FORWARD TO YOUR NEXT VISIT',\n",
              " 'X51005444040': \"B.I.G. Ber's Independent Group BENS INDEPENDENT GROCER SDN. BHD (913144-A) Lot 6, Jalan Batai, Plaza Batai, Damansara Heights 50490, Kuala Lumpur T: 03-2093 7358 | F: 03-2093 7359 (GST REG NO 000243941376) Tax Invoice : BAT01201803090220 09/03/18 Cashier : Jorvilyn 18:08:53 Evian Mineral Water 6x1.25L 3068320113784 53.50*2 107.00 Fresh Cut Honey Jackfruit Peeled 400g 1430018201 8.90*3 26.70 Z Item 2 Total with GST @ 6% 133.70 Qty 5 Rounding 0.00 Total Saving 0.00 Total 133.70 Tender Cash 140.00 Change 6.30 GST Analysis Goods Tax Amount S = 6% 100.94 6.06 Z = 0% 26.70 0.00 BIG.COM.MY FACEBOOK.COM/THEBIGGROUP EXCHANGE & REFUND MAY BE ALLOWED WITHIN 3 DAYS WITH ORIGINAL TAX INVOICE THANK YOU, PLEASE COME AGAIN BAT01201803090220\",\n",
              " 'X51005444041': \"B.I.G. Ber's Independent Group BENS INDEPENDENT GROCER SDN. BHD (913144-A) Lot 6, Jalan Batai, Plaza Batai, Damansara Heights 50490, Kuala Lumpur T: 03-2093 7358 ! F: 03-2093 7359 - (GST REG NO 000243941376) Tax Invoice : BAT01201803080169 08/03/18 Cashier : Sharol N 18:20:41 Dole Pineapple Pcs 8809069300708 7.90*3 23.70 Z Farmhouse Fresh Milk Twin Pack 2x1L 9556040440548 19.90*1 19.90 S Fresh Cut Hone, kfruit Peeled 400g 1430018201 8.90*3 26.70 Z Nestle Bliss Yog Drink Strawberry 700g 9556001030290 5.80*1 5.80 S Vitagen Assorted 5x125ml 9557305000118 4.90*1 4.90 S Item 5 Total with GST @ 6% 81.00 Qty 9 Rounding 0.00 Total Saving 0.00 Total 81.00 Tender Pmpc (debit) 0012 App: 578149 81.00 Change 0.00 GST Analysis Goods Tax Amount S = 6% 28.86 1.74 Z = 0% 50.40 0.00 BIG.COM.MY FACEBOOK.COM/THEBIGGROUP EXCHANGE & REFUND MAY BE ALLOWED WITHIN 3 DAYS WITH ORIGINAL TAX INVOICE THANK YOU, PLEASE COME AGAIN BAT01201803080169\",\n",
              " 'X51005444044': '99 SPEED MART S/B (519537-X) LOT P.T. 2811, JALAN ANGSA, TAMAN BERKELEY 41150 KLANG, SELANGOR 1572-TMN BKT PANDAN GST ID. NO : 000181747712 INVOICE NO : 18332/103/T0157 02:27PM 570285 10-03-18 104 SUNQUICK OREN 330ML RM5.35 $ Total Sales (Inclusive GST) RM 5.35 CASH RM 6.00 CHANGE RM .65 GST Summary Amount(RM) Tax(RM) S = 6% 5.05 .30 Thank You. Please come again Keep the invoice for applicable returns',\n",
              " 'X51005444046': 'STAR GROCER SDN BHD (1171881-W No 4, Desa Pandan, Off kampong Pandan, 55100 Kuala Lumpur (GST REG NO: 000915943424) Tax Invoices Tax Invoice : DSP05201803250022 25/03/18 Cashier : Raja Nur 13:43:11 CARROT S/M 500GM CH (PKT) 1800001501 1.59*8 12.72 Z JAMBU BATU (GUAVA SEEDLESS/ MUTIARA) KG 200033100148002149 6.92*0.214 1.48 Z MANGO HONEY (SUSU) (KG) 200010800259005280 4.91*0.528 2.59 Z PINEAPPLE LOCAL 1S 1810064501 8.60*2 17.20 Z TIMUN JEPUN (JAPANESE CUCUMBER) KG 200017100108008367 1.29*0.837 1.08 Z US GREEN APPLE (175) 10S 1810078202 7.50*1 7.50 Z VALENCIA SA (105) 85 1810061602 5.90*4 23.60 Z Item 7 Total with GST @ 6% 66.17 Qty 18 Rounding -0.02 Total Saving 0.00 Total 66.15 Tender Cash 67.00 Change 0.85 GST Analysis Goods Tax Amount S = 6% 0.00 0.00 Z = 0% 66.17 0.00 Consider PTS: 66',\n",
              " 'X51005447841': \"PASARAYA BORONG PINTAR SDN BHD BR No.: (124525-H) NO 19-G&19-1&19-2 JALAN TASIK UTAMA 4, MEDAN NIAGA TASIK DAMAI 016-5498845, GST No. : 09/03/2018 4:21:23PM TAX INVOICE TRN: CR0008252 COUNTER 3 CASHIER: 2 QTY UOM UNIT Amt Exc. Amt Inc. GST Price Tax Tax Code A&M SARSAP 330ML 1 WALK 1.20 1.20 1.20 ZRL 100PLUS REGULAR 500ML 1 WALK 1.90 1.90 1.90 ZRL Loacker wafer milk 45g 1 WALK 2.70 2.70 2.70 ZRL fishermans.f s/free lemon 25g 1 WALK 4.60 4.60 4.60 ZRL *Total Qty: 4.00 10.40 Total Includes GST 0% 10.40 Customer's Payment Cash 10.50 Change 0.10 GST Summary Amount (RM) Tax (RM) ZRL = 0% 10.40 0.00 *Goods sold are not returnable Thank you for shopping at PASARAYA BORONG PINTAR SDN BHD\",\n",
              " 'X51005447842': \"PASARAYA BORONG PINTAR SDN BHD BR No.: (124525-H) NO 19-G&19-1&19-2 JALAN TASIK UTAMA 4, MEDAN NIAGA TASIK DAMAI 016-5498845 GST No : 14/03/2018 4:06:34PM TAX INVOICE TRN: CR0008955 COUNTER 3 CASHIER 1 QTY UOM UNIT Amt Exc. Amt Inc. GST Price Tax Tax Code GB CR-CORN 1 WALK 0.90 0.90 0.90 ZRL *Total Qty: 1.00 0.90 Total Includes GST 0% 0.90 Customer's Payment Cash 5.00 Change 4.10 GST Summary Amount (RM) Tax (RM) ZRL = 0% 0.90 0.00 *Goods sold are not returnable Thank you for shopping at PASARAYA BORONG PINTAR SDN BHD\",\n",
              " 'X51005447844': 'RESTAURANT JIAWE I JIAWEI HOUSE 002693074-K 13, JLN ASIK UTAMA 8 MEDAN NIAGA DAMAI SG BESI 57000 KL INVOICE Invoice : 8884 Cashier:admin POS No 2 Date : 23/2/2018 20:04:08 Table : 13 ITEM QTY U/P (RM) DISC(%) Amt (RM) Red Cat Fish 1 42.00 0.00 42. Steamed Ginger Clams (S) 1 20.00 0.00 Beancurd W Dao Gan (S) 1 18.00 0.00 G. Dragon Chives (S) 1 16.00 0.00 STIR FRIED Pu Er (1-3) (1-3) 1 5.00 0.00 5.0 HOT Rice (B) .50 0.00 6 Rice Small 1 00 0.00 3.0 Sub Total Bc scount RM 110.00 Service Char RM 0.00 Total Sales RM 110.00 Rounding Adjustment : RM 0.00 TOTAL RM 110.00',\n",
              " 'X51005447851': \"PASARAYA BORONG PINTAR SDN BHD BR No.: (124525-H) NO 19-G&19-1&19-2 JALAN TASIK UTAMA 4, MEDAN NIAGA TASIK DAMAI 016-5498845, GST No. : 30/01/2018 14:48:23 TAX INVOICE TRN: CR0002815 COUNTER 3 CASHIER 11 QTY UOM UNIT Amt Exc. Amt Inc. GST Price Tax Tax Code REVIVE 500ML 1 WALK 1.70 1.70 1.70 ZRL *Total Qty: 1.00 1.70 Total Includes GST 0% 1.70 Customer's Payment Cash 100.00 Change 98.30 GST Summary Amount (RM) Tax (RM) ZRL = 0% 1.70 0.00 *Goods sold are not returnable Thank you for shopping at PASARAYA BORONG PINTAR SDN BHD\",\n",
              " 'X51005447859': \"PASARAYA BORONG PINTAR SDN BHD BR No.: (124525-H) NO 19-G&19-1&19-2 JALAN TASIK UTAMA 4, MEDAN NIAGA TASIK DAMAI 016-5498845 GST No : 14/02/2018 5:37:44PM TAX INVOICE TRN: CR0005140 COUNTER 4 CASHIER: 2 QTY UOM UNIT Amt Exc. Amt Inc. GST Price Tax Tax Code 100PLUS LIME 325ML 1 WALK 1.45 1.45 1.45 ZRL *Total Qty: 1.00 1.45 Total Includes GST 0% 1.45 Customer's Payment Cash 10.00 Change 8.55 GST Summary Amount (RM) Tax (RM) ZRL = 0% 1.45 0.00 *Goods sold are not returnable Thank you for shopping at PASARAYA BORONG PINTAR SDN BHD\",\n",
              " 'X51005568855': \"POPULAR BOOK CO. (M) SDN BHD (Co. No. 113825-W) (GST Reg No. 001492992000) No 8, Jalan 7/118B, Desa Tun Razak 56000 Kuala Lumpur, Malaysia CHERAS LEISURE MALL Tel : 03-91322435/437 23/12/17 15:53 Slip No. 9050338975 ainaa Trans: 309782 Member Card No: 2002008362210 Card Expiry: 31/08/20 Description Amount Shoe White SW1101*2S 4.29 T MR C. TAPE REF WH624R- 31.99 T KIT KAT 2F (PM) 170 1.35 T Oxford-Coin Box BTS RM10 Voucher Issu FC GRIP BP0.5 BLK PK 4.20 T Member Discount -0.42 FC GRIP BP0.5 BLU PK 4.20 T Member Discount -0.42 3M GlueStick 7gm 4's 10.59 T STAT-PROMO SPECIAL -3.69 PU F/C B/L A4 450's 16.99 T STAT-PROMO SPECIAL -2.99 PLUS stapler set 010E 8.89 T STAT-PROMO SPECIAL -3.89 FC EXM.ERS 4S 187016 3.90 T STAT-PROMO SPECIAL -0.91 S4 SUPER S M AKT SPM [BK] 9.90 Z Rev-BTS Promotion -1.49 SUCCESS SPM ADD MATHS[BK] 37.00 Z Rev-BTS Promotion -7.40 SUCCESS SPM SCI [BK] 35.70 Z Rev-BTS Promotion -7.14 Total RM Incl. of GST 140.65 Mastercard -140.65 Item Count 14 GST Summary Amount (RM) Tax (RM) T @ 6% 69.90 4.18 Z @ 0% 66.57 0.00 Total Savings -28.35 BE A POPULAR CARD MEMBER AND ENJOY SPECIAL DISCOUNTS THANK YOU. PLEASE COME AGAIN. www.popular.com.m Buy Chinese books online www.popularonline.com.my\",\n",
              " 'X51005568866': 'POPULAR BOOK CO. (M) SDN BHD (Co. No. 113825-W) (GST Reg No. 001492992000) No 8, Jalan 7/118B, Desa Tun Razak 56000 Kuala Lumpur, Malaysia CHERAS LEISURE MALL Tel : 03-91322435/437 Mega Bookfair @ SPCC 2017 Sunway Pyramid Convention Centre 25 AUG - 3 Sept 2017 20/08/17 12:48 Slip No. 9020374693 Yen Lee Trans: 304168 Member Card No: 2002008362249 Card Expiry: 31/08/20 Description Amount H MAN GLASS PAPER 4pc @ 1.40 5.60 T Member Discount -0.56 Total RM Incl. of GST 5.04 Rounding Adj 0.01 Total RM 5.05 Cash -10.00 CHANGE 4.95 Item Count 4 GST Summary Amount (RM) Tax (RM) T @ 6% 4.75 0.29 Total Savings -0.56 BE A POPULAR CARD MEMBER AND ENJOY SPECIAL DISCOUNTS THANK YOU. PLEASE COME AGAIN. www.popular.com.m Buy Chinese books online www.popularonline.com.m',\n",
              " 'X51005568885': 'EVERGREEN LIGHT SDN BHD (827859-U) NO.7-1, JALAN PUTERI 7/11, BANDAR PUTERI, 47100 PUCHONG, BELANGOR TEL/FAX: 03-80609719 (NO. ID GET: 000389353472 } TAX INVOICE NO.: 139110 EDDIE #01-01 10/07/2017 18:02 B.CODE QTY U/PRICE AMT 11598 4 13.21 52.845 PROBMK 10W LED STICK SUB-TOTAL 52.84 Total@BT(E) 3.17 8UB-TOTAL 56.01 ROUNDING ADJUET -0.01 TOTAL ITEM(B): 1 TOTAL QUANTITY : 4 RM Total Incl GST 56.00 Pay Cash 56.00 Change 0.00 GET Texable Amt GBT Amt s-8R(E) - 6% 52.84 3.17 THANK YOU GOODB BOLD ARE NOT REFUNDABLE FOR CABH.',\n",
              " 'X51005568887': 'HON HWA HARDWARE TRADING Company Reg. No. : 001055194X NO 37, JALAN MANIS 7, TAMAN SEGAR, 56100 CHERAS, KUALA LUM PUR. +603-9130 2672 GST Reg : 001125220352 TAX INVOICE CB#: 75588 28/04/2017 11:01:38 AM M# : C2 - 0 Cashier : cash1 - Qty Description Price Total(RM) 1.2 3/4\" ALUMINIUM ROD 6.00 7.20 SR Item Discount 0.00 1.2 Type: 1 Total 7.20 Discount: 0.00 Rounding Adj 0.00 Total Inclusive GST: 7.20 CASH 7.20 GST Summary Code % Net Amt GST Total(RM) SR SR 6.79 0.41 7.20 Total 6.79 0.41 7.20 Thank you ! & Please come again !! Goods sold are not returnable for refund Of exchange II',\n",
              " 'X51005568889': 'HON HWA HARDWARE TRADING Company Reg. No. : 001055194X NO 37, JALAN MANIS 7. TAMAN SEGAR, 56100 CHERAS, KUALA LUMPUR. +603-9130 2672 GST Reg : 001125220352 TAX INVOICE CB# 69379 11/02/2017 9:35:48 AM M# : C1 - 0 Cashier : cash3 - Qty Description Price Total(RM) 1.38 3/4\" ALUMINIUM ROD 5.80 19.60 SR Item Discount 0.00 1.38 Type: 1 Total 19.60 Discount: 0.00 Rounding Adj 0.00 Total Inclusive GST: 19.60 CASH 19.60 GST Summary Code % Net Amt GST Total(RM) SR SR 18.49 1.11 19.60 Total 18.49 1.11 19.60 Thank you ! & Please come again !! Goods sold are not returnable for refund or exchange II',\n",
              " 'X51005568890': 'HON HWA HARDWARE TRADING Company Reg. No. : 001055194X NO 37, JALAN MANIS 7, TAMAN SEGAR, 56100 CHERAS, KUALA LUM PUR. +603-9130 2672 GST Reg : 001125220352 TAX INVOICE CB#: 66549 05/01/2017 4:47:51 PM M# : C2 - 0 Cashier : cash1 - Qty Description Price Total(RM) 5 PVC WALLPLUG 1.00 5.00 SR (50PCS) 5 Type: 1 Total 5.00 Discount 0.00 Rounding Adj 0.00 Total Inclusive GST: 5.00 CASH 5.00 GST Summary Code % Net Amt GST Total(RM) SR SR 4.72 0.28 5.00 Total 4.72 0.28 5.00 Thank you ! & Please come again !! Goods sold are not returnable for refund or exchange !!',\n",
              " 'X51005568892': 'EVERGREEN LIGHT SDN BHD (827859-U) NO.7-1, JALAN PUTER] 7/11, BANDAR PUTERI, 47100 PUCHONG, BELANGOR TEL/FAX: 03-80609719 (NO. ID GBT: 000389353472 } TAX INVOICE NO.: 142507 EDDIE #01-01 18/09/2017 17:21 B.CODE QTY U/PRICE AMT 11598 2 12.26 24.525 PROBMK 10WLED STICK SUB-TOTAL 24.52 Total GBT(E) 1.47 BUB-TOTAL 25.99 ROUNDING ADJUST 0.01 TOTAL ITEM(B): 1 TOTAL QUANTITY : 2 RM Total Incl GST 26.00 Pay Cash 26.00 Change 0.00 GET Taxable Amt GET Amt s-8R(E) - 6% 24.52 1.47 THANK YOU GOODE BOLD ARE NOT REFUNDABLE FOR CABH.',\n",
              " 'X51005568894': \"VIVOPAC MARKETING SDN BHD (1070687-M) 14 JALAN MANIS 4 TAMAN SEGAR 56100 KL TEL: 03-91334364 FAX: 03-91310522 www.vivopac.com GST REG: 000565805056 TAX INVOICE Doc # : CS21532619 Date : 17/01/2017 01:31:27 PM Promoter : Terminal : T02 Cashier : AI DESCRIPTION PRICE Disc AMOUNT TAX QTY RM RM CODE PP - 14x20 0.04mm 1.00 PKT * 14.6000 14.60 SR PP - 16x26 0.04mm 1.00 PKT * 14.6000 14.60 SR 24 x 28 (75HT) Red 1.00 PKT * 6.0000 6.00 SR 26 x 33 (85HT) Red 1.00 PKT * 8.0000 8.00 SR 1 OPP Tapes 1.00 PCS * 0.8000 0.80 SR Item Count: 5 Item Qty: 5.00 Sub Total (Exclusive GST) : 44.00 GST 6% : 2.64 Rounding Adj. : 0.01 Rounded Total (RM): 46.65 Cash 51.65 Cash Change 5.00 GST Summary Amount(RM) Tax(RM) SR @ 6 % 44.00 2.64 Terms & Conditions Goods sold are not refundable with cash. For exchange of goods sold the following apply: 1. The original receipt must be presented 2. Exchange is done within 7 days from date of receipt 2. In good condition and in it's original pakcing\",\n",
              " 'X51005568895': \"VIVOPAC MARKETING SDN BHD (1070687-M) 14 JALAN MANIS 4 TAMAN SEGAR 56100 KL TEL: 03-91334364 FAX: 03-91310522 www.vivopac.com GST REG: 000565805056 TAX INVOICE Doc # : CS11567459 Date : 13/09/2017 01:13:09 PM Promoter : Terminal : T01 Cashier : UJI DESCRIPTION PRICE Disc AMOUNT TAX QTY RM RM CODE Stretch Film (100mmx120m) 1.00 ROLL * 4.5000 4.50 SR PP - 16x26 0.04mm 1.00 PKT * 15.0000 15.00 SR PP - 14x20 0.04mm 2.00 PKT * 15.0000 30.00 SR Item Count: 3 Item Qty: 4.00 Sub Total (Exclusive GST) : 49.50 GST 6% : 2.97 Rounding Adj. : -0.02 Rounded Total (RM): 52.45 Cash 53.00 Cash Change 0.55 GST Summary Amount(RM) Tax(RM) SR @ 6 % 49.50 2.97 Terms & Conditions Goods sold are not refundable with cash. For exchange of goods sold the following apply: 1. The original receipt must be presented 2. Exchange is done within 7 days from date of receipt 2. In good condition and in it's original pakcing\",\n",
              " 'X51005577191': 'FY EAGLE ENTERPRISE 002065464-X NO. 42, JALAN PBS 14/11, TAMAN PERINDUSTRIAN BUKIT SERDANG, 43300 SERI KEMBANGAN, SELANGOR TEL: 03-89433143 FAX: 03-89433143 GST NO: 001663156224 TAX INVOICE RECEIPT #: CS00031383 DATE: 07/12/2017 SALESPERSON : TIME: 16:18:00 CASHIER : USER ITEM QTY U/P AMOUNT (RM) (RM) 13451 1 10.00 10.00 SR:500ML PAINT REMOVER(M.TE)-KTH TOTAL QUANTITY 1 SUB-TOTAL 9.43 DISC 0.00 GST 0.57 ROUNDING 0.00 TOTAL 10.00 CASH 10.00 CHANGE 0.00 GST SUMMARY CODE AMOUNT % TAX/AMT SR 9.43 6 0.57 TAX TOTAL: 0.57 GOODS SOLD ARE NOT RETURNABLE, THANK YOU.',\n",
              " 'X51005582745': 'MODERN DEPOT SDN BHD 950345-T NO.19, PT18685, JALAN JAMBU MELAKA 2, JINJANG SELATAN, KEPONG. TEL: +603-6242 8074 FAX: +603-6242 8176 GST NO: 002098102272 CASH RECEIPT #: CS00090733 DATE: 04/12/2016 SALESPERSON : TIME: 09:58:00 CASHIER : THYE ITEM QTY U/P AMOUNT CLSTEL670 1 141.51 141.51 SR:STEL670 HEATGUN 2000W \"STANLEY\" S/N: 031274 TOTAL QUANTITY 1 SUB-TOTAL 141.51 DISC 0.00 TOTAL GST 8.49 TAX 0.00 ROUNDING 0.00 TOTAL 150.00 CASH 150.00 CHANGE 0.00 GST SUMMARY CODE AMOUNT % TAX/AMT SR 141.51 6 8.49 TAX TOTAL: 8.49 GOODS SOLD ARE NOT RETURNABLE, THANK YOU. # GST @ 6% INCLUDED IN TOTAL',\n",
              " 'X51005587261': 'CHOP YEW LIAN Company No : 000200101-A LOT PT 5121, Per. Klang, Sek. 27 40000 Shah Alam, Selangor Site : 1164 Telephone : 03-51911239 GST No : 000840966144 >>>>>>> Pre-Authorisation <<<<< Pre auth code A01A1490249339 11.54 litre Pump # 01 V-Power 97 RM 30.00 A 2.600 RM / litre Total RM 30.00 Cash RM 30.00 6.00% GST A RM 1.70 Total Gross A RM 30.00 Shell Loyalty Card 6018840117325593 Points will be awarded for any eligible purchases. Pay your fuel with points! Cashier: Jamaluddin This is not the final fiscal receipt Date Time Num POS CNo Shift 23/03/17 14:08 17542 01 8994 160 Diesel & Petrol RON95 given relief under Section 56(3)(b) GST Act 2014 Thank You and Please Come Again',\n",
              " 'X51005605287': 'DE AEON CO. (M) BHD (126926-H) 3RD FLR, AEON TAMAN MALURI SC JLN JEJAKA, TAMAN MALURI CHERAS, 55100 KUALA LUMPUR GST ID : 002017394688 SHOPPING HOURS MON-SUN:1000 HRS - 2200 HRS VALUED CUSTOMER: 1130307913 1x 000005469765 6.65SR TOPVALU FLOOR C 1x 000001101575 5.60SR CIF REGULAR 50 Sub-total 12.25 Total Sales Incl GST 12.25 Total After Adj Incl GST 12.25 CASH 50.00 Item Count 2 Change Amt 37.75 Invoice No: 2018031430090060035 GST Summary Amount Tax SR @ 6% 11.55 0.70 Total 11.55 0.70 14/03/2018 12:43 3009 006 0060035 0284846 AMIRUL',\n",
              " 'X51005605295': 'ECONSAVE OE ECONSAVE CASH & CARRY (FC) S/5 (930311-W) Lot G01, KL Festival City, No. 67 Jln Ibu Kota Imn Danau Kota, KL Tel : (603) 4148 1027 22/03/18 10:17 RG:4 TX:24382 GST Reg No : 001919221760 Inv No: 220318/10049/04/24382 QTY RM ITEM # 9555501403092 (NR)ES CHOICE SOFT 1 4.20 S ITEM # 9555501400367 (NR)ES ICE COOL MI 1 0.95 S SUBTOTAL 5.15 TOTAL(INCL GST) 5.15 CASH 5.20 CHANGE DUE 0.05 ITEMS PURCHASED: 2 GST - RATE AMT(RM) TAX(RM) S 6% 4.86 0.29 BANDINGKAN HARGA KAMI Thank You. Please Come Again. PAULINE AK JABAN St:10049 Rg:4 Ch: 1010 Tr:24382 10:18 22/03/18',\n",
              " 'X51005605332': 'POPULAR BOOK CO. (M) SDN BHD (Co. No. 113825-W) (GST Reg No. 001492992000) No 8, Jalan 7/118B, Desa Tun Razak 56000 Kuala Lumpur, Malaysia SUNWAY VELOCITY Tel : 03-9201 6281/6920 14/03/18 12:52 Slip No. : 0040081037 LEE WIN LEE Trans: 90243 Description Amount CBE Rubber Band200gm 7.95 T Total RM Incl. of GST 7.95 Cash -10.00 CHANGE 2.05 Item Count 1 GST Summary Amount (RM) Tax (RM) T @ 6% 7.50 0.45 Total Savings 0.00 BE A POPULAR CARD MEMBER AND ENJOY SPECIAL DISCOUNTS THANK YOU. PLEASE COME AGAIN. www.popular.com.my Buy Chinese books online www.popularonline.com.my',\n",
              " 'X51005621482': \"PREMIO PREMIO STATIONERY SDN BHD (Co. No.: 123769-W) GST Reg. No.: 001032994816 No 57, Jalan SS 3/29, 47300 Petaling Jaya, Selangor. 03-7874 8605 TAX INVOICE Invoice No : SS3-154439 Date : 20/03/2018 3:20:16 PM Cashier : IVY Description Qty Price Amount 1 SR ENERGIZER 1 13.40 13.40 BATTERY AA 4'S Total : 13.40 Discount 0.00 Total Sales Inclusive GST @6.00%: 13.40 Cash Received : 20.00 Change : 6.60 Starting 1st April, we will no longer be issuing handwritten invoices. Your service jobs such as photocopy and printing are replaced by the order form along with a copy of this receipt All goods and services are subjected to the 6% GST during checkout All goods sold are not returnable/refundable. Exchanges are only acceptable within 3 days with a proof of receipt. All cartridge & toner sales are final and non-refundable No cash refunds for credit card purchases. No refunds or exchanges will be entertained without proof of receipt Terms and conditions applied. GST Summary % Amount(RM) Tax(RM) SR 6.00 12.64 0.76 Thank you for Shopping at PREMIO Have a Nice Day! For the latest news and updates like us on facebook.com/premiostationery\",\n",
              " 'X51005663274': '3 1802013 LIM SENG THO HARDWARE TRADING No 7. Simpang Off Batu Village, Jalan Ipoh Batu 5. 51200 Kuala Lumpur. MALAYSIA Tel & Fax No : 03-6258 7191 03-6258 7191 Company Reg No. (002231061-T) GST Reg No 001269075968 TAX INVOICE invoice No.: CS 24358 Date : 08/02/2018 12:42 Cashier # : LST RM Code BEG GUNI 15.00 NOS X 0.70 10.50 SR Subtotal : 10.50 Total Inci. of GST 10.50 Payment : 10.50 Change Due : 0.00 Total Item(s) : 15 GST Summary Amount (RM) Tax(RM) SR @ 6% 9.91 0.59 THANK YOU ********* ***** PLEASE COME AGAIN ***** *GOODS SOLD ARE NOT RETURNABLE*',\n",
              " 'X51005663300': '31802.013 LIM SENG THO HARDWARE TRADING No 7. Simpang Off Batu Village, Jalan Ipoh Batu 5, 51200 Kuala Lumpur MALAYSIA Tel & Fax No : 03-6258 7191 03-6258 7191 Company Reg No (002231061-T) GST Reg No. 001269075968 TAX INVOICE Invoice No CS 24146 Date : 02/02/2018 10:06 Cashier # LST RM Code BEG GUNI 10.00 NOS X 0.70 7.00 SR Subtotal : 7.00 Total Incl. of GST 7.00 Payment : 7.00 Change Due : 0.00 Total Item(s) : 10 GST Summary Amount (RM) Tax(RM) SR @ 6% 6.60 0 40 THANK YOU ***** PLEASE COME AGAIN ***** *GOODS SOLD ARE NOT RETURNABLE*',\n",
              " 'X51005663307': '31802013 Tax Invoice LA STATIONERY SDN BHD (640899-P) NO.8, JALAN 46/26, TAMAN SRI RAMPAI, 53300 KUALA LUMPUR. Tel No. : 03 - 4023 0088 GST Reg. : 001542721536 Invoice No. : T01-006194 Date : 09/02/2018 09:21:19 AM Terminal : T01 Cashier : VICKIE DESC U. PRICE Disc AMOUNT TAX QTY RM RM CODE GELPEN REFILL PILOT G2 0.5 BLACK 5 PCS 2.86 0.00 14.30 SR GELPEN REFILL PILOT G2 0.5 BLUE 5 PCS 2.86 0.00 14.30 SR GELPEN REFILL PILOT G2 0.5 RED 2 PCS * 2.86 0.00 5.72 SR GLUE - CLEAR GLUE 1000ML 1 BTL * 7.42 0.00 7.42 SR LIQUID PAPER - PAPERMATE NP10 7ml. 2 PCS * 3.71 0.00 7.42 SR PERMANENT MARKER SHARPIE FINE BLACK 30051 1 PCS * 2.33 0.00 2.33 SR BALLPEN PILOT FRIXION 0.5 BLACK 1 PCS * 5.30 0.00 5.30 SR Sub Total(Inclusive GST) : 56.80 Rounding Adjustment : 0.01 Rounded Total (RM): 56.80 Cash 100.00 Cash Change 43.20 GST Summary Amount(RM) Tax(RM) SR @ 6 % 53.58 3.21',\n",
              " 'X51005663309': '31802013 KOH SENG HARDWARE 1502665-P NO. 939, BATU LIMA, JALAN IPOH, 51200 KUALA LUMPUR. TEL: 03-62504769 FAX: 03-62504769 GST NO: 001117650944 TAX INVOICE CASH RECEIPT #: CS00044964 DATE: 01/02/2018 CASHIER : USER ITEM QTY U/P AMOUNT 3674 10 0.53 5.30 S SR:SUGA BAG TOTAL QUANTITY 10 DISC 0.00 GST 0.30 ROUNDING 0.00 TOTAL 5.30 CASH 20.50 CHANGE 15.20 GST SUMMARY CODE AMOUNT % TAX/AMT SR 5.00 6 0.30 TAX TOTAL: 0.30 GOODS SOLD ARE NOT RETURNABLE, THANK YOU.',\n",
              " 'X51005663310': '31802013 LIM SENG THO HARDWARE TRADING No 7, Simpang Off Batu Village Jalan Ipoh Batu 5. 51200 Kuala Lumour MALAYSIA Tei & Fax No : 03-6258 7191 03-6258 7191 Company Reg No (002231061-T) GST Reg No. :001269075968 TAX INVOICE Invoice No : CS 24388 Date 09/02/2018 10:05 Cashier # LST RM Code BEG GUNI 12.00 NOS X 0.70 8 40 SR Subtotal 8.40 Total Incl. of GST 8.40 Payment : 8.40 Change Due : 0.00 Total Item(s) : 12 GST Summary Amount(RM) Tax(RM) SR @ 6% 7.92 0.48 1 THANK YOU ********* PLEASE COME AGAIN ***** GOODS SOLD ARE NOT RETURNABLE',\n",
              " 'X51005663323': \"8.12.017 KOH SENG HARDWARE 1502665-P NO. 939, BATU LIMA, JALAN IPOH, 51200 KUALA LUMPUR. TEL: 03-62504769 FAX: 03-62504769 GST NO: 001117650944 TAX INVOICE CASH RECEIPT #: CS00042153 DATE: 04/12/2017 CASHIER : USER ITEM QTY U/P AMOUNT 3751 2 424.00 848.00 S SR:EXTENSION LADDER 12' X 12' TOTAL QUANTITY 2 DISC 0.00 GST 48.00 ROUNDING 0.00 TOTAL 848.00 CASH 848.00 CHANGE 0.00 GST SUMMARY CODE AMOUNT % TAX/AMT SR 800.00 6 48.00 TAX TOTAL: 48.00 48.00 GOODSSOLI ARE NOT RETURNABLE, THANK YOU.\",\n",
              " 'X51005675099': '31801011 Super Terminal Sdn Bhd (1150024-H) TAX INVOICE No. 18 & 19, Taman City, Jalan Kuching, 52100 Kuala Lumpur TEL: +603-6251 2293 GST ID No: 000180269056 PLATE NO.: 1. LED 11 SIGNAL 1 X 55.00 58.30 SR 2. KZ SIGNAL CONDENSOR (KOZI) 12V (MODEL:SC1201)(MT) 18.00 19.08 SR 3. YAMLUBE (SEMI) MOTOR OIL I X 30.00 31.80 SR 4. OIL FILTER LC135 1 X 13.00 13.78 SR 5. BULB SIGNAL 12V8 RXZ G18.5 1 X 3.00 - 3.18 SR 6. NUMBER PLASTIC 6 X 1.00 - 6.36 SR Total Sales Inclusive GST @6% 132.50 CASH 132.50 CHANGE 0.00 GST Summary Amount(RM) Tax(RM) SR @ 6% 125.00 7.50 7.50 INV NO: CS-1801-00883Date : 20/01/2018',\n",
              " 'X51005675103': '3/80/011 SYARIKAT PERNIAGAAN GIN KEE (81109-A) NO 290, JALAN AIR PANAS, SETAPAK, 53200, KUALA LUMPUR. TEL : 03-40210276 GST ID : 000750673920 SIMPLIFIED TAX INVOICE CASH Doc No. : CS00012544 Date: 04/01/2018 Cashier : USER Time: 15:46:00 Salesperson : Ref. : Item Qty S/Price Amount Tax 1840 1 40.28 40.28 SR K10\\' 1 X (8 1664 2 26.50 53.00 SR 1LT BIG TREE HIGH GLOSS PAINT 1909 1 6.89 6.89 SR 7\" ROLLER REFILL Total Qty: 4 100.17 Total Sales (Excluding GST) : 94.50 Discount : 0.00 Total GST : 5.67 Rounding : 0.00 Total Sales (Inclusive of GST) : 100.17 CASH : 100.17 Change : 0.00 GST SUMMARY Tax Code % Amt (RM) Tax (RM) SR 6 94.50 5.67 Total : 94.50 5.67 5.67 GOODS SOLD ARE NOT RETURNABLE THANK YOU.',\n",
              " 'X51005675104': '31801011 SYARIKAT PERNIAGAAN GIN KEE (81109-A) NO 290, JALAN AIR PANAS, SETAPAK, 53200, KUALA LUMPUR. TEL : 03-40210276 GST ID : 000750673920 SIMPLIFIED TAX INVOICE CASH Doc No. : CS00012944 Date: 25/01/2018 Cashier : USER Time 14.29.00 Salesperson : Ref. Item Qty S/Price Amount Tax 1007 3 63.60 190.80 SR 12MM 4/8B PLYWOOD Total Qty: 3 190.80 Total Sales (Excluding GST) : 180.00 Discount : 0.00 Total GST : 10.80 Rounding : 0.00 Total Sales (Inclusive of GST) : 190.80 CASH : 190.80 Change : 0.00 GST SUMMARY Tax Code % Amt (RM) Tax (RM) SR 6 180.00 10 80 Total : 180.00 10.80 10.80 GOODS SOLD ARE NOT RETURNABLE THANK YOU.',\n",
              " 'X51005675914': '3 1 BEYOND BROTHERS HARDWARE (872981-V) LOT 1-0-2, JLN 1/50, DIAMOND SQUARE, OFF JLN GOMBAK 53000 KUALA LUMPUR TEL : 03-40211233 FAX : 03-40223233 IVAN_KONG12@HOTMAIL COM GST ID : 001921974272 TAX INVOICE Doc No. : CS00059502 Date 10/11/2017 Cashier : USER Time: 15:43:00 Salesperson : Ref. (GST) (GST) Item Qty S/Price S/Price Amount Tax 1765 1 5.00 5.30 5.30 SR PENTENS PUTTY FILLER 500G 1914 1 2.00 2.12 2.12 SR PAPAN CAT 3801 1 8.00 8.48 8.46 SR TUPAI ROLLER 7\" SET) 4184 1 37.00 39 22 39.22 SR MAXILITE 7L 14139 4630 1 8.00 848 8.48 SR ARROW TALI TAPE 7 5M (OFFER (1) 4485 1 4 00 4.24 4.24 SR SCAPPER BIASA 3\\' Total Qty. 6 67.84 Total Sales (Excluding GST) : 64.00 Discount : 0.00 Total GST : 3.84 Rounding : 0.01 Total Sales (Inclusive of GST) : 67.85 CASH : 70.00 Change : 2.15 GST SUMMARY Tax Code 0 Amt (RM) Tax (RM) SR 6 64.00 384 Total : 64.00 3.84 3.84 GOODS SOLD ARE NOT RETURNABLE, THANK YOU.',\n",
              " 'X51005676534': '3 18,010.17 SYARIKAT PERNIAGAAN GIN KEE (81109-A) NO 290, JALAN AIR PANAS, SETAPAK, 53200, KUALA LUMPUR. TEL : 03-40210276 GST ID : 000750673920 SIMPLIFIED TAX INVOICE CASH Doc No. : CS00012524 Date: 03/01/2018 Cashier : USER Time: 17:08:00 Salesperson : Ref. : Item Qty S/Price Amount Tax 1512 1 10.60 10.60 SR 104 COTTON GLOVE (DOZEN) 3032 1 23.32 23.32 SR FACE MASK 3313 2 19.08 38.16 SR CS 200A CUTTING WHEEL Total Qty: 4 72.08 Total Sales (Excluding GST) : 68.00 Discount : 0.00 Total GST : 4.08 Rounding : 0.00 Total Sales (Inclusive of GST) : 72.08 CASH : 72.08 Change : 0.00 GST SUMMARY Tax Code % Amt (RM) Tax (RM) SR 6 68.00 4.08 Total : 68.00 4.08 GOODS SOLD ARE NOT RETURNABLE THANK YOU.',\n",
              " 'X51005676535': '318.01.017 SYARIKAT PERNIAGAAN GIN KEE (81109-A) NO 290, JALAN AIR PANAS SETAPAK, 53200, KUALA LUMPUR. TEL : 03-40210276 GST ID : 000750673920 SIMPLIFIED TAX INVOICE CASH Doc No : CS00012487 Date: 30/12/2017 Cashier : USER Time: 14:52:00 Salesperson : Ref. Item Qty S/Price Amount Tax 2430 2 18 02 36.04 SR CEMENT (50KG) 1699 10 5.30 53.00 SR PASIR KASAR (BAG) Total Qty: 12 89.04 Total Sales (Excluding GST) : 84.00 Discount : 0.00 Total GST : 5.04 Rounding : 0.00 Total Sales (Inclusive of GST) : 89.04 CASH : 89.04 Change : 0.00 GST SUMMARY Tax Code % Amt (RM) Tax (RM) SR 6 84.00 5.04 Total : 84.00 5.04 GOODS SOLD ARE NOT RETURNABLE THANK YOU',\n",
              " 'X51005676537': '3 318010.17 SYARIKAT PERNIAGAAN GIN KEE (81109-A) NO 290, JALAN AIR PANAS, SETAPAK, 53200, KUALA LUMPUR. TEL : 03-40210276 GST ID : 000750673920 SIMPLIFIED TAX INVOICE CASH Doc No CS00012518 Date: 03/01/2018 Cashier : USER Time 13:04:00 Salesperson : Ref. : Item Qty S/Price Amount Tax 1539 1 90.10 90.10 SR 5LT BIG TREE HIGH GLOSS PAINT 1611 1 4.24 4.24 SR THINNER BOTTLE Total Qty: 2 94.34 Total Sales (Excluding GST) : 89.00 Discount : 0.00 Total GST : 5.34 Rounding : 0.00 Total Sales (Inclusive of GST) : 94.34 CASH : 94.34 Change : 0.00 GST SUMMARY Tax Code % Amt (RM) Tax (RM) SR 6 89.00 5.34 Total : 89.00 5.34 GOODS SOLD ARE NOT RETURNABLE THANK YOU.',\n",
              " 'X51005676542': '31801017 SYARIKAT PERNIAGAAN GIN KEE (81109-A) NO 290, JALAN AIR PANAS, SETAPAK, 53200, KUALA LUMPUR. TEL : 03-40210276 GST ID : 000750673920 SIMPLIFIED TAX INVOICE CASH Doc No. : CS00012465 Date: 29/12/2017 Cashier : USER Time: 15:32:00 Salesperson : Ref. : Item Qty S/Price Amount Tax 3015 1 10.60 10.60 SR G.IWIRE RM10 Total Qty: 1 10.60 Total Sales (Excluding GST) : 10.00 Discount : 0.00 Total GST : 0.60 Rounding : 0.00 Total Sales (Inclusive of GST) : 10.60 CASH : 10.60 Change : 0.00 GST SUMMARY Tax Code % Amt (RM) Tax (RM) SR 6 10.00 0.60 Total : 10.00 0.60 GOODS SOLD ARE NOT RETURNABLE THANK YOU.',\n",
              " 'X51005676548': \"3 1801017 SYARIKAT PERNIAGAAN GIN KEE (81109-A) NO 290, JALAN AIR PANAS. SETAPAK, 53200, KUALA LUMPUR. TEL : 03-40210276 GST ID : 000750673920 SIMPLIFIED TAX INVOICE CASH Doc No. : CS00012751 Date: 15/01/2018 Cashier : USER Time: 14:24:00 Salesperson : Ref. : Item Qty S/Price Amount Tax 2876 3 1.06 3.18 SR HOES PIN 1937 1 7.95 7.95 SR 4' HOES HANDLE Total Qty: 4 11.13 Total Sales (Excluding GST) : 10.50 Discount : 0.00 Total GST : 0.63 Rounding : 0.00 Total Sales (Inclusive of GST) : 11.13 CASH : 11.13 Change : 0.00 GST SUMMARY Tax Code % Amt (RM) Tax (RM) SR 6 10.50 0.63 Total : 10.50 0.63 GOODS SOLD ARE NOT RETURNABLE THANK YOU\",\n",
              " 'X51005677327': '31802016 SYARIKAT PERNIAGAAN GIN KEE (81109-A) NO 290, JALAN AIR PANAS, SETAPAK, 53200, KUALA LUMPUR. TEL : 03-40210276 GST ID : 000750673920 SIMPLIFIED TAX INVOICE CASH Doc No : CS00013076 Date: 01/02/2018 Cashier : USER Time: 09:38:00 Salesperson : Ref. : Item Qty S/Price Amount Tax 2430 2 18.02 36.04 SR CEMENT (50KG) Total Qty: 2 36.04 Total Sales (Excluding GST) : 34.00 Discount : 0.00 Total GST : 2.04 Rounding : 0.00 Total Sales (Inclusive of GST) : 36.04 CASH : 36.04 Change : 0.00 GST SUMMARY Tax Code % Amt(RM) Tax (RM) SR 6 34.00 2.04 Total : 34.00 2.04 GOODS SOLD ARE NOT RETURNABLE THANK YOU.',\n",
              " 'X51005677333': '31802016 SYARIKAT PERNIAGAAN GIN KEE (81109-A) NO 290, JALAN AIR PANAS, SETAPAK, 53200, KUALA LUMPUR. TEL : 03-40210276 GST ID : 000750673920 SIMPLIFIED TAX INVOICE CASH Doc No. : CS00013065 Date: 31/01/2018 Cashier : USER Time: 10:41:00 Salesperson : Ref. : Item Qty S/Price Amount Tax 3122 2 29.68 59.36 SR (W33) 105MM/4\" CUTTING DISC 3383 10 3.18 31.80 SR 4\" MAGIC SAND PAPER 1512 1 10.60 10.60 SR 104 COTTON GLOVE (DOZEN) Total Qty: 13 101.76 Total Sales (Excluding GST) : 96.00 Discount : 0.00 Total GST : 5.76 Rounding : 0.00 Total Sales (Inclusive of GST) : 101.76 CASH : 101.76 Change : 0.00 GST SUMMARY Tax Code % Amt (RM) Tax (RM) SR 6 96.00 5.76 Total : 96.00 5.76 GOODS SOLD ARE NOT RETURNABLE THANK YOU',\n",
              " 'X51005677336': '31802016 SYARIKAT PERNIAGAAN GIN KEE (81109-A) NO 290, JALAN AIR PANAS SETAPAK, 53200 KUALA LUMPUR. TEL : 03-40210276 GST ID : 000750673920 SIMPLIFIED TAX INVOICE CASH Doc No. : CS00013007 Date: 27/01/2018 Cashier : USER Time: 16:04:00 Salesperson : Ref. : Item Qty S/Price Amount Tax 1947 30 0.74 22.26 SR GUNI BAG Total Qty: 30 22.26 Total Sales (Excluding GST) : 21.00 Discount : 0.00 Total GST : 1.26 Rounding : 0.00 Total Sales (Inclusive of GST) : 22.26 CASH : 22.26 Change : 0.00 GST SUMMARY Tax Code % Amt (RM) Tax (RM) SR 6 21.00 1.26 Total : 21.00 1.26 GOODS SOLD ARE NOT RETURNABLE THANK YOU',\n",
              " 'X51005677337': \"3180201.6 SYARIKAT PERNIAGAAN GIN KEE (81109-A) NO 290, JALAN AIR PANAS, SETAPAK, 53200, KUALA LUMPUR. TEL : 03-40210276 GST ID : 000750673920 SIMPLIFIED TAX INVOICE CASH Doc No. : CS00013104 Date: 02/02/2018 Cashier : USER Time: 16:30:00 Salesperson : Ref. : Item Qty S/Price Amount Tax 1796 2 12.72 25.44 SR 10'2X2 1816 2 34.34 68 69 SR 18'2X3 Total Qty: 4 94.13 Total Sales (Excluding GST) : 88.80 Discount : 0.00 Total GST : 5.33 Rounding : 0.00 Total Sales (Inclusive of GST) : 94.13 CASH : 94.13 Change : 0.00 GST SUMMARY Tax Code % Amt (RM) Tax (RM) SR 6 88.80 5.33 Total : 88.80 5.33 GOODS SOLD ARE NOT RETURNABLE THANK YOU\",\n",
              " 'X510056849111': '3180203 WESTERN EASTERN STATIONERY SDN. BHD CO REG NO : 210038-K GST ID : 000517095424 42-46, JLN SULTAN AZLAN SHAH 51200 KUALA LUMPUR TEL : 03-4043 7678 TAX INVOICE REG 26-02-2018 14:27 C01 KL 001 035857 CLR P. S A4/A3 S RM7.42 1 No GST TA AMT RM7.00 GST 6% RMO.42 TOTAL RM7 - 42 ROUNDING -0.02 CASH RM7.40 TAX INVOICE OF GST GOODS SOLD ARE NOT RETURNABLE',\n",
              " 'X51005684949': '3180203 WESTERN EASTERN STATIONERY SDN. BHD CO REG NO : 210038-K GST ID : 000517095424 42-46, JLN SULTAN AZLAN SHAH 51200 KUALA LUMPUR TEL : 03-4043 7678 TAX INVOICE REG 26-02-2018 14:27 C01 KL 001 035857 CLR P. S A4/A3 S RM7.42 1 No GST TA AMT RM7.00 GST 6% RMO.42 TOTAL RM7 - 42 ROUNDING -0.02 CASH RM7.40 TAX INVOICE OF GST GOODS SOLD ARE NOT RETURNABLE',\n",
              " 'X51005705727': 'KEDAI BUKU NEW ACHEIVERS (CO NO. SA0345444-K) NO. 12 & 14, JALAN JINJANG 27/54 TAMAN ALAM MEGAH, SEKSYEN 27 40400 SHAH ALAM, SELANGOR D. E. TEL : 603-51910643 FAX : 603-51910643 GST NO : 001729572864 FULL TAX INVOICE Bill To : ) nt Receipt #: CS00310146 0 Salesperson: Date: 28/12/2017 Cashier: USER Time: 10:50:00 6 (GST) (GST) Item Qty RSP RSP Amount 0 9555078912508 1 40.00 42.16 42.40 SR: CRE ASTAR LAMINATING FILM A4 100STS 0 TOT QTY: 1 42.16 6 (Excluded GST) Sub Total : 40.00 5 Discount : 4.00 Total GST : 2.16 Rounding : -0.01 Total : 38.15 CASH : 50.00 Change : 11.85 T 6 6 GST SUMMARY Tax Code % Amount GST SR 6 36.00 2.16 Total : 36.00 2.16 GOODS SOLD ARE NOT RETURNABLE, THANK YOU.',\n",
              " 'X51005705729': 'ASO ELECTRICAL TRADING SDN BHD 1000131-K NO 31G, JALAN SEPADU C 25/C, SECTION 25, TAMAN INDUSTRIES, AXIS 40400 SHAH ALAM, SELANGOR. TEL : 03-51221701, 51313091 FAX : 03-51215716 GST NO : 000683900928 TAX INVOICE Bill To : Receipt #: CS00088810 Salesperson: Date: 13/10/2017 Cashier: USER Time: 11:37:00 Item (GST) Qty (GST) RSP RSP 101861 Amount 10 1.43 1.51 15.12 SR: CABLE LUG 50MM(M10) 107645 1 75.00 79.50 79.50 SR: CRIMPING TOOL, HS-38, 5.5MM - 38MM TOT QTY: 11 94.62 (Excluded GST) Sub Total : 89.26 Discount : 0.00 Total GST : 5.36 Rounding : -0.02 Total : 94.60 CASH : 100.00 Change : 5.40 GST SUMMARY Tax Code % Amount SR GST 6 89.26 5.35 Total : 89.26 5.36 GOODS SOLD ARE NOT RETURNABLE, THANK YOU.',\n",
              " 'X51005705784': 'EDAI BUKU NEW ACHEIVERS (CO NO. SA0345444-K) NO. 12 & 14, JALAN JINJANG 27/54 TAMAN ALAM MEGAH, SEKSYEN 27 40400 SHAH ALAM, SELANGOR D. E. TEL : 603-51910643 FAX : 603-51910643 GST NO : 001729572864 OH FULL TAX INVOICE 08 06 08 01 00:08 ot #: CS00294436 person: Date: 15/09/2017 er: USER Time: 10:22:00 (GST) (GST) Qty RSP RSP Amount 0320 3 3.20 3.39 10.18 ON ENVOLOPE 4X9 WINDOW 20.S 12363087 3 3.80 4.03 12.08 3 SEASONSHARD COVER BOOK 3007 70448257 1 7.90 8.37 8.37 P RWT HARDCOVER FOOLSCAP 300,S 2613B 1300514 3 2.73 2.89 8,68 o SHARPIE FINE PERMANENT MARKER 1300637 3 2.73 2.89 8.68 o SHARPIE FINE PERMANENT MARKER TOT QTY: 13 48.00 (Excluded GST) Sub Total : 45.28 Discount : 0.00 Total GST : 2.72 Chipp Rounding : 0,00 Total : 48.00 CASH : 48.00 Change : 0,00 SUMMARY Code % Amount GST 6 45.28 2.72 Total : 45.28 2.72 GOODS SOLD ARE NOT RETURNABLE, THANK YOU.',\n",
              " 'X51005710963': 'TS TOOLS HARDWARE L MACHINERY SI/ INHD 1151414-P 59, JALAN BANDAR SATU, PUSAT BANDAR PUCHONG 47160, PUCHONG, SELANGOR TÉL: 03-58790352 GST NO: 000761802752 TAX INVOICE RECEIPT #: CS00032256 DATE: 21/03/2018 SALESPERSON : TIME: 13:40:00 CASHIER : USER ITEM QTY U/P AMOUNT (RM) (RM) 2017 1 7.00 7.00 SR: (UNIT) 29#SAMURAI SPRAY PAINT TOTAL QUANTITY 1 SUB-TOTAL 7.00 DISC 0.00 TAX 0.00 ROUNDING -0.02 TOTAL 7.40 CASH 8.00 CHANGE 0.60 GST SUMMARY CODE AMOUNT % TAX/AMT SR 7.00 6 0.42 TAX TOTAL: 0.42 GOODS SOLD ARE NOT RETURNABLE, THANK YOU.',\n",
              " 'X51005711402': 'RESTORAN WAN SHENG 002043319-W No.2, Jalan Temenggung 19/9, Seksyen 9, Bandar Mahkota Cheras, 43200 Cheras, Selangor GST REG NO: 001335787520 Tax Invoice INV No.: 1049519 Cashier: Thandar Date : 17-03-2018 15:22:52 Description Qty U.price Total TAX Kopi (B) 1 X 2.20 2.20 SR Teh (B) 2 X 2.20 4.40 SR Cham (B) 1 X 2.20 2.20 SR Take Away 4 X 0.20 0.80 SR Total QTY: 8 Total (Excluding GST): 9.07 GST payable (6%): 0.53 Total (Inclusive of GST): 9.60 TOTAL: 9.60 CASH : 9.60 GST Summary Amount(RM) Tax(RM) SR (@ 6%) 9.07 0.53',\n",
              " 'X51005711443': 'RESTORAN WAN SHENG 002043319-W No.2, Jalan Temenggung 19/9, Seksyen 9, Bandar Mahkota Cheras, 43200 Cheras, Selangor GST REG NO: 001335787520 Tax Invoice INV No. : 1057981 Cashier: Thandar Date : 23-03-2018 13:28:55 Description Qty U.price Total TAX Teh (B) 1 X 2.20 2.20 SR Cham (B) 1 X 2.20 2.20 SR Bunga Kekwa 1 X 1.70 1.70 SR Take Away 3 X 0.20 0.60 SR Total QTY: 6 Total (Excluding GST): 6.33 GST payable (6%): 0.37 Total (Inclusive of GST): 6.70 TOTAL: 6.70 CASH : 6.70 GST Summary Amount(RM) Tax(RM) SR (@ 6%) 6.33 0.37',\n",
              " 'X51005711444': 'RESTORAN WAN SHENG 002043319-W No.2, Jalan Temenggung 19/9, Seksyen 9, Bandar Mahkota Cheras, 43200 Cheras, Selangor GST REG NO: 001335787520 Tax Invoice INV No.: 1054250 Cashier: Thandar Date : 21-03-2018 11:42:20 Description Qty U.price Total TAX Cham (B) 2 X 2.20 4.40 SR Take Away 2 X 0.20 0.40 SR Total QTY: 4 Total (Excluding GST): 4.54 GST payable (6%): 0.26 Total (Inclusive of GST): 4.80 TOTAL: 4.80 CASH : 4.80 GST Summary Amount (RM) Tax(RM) SR (@ 6%) 4.54 0.26',\n",
              " 'X51005711446': 'RESTORAN WAN SHENG 002043319-W No.2, Jalan Temenggung 19/9, Seksyen 9, Bandar Mahkota Cheras, 43200 Cheras, Selangor GST REG NO: 001335787520 Tax Invoice INV No.: 1037698 Cashier: Nicole Date : 10-03-2018 16:01:37 Description Qty U.price Total TAX Teh (B) 2 X 2.20 4.40 SR Cham (B) 1 X 2.20 2.20 SR Take Away 3 X 0.20 0.60 SR Total QTY: 6 Total (Excluding GST): 6.81 GST payable (6%): 0.39 Total (Inclusive of GST): 7.20 TOTAL: 7.20 CASH : 7.20 GST Summary Amount(RM) Tax(RM) SR (@ 6%) 6.81 0.39',\n",
              " 'X51005711449': 'RESTORAN WAN SHENG 002043319-W No.2, Jalan Temenggung 19/9, Seksyen 9, Bandar Mahkota Cheras, 43200 Cheras, Selangor GST REG NO: 001335787520 Tax Invoice INV No.: 1032236 Cashier: Thandar Date : 07-03-2018 15:34:15 Description Qty U.price Total TAX Teh (B) 2 X 2.20 4.40 SR Take Away 2 X 0.20 0.40 SR Total QTY: 4 Total (Excluding GST): 4.54 GST payable (6%): 0.26 Total (Inclusive of GST): 4.80 TOTAL: 4.80 CASH : 4.80 GST Summary Amount(RM) Tax(RM) SR (@ 6%) 4.54 0.26',\n",
              " 'X51005715006': '3-1708032 GM Rack Enterprise Roc: 002016014-D Lot 7F-7.02/7.03 / KWCJalan Gelugor . Jalan Kenanga ,55200 Kuala Lumpur. Tel:014-9684661 Fax:03-92246324 Email: gmrack100@yahoo.com GST Reg No: 000019693568 Invoice No : KNG01-1032303 Date : 20/03/2018 5:10:20 PM Cashier : 123 Description Qty Price Amount 1 TQ(6X9-500PCS)H0019 5 16.00 80.00 SR 2 TQ(8X11-300PCS)H0018 5 16.00 80.00 SR Total Item Discount 0.00 Total Sales Inclusive GST@ 6.00% 160.00 Rounding Adjustment: 0.00 TOTAL : 160,00 CASH 160.00 GST Summary % Amount(RM) Tax(RM) SR 6.00 150.94 9.06 ****Thank You.**** Please Come Again.',\n",
              " 'X51005715007': '3-1708032 KAISON FURNISHING SDN BHD Lot No. L3-012, Level 3, MyTOWN Shopping Centre, No. 6, Jalan Cochrane, Seksyen 90 55100 Kuala Lumpur. Co. Reg No. (761834-D) GST Reg No. 001813975040 Tel: 03 - 92017701 Slip 0000MTW-P2000086706 Staff: 1710 Athirah Trans: 1502102697 Date: 25-03-18 18:34 Description Amount (RM) Item No. 30000545 PLASTIC TRAY-GLOSS R pcs 8.90 SR Item No.: 30001916 KEYCHAIN - SCARF STA pcs 5.90 SR Item No.: 30001918 KEYCHAIN - KNIT SCAR pcs 3.90 SR Total RM 18.70 CASH (MYR) --20.00 Change 1.30 GST% Amt (RM) GST(RM) Total (RM) SR 6 17.64 1.06 18.70 GOODS SOLD ARE NON-CASH REFUNDABLE. EXCHANGE OF GOODS WITHIN 14 DAYS ACCOMPANIED BY ORIGINAL RECEIPT.',\n",
              " 'X51005715455': '3-1708032 99 SPEED MAPT S/B (519537-X) LOT P.T. 2811. JALAN ANBSA, TAMAN BERVELEY 41150 KLANG, SELANGOR 1330 JJN KENANGA EST ID. NO : 000181747712 INVOICE NO : 18348/102/T0058 10:20AM 569234 26-03-18 2146 TLC GLASS CLEANER (PIN RM10.60 $ @2 X PM 5.30 Total Sales (Inclusive GST) RM 10.60 CASH RM 20.00 CHANGE RM 9.40 GET Summary Amount(RM) Tax(RM) $ = b/ 10.00 .60 Thank You. Please come again Keep the invoice for applicable returns',\n",
              " 'X51005719823': \"SIMPLIFIED TAX INVOICE AA PHARMACY 1188096-W GST NO: 001930047488 NO.47, JALAN 3/36, BUKIT SRI BINTANG, KEPONG 52100, KUALA LUMPUR TEL: 03-6263 8480 FAX: 03-6263 8480 CASH RECEIPT #: CS00123688 DATE: 29/01/2018 SALESPERSON : C2 TIME: 12:09:00 CASHIER : C2 ITEM QTY U/P AMOUNT 930602 4 3.00 12.00 Z IBUPROFEN FILM COATED TAB 9556492002837 4 3.00 12.00 Z FEBRICOL - RX 10X10'S 940152 6 3.49 20.94 S NOFLUX TABLET TOTAL QUANTITY 14 SUB-TOTAL 44.94 DISC 0.00 GST 1.26 ROUNDING 0.00 TOTAL 46.20 MASTER 46.20 CHANGE 0.00 GOODS SOLD ARE NOT RETURNABLE, THANK YOU. S=STANDARD RATED, Z=ZERO RATED GST SUMMARY CODE AMOUNT % TAX/AMT SR 20.94 6 1.26 ZRL 24.00 0 0.00 TAX TOTAL: 1.26\",\n",
              " 'X51005719855': 'ROCKU YAKINIKU CPI ROCKU SDN. BHD. (1096317-P) GST NO.: 000446271488 LOT F355/356/357, FIRST FLOOR, RAINFOREST 1 UTAMA SHOPPING CENTRE, LEBUH BANDAR UTAMA, 47800 PETALING JAYA 19/02/2018 17:43 T001 A063975 Csh: CASHIER Svr: BISWASH(ip Table: A9 Pax: 3 BILL: 063975 RM GREEN TEA 1 3.00 3.00 T GREEN TEA 1 3.00 3.00 T BUFFET DINNER (ADULT) 3 49.90 149.70 T SUBTTL 155.70 10% SVC CHG 15.57 6% GST 10.28 TOTAL 181.55 CASH 201.55 CHANGE 20.00 GST Summary Amount Tax T:6% GST 171.27 10.28 Z:Zero Rated 0.00 0.00 Signature: Thank you. Please come again Bill Close: 19:08:04',\n",
              " 'X51005719857': 'Salon Du Chocolat ALI BABA INTERNATIONAL SDN BHD(955950-H) Publika Shopping Gallery Lot 26-27, Level G2,Jln Dutamas 1, Solaris Dutamas,50480 KL. Tel: +603 6211 2300 (GST Reg. No : 000895864832) GUEST CHECK Table 11 Check #: 186242 Pax(s): 3 Date : 19-02-2018 14:19:38 Cashier: CASHIER Description Qty U.price Total TAX Mineral Water 1 X 2.50 2.50 SR Chocolate Waffle-Half Moon 1 x 17.90 17.90 SR Total (Excluding GST): 20.40 Serv. Charge (10%): 2.04 GST Payable: 1.35 Total (Inclusive of GST): 23.79 Rounding Adj: 0.01 TOTAL : 23.80 Closed: 19-02-2018 Server: CASHIER GST Summary Amount(RM) Tax(RM) **** Thank You **** Please Come Again',\n",
              " 'X51005719863': 'SEN LEE HEONG RESTAURANT CO NO. (002083199-T) GST ID NO(001115316224) G-O-1, M. AVENUE NO.1, JLN 1/38A, SEGAMBUT BAHAGIA, 51200, K. LUMPUL TEL:012-2525903/ 03-6258 5987 Cashier: Manager MachNo:0000 Item Qty Price Amount Table Number: 4 FOOD SR 1 67.00 RM 67.00 BIG RICE SR 2 1.50 RM 3.00 TEA POT SR 1 3.00 RM 3.00 Subtotal RM 73.00 GST TAX AMT: RM 73.00 GST ( 6.0%) Amount: RM 4.38 ROUND ADJ RM 0.02 Item: 4 TOTAL RM 77.40 Cash 77.40 12-01-2018 21:53 TAX Invoice: #11372 THANK YOU PLEASE COME A G AIN',\n",
              " 'X51005719888': 'POTTERS GARDEN SDN BHD (1153774-D) Batu 11. Sg Buloh, 47000 Selangor. Tel: 016-667 0982, 016-333 3812 GST Reg No: 000392024064 TAX INVOICE TABLE : 01 POS ID : G INV NO: G/00002268 CASHIER: Administrator INV DT: 04/01/2018 12:29:18 PM RM ITEM AMOUNT AA00007 PLASTIC PLATE 1.00 SR AA00022 CHINA POT 2 @7.90 15.80 SR AA00016 PLANT 16.00 SR AA00016 PLANT 7.00 SR 5 SUB TOTAL 39.80 NET TOTAL 39.80 Cash 40.00 CHANGE 0.20 Tax Summary Amount Tax SR Inclusive GST 6% 37.54 2.26 *** Thank you Please Come Again *** Item Sold are Not Refundable & Exchangeable',\n",
              " 'X51005719889': 'HENG KEE DELIGHTS BAK KUT TEH. NO31, JALAN 3/62A, BANDAR MENJALARA KEPONG. 52100 KUALA LUMPUR GST NO: 000403890176 H/P : 016-6555553 TAX INVOICE : TB011530 TABLE: TAKE AWAY DATE: 04/01/2018 7:42:10 AM Transaction By: admin EMS Reference: 180104074210_TB011530_djf8537854+23 DESCRIPTION AMOUNT TAX 2.00 X 17.00 34.00 SR Bak Kut Teh Soup ( 2.00 X 1.50 3.00 SR White Rice (B) 1.00 X 4.00 4.00 SR Tofu (B) 2.00 X 0.50 1.00 SR Chinese Tea/ Water Subtotal (GST Inal) 42.00 Voucher Discount 0.00 Redeem Point Discount 0.00 Deposit 0.00 Rounding 0.00 Total: RM 42.00 --Payment Summary-- Cash 42.00 Change 0.00 --GST Summary -- Amount (SR) 39.62 Tax(SR) 2.38 THANK YOU PLEASE COME AGAIN',\n",
              " 'X51005719895': 'GREEN LANE PHARMACY SDN BHD 33 JLN BANGAU 1, ,KEPONG BARU, 52100 KEPONG,KL TEL : 62760693 FAX : C 62760693 BRN : 631002-U GST No : 001888309248 TAX INVOICE Inv No : 18-001641 DATE : 1/8/2018 9:42:41 AM 1)UAM006K AMOXICAP 500MG CAPSU 1.00 X 6.00 6.00 Z 2)0984K NOFLUX TAB 90MG 10 2.00 X 4.51 9.01 * 3)9557892102639 IBUPROFEN 400MG 10 3.00 X 3.00 9.00 Z 4)9556492002837K FEBRICOL -RX 10 4.00 X 2.70 10.80 Z Rounding : -0.01 TOTAL : 34.80 ( GST : 0.51 ) PAYMENT : TOTAL PAYMENT : 34.80 CHANGE : 0.00 MASTER 34.80 Rate % TOTAL GST * : 6% 8.50 0.51 Z : 0% 25.80 0.00 LEE MEI YEIN Prev Balance : 1455 Points Earn : 34 (Complete) FARMASI ALPHA.COM GOODS SOLD ARE NOT RETURNABLE WHATSAPP NO: 0103768122 * Total Sales Inclusive GST @ 6% *',\n",
              " 'X51005719898': 'MR. D.I.Y. (KUCHAI) SDN BHD (CO Reg : 750441-W) LOT 1851-A & 1851-B, JALAN KPB 6, KAWASAN PERINDUSTRIAN BALAKONG, 43300 SERI KEMBANGAN, SELANGOR (GST ID No :000473792512) (TESCO MENJALARA KEPONG, HQ) - TAX INVOICE - CUSHION 45*45CM PLAIN *S EZ09 - 5/60 9064525 1 X 11.90 11.90 Item(s) : 1 Qty (s) : 1 total incl. GST @6% RM 11.90 CASH RM 22.00 CHANGE RM 10.10 GST Summary Amt(RM) Tax(RM) GST S@6% 11.23 0.67 * 19-03-18 13:09 SH01 B026 T3 R000129969 OPERATOR THQT - AIDA NOR HAFIDZA EXCHANGE ARE ALLOWED WITHIN 7 DAYS WITH RECEIPT. STRICTLY NO CASH REFUND.',\n",
              " 'X51005719903': \"Gerbang Alaf Restaurants Sdn Bhd (65351-M) formerly known as Golden Arches Restaurants Sdn Bhd Licensee of McDonald's Level 6, Bangunan TH, Damansara Uptown3 No.3, Jalan SS21/39,47400 Petaling Jaya Selangor (GST ID No: 000504664064) McDonald's MRR2 Kepong DT(#251) Tel No. 03-6259-6498 TAX INVOICE INV# 002511900167877 ORD #41 -REG #19- 11/03/2018 14:31 11 QTY ITEM TOTAL 2 ChocTop 4.00 1 McFlurryOreos 4.50 TakeOut Total (incl GST) 8.50 Total Rounded 8.50 Cash Tendered 10.00 Change 1.50 TOTAL INCLUDES 6% GST 0.48 Thank You and Please Come Again.\",\n",
              " 'X51005719905': 'SAINT HEART PASTRY (001980264-H) 29,JLN SJ 17, TMN SELAYANG JAYA, 68100 BATU CAVES, SELANGOR TEL : 03-61372830 GST ID : 001661329408 SIMPLIFIED TAX INVOICE CASH Receipt CS00254837 Table: 45 Staff: AISHAH Date: 25/03/2018 Cashier: AISHAH Time: 10:56:00 Price Amt Description Qty (RM) (RM) Tax JUMBO SAUSAGE CHEESE 1 3.10 3.10 SR JUMBO SAUSAGE CHEESE 1 3.10 3.10 SR GARLIC CHEESE 1 2.00 2.00 SR Total: 3 8.20 Total Sales (Excluding GST) : 7.74 Discount : 0.00 Service Charge : 0.00 Total GST : 0.46 Rounding : 0.00 Total Sales (Inclusive of GST) 8.20 CASH 8.20 CHANGE 0.00 GST SUMMARY Tax Code % Amt (RM) Tax (RM) SR 6 7.74 0.46 Total : 7.74 0.46 GOODS SOLD ARE NOT RETURNABLE THANK YOU. RE-PRINT',\n",
              " 'X51005724552': 'R KEDAI PAPAN YEW CHUAN (0005583085-K) LOT 276 JALAN BANTING 43800 DENGKIL, SELANGOR. TEL : 03-87686092 FAX : 03-87686092 GST ID : 000781500416 TAX INVOICE Bill To : SUCI ALAM JAYA TRANSPORT NO 1 JALAN AMAN 2 TAMAN DESA 43800 DENGKIL SELANGOR 017-6057770 Doc No. : CS00011014 Date: 21/03/2018 Cashier : USER Time: 09:31:00 Salesperson : Ref.: (GST) (GST) Item Qty S/Price S/Price Amount Tax 101870 1 65.00 68.90 68.90 SR PASIR HALUS (D) Total Qty: 1 68.90 Total Sales (Excluding GST) : 65.00 Discount : 0.00 Total GST : 3.90 Rounding : 0.00 Total Sales (Inclusive of GST) : 68.90 CASH : 68.90 but Change : 0.00 GST SUMMARY Tax Code % Amt (RM) Tax (RM) SR 6 65.00 3.90 Total : 65.00 3.90 GOODS SOLD ARE NOT RETURNABLE THANK YOU.',\n",
              " 'X51005724609': 'BAKALIMA SDN BHD Company No: 137734-T 102 Jln Banting-Dengkil 43800 Dengkil Selangor Site: 1137 Telephone: 03-87686245 Gst No: 001803714560 >>>>>>> Pre-Authorisation <<<<< Pre auth code A01A1520994316 40.49 litre Pump # 04 V-Power 97 RM 100.00 A 2.470 RM / litre Total RM 100.00 Cash RM 100.00 6.00% GST A RM 5.66 Total Gross A RM 100.00 Shell Loyalty Card 6018840079256448 Points will be awarded for any eligible purchases. Cashier: HZAKIR2 This is not the final fiscal receipt Date Time Num POS CNo Shift 14/03/18 10:25 92202 01 3392 688 Diesel & Petrol RON95 given relief under Section 56 (3) (b) GST Act 2014 Thank You and Please Come Again',\n",
              " 'X51005724611': 'R KEDAI PAPAN YEW CHUAN (0005583085-K) LOT 276 JALAN BANTING 43800 DENGKIL, SELANGOR. TEL : 03-87686092 FAX : 03-87686092 GST ID : 000781500416 TAX INVOICE Bill To : SUCI ALAM JAYA TRANSPORT NO 1 JALAN AMAN 2 TAMAN DESA 43800 213.06 DENGKIL SELANGOR 017-6057770 Doc No. : CS00011043 Date: 21/03/2018 Cashier : USER Time: 16.39:00 Salesperson : Ref.: (GST) (GST) Item Qty S/Price S/Price Amount Tax 100139 8 17.00 18.02 144.16 SR BESI Y 10 (CQ) Total Qty: 8 144.16 Total Sales (Excluding GST) : 136.00 Discount : 0.00 Total GST : 8.16 Rounding : 0.00 Total Sales (Inclusive of GST) : 144.16 CASH : 144.16 lal Change : 0.00 GST SUMMARY Tax Code % Amt (RM) Tax (RM) SR 6 136.00 8.16 Total : 136.00 8.16 GOODS SOLD ARE NOT RETURNABLE THANK YOU.',\n",
              " 'X51005724622': 'See R Comb Chas 200047 KEDAI PAPAN YEW CHUAN (0005583085-K) LOT 276 JALAN BANTING 43800 DENGKIL SELANGOR TEL : 03-87686092 FAX : 03-87686092 GST ID : 000781500416 TAX INVOICE Bill To : SUCI ALAM JAYA TRANSPORT NO 1 JALAN AMAN 2 TAMAN DESA 43800 DENGKIL SELANGOR 017-6057770 Doc No. : CS00010562 Date: 07/03/2018 Cashier : USER Time: 08:31:00 Salesperson : Ref.: (GST) (GST) Item Qty S/Price S/Price Amount Tax 101870 1 65.00 68.90 68.90 SR PASIR HALUS (D) 100160 7 3.00 3.18 22.26 SR KAPUR AIR (A1) Total Qty: 8 91.16 Total Sales (Excluding GST) : 86.00 Discount : 0.00 Total GST : 5.16 Rounding : 0.00 Total Sales (Inclusive of GST) : 91.16 CASH : 91.16 Change : 0.00 GST SUMMARY Tax Code % Amt (RM) Tax (RM) SR 6 86.00 5.16 Total : 86.00 5.16 GOODS SOLD ARE NOT RETURNABLE THANK YOU.',\n",
              " 'X51005724623': 'R Own KEDA PAN YEW CH JAN 558 85-K) LO1 276 JA! AN BANTING 800 DEN SELANGOR. TEL : 03-87686092 FAX 03-87686092 GST ID : 000781500416 TAX INVOICE SUCIA JAYA TRANSPORT NO 1 JALAN AMAN 2 TAMAN DESA 43800 DENGK!! SELANGOR 017 , NO CS00010612 Date: 08/03/2018 r USER Time: 14:58:00 person R (GST) (GST) Item S/Price S/Price Amount Tax 101756 0 10 50 17.49 174.90 SR SIME 4 101870 2 65.00 68.90 137.80 SR PASIR HALUS (D) Total Qty: 12 312.70 Total Sales (Excluding GST) : 295.00 Discount : 0.00 Total GST : 17.70 Rounding : 0.00 Total Sales (Inclusive of GST) : 312.70 CASH : 350.00 Change : 37.30 ST SUMMARY Tax Code % Amt (RM) Tax (RM) SR 6 295.00 17.70 Total : 295.00 17.70 GOODS SOLD ARE NOT RETURNABLE 1 ANK I',\n",
              " 'X51005724624': 'R KEDAI PAPAN YEW CHUAN (0005583085-K) LOT 276 JALAN BANTING 43800 DENGKIL SELANGOR. TEL : 03-87686092 FAX : 03-87686092 GST ID : 000781500416 TAX INVOICE Bill To SUCI ALAM JAYA TRANSPORT NO 1 JALAN AMAN 2 TAMAN DESA 43800 DENGKIL SELANGOR 017-6057770 Doc No. : CS00010855 Date: 16/03/2018 Cashier : USER Time: 08:45:00 Salesperson : Ref.: (GST) (GST) Item Qty S/Price S/Price Amount Tax 100140 4 24.00 25.44 101.76 SR BESTY 12 (CQ) 100135 4 8.00 8.48 33.92 SR BESI R 5.5 (CQ) Total Qty: 8 135.68 Total Sales (Excluding GST) : 128.00 Discount : 0.00 Total GST : 7.68 Rounding : 0.00 Total Sales (Inclusive of GST) : 135.68 CASH : 150.00 Change : 14.32 GST SUMMARY Tax Code % Amt (RM) Tax (RM) SR 6 128.00 7.68 Total : 128.00 7.68 GOODS SOLD ARE NOT RETURNABLE THANK YOU.',\n",
              " 'X51005724625': 'R MBB 264096 KEDAI PAPAN YEW CHUAN (0005583085-K) LOT 276 JALAN BANTING 43800 DENGKIL SELANGOR. TEL : 03-87686092 FAX : 03-87686092 GST ID : 000781500416 TAX INVOICE Bill To : SUCI ALAM JAYA TRANSPORT NO 1 JALAN AMAN 2 TAMAN DESA 43800 DENGKIL SELANGOR 017-6057770 Doc No. : CS00010702 Date: 12/03/2018 Cashier : USER Time: 09:20:00 Salesperson : Ref.: (GST) (GST) Item Qty S/Price S/Price Amount Tax 101869 2 60.00 63.60 127.20 SR PASIR KASAR (D) 101871 1 65.00 68.90 68.90 SR BATU 3/4 (D) 101756 5 16.50 17.49 87.45 SR SIMEN Total Qty: 8 283.55 Total Sales (Excluding GST) : 267.50 Discount : 0.00 Total GST : 16.05 Rounding : 0.00 Total Sales (Inclusive of GST) : 283.55 CASH : 300.00 Change : 16.45 GST SUMMARY Tax Code % Amt (RM) Tax (RM) SR 6 267.50 16.05 Total : 267.50 16.05 GOODS SOLD ARE NOT RETURNABLE THANK YOU.',\n",
              " 'X51005724626': 'R MBB 293502 KEDAI PAPAN YEW CHUAN (0005583085-K) LOT 276 JALAN BANTING 43800 DENGKIL, SELANGOR TEL : 03-87686092 FAX : 03-87686092 GST ID : 000781500416 TAX INVOICE Bill To : SUCI ALAM JAYA TRANSPORT NO 1 JALAN AMAN 2 TAMAN DESA 43800 445.20 DENGKIL SELANGOR 017-6057770 Doc No. : CS00011384 Date: 02/04/2018 Cashier : USER Time: 08:42:00 Salesperson : Ref.: (GST) (GST) Item Qty S/Price S/Price Amount Tax 101785 13 18.00 19.08 248.04 SR PYE 921 PLASTER 100160 5 3.00 3.18 15.90 SR KAPUR AIR (A1) 101275 3 2.00 2.12 6.36 SR SPAN HANDLE Total Qty: 21 270.30 Total Sales (Excluding GST) : 255.00 Discount : 0.00 Total GST : 15.30 Rounding : 0.00 Total Sales (Inclusive of GST) : 270.30 CASH : 270.30 Change : 0.00 GST SUMMARY Tax Code % Amt (RM) Tax (RM) SR 6 255.00 15.30 Total : 255.00 15.30 GOODS SOLD ARE NOT RETURNABLE THANK YOU.',\n",
              " 'X51005724628': 'R KEDAI PAPAN YEW CHUAN (0005583085-K) LOT 276 JALAN BANTING 43800 DENGKIL, SELANGOR. TEL : 03-87686092 FAX : 03-87686092 GST ID : 000781500416 TAX INVOICE Bill To : SUCI ALAM JAYA TRANSPORT NO 1 JALAN AMAN 2 TAMAN DESA 43800 DENGKIL SELANGOR 017-6057770 Doc No. : CS00010679 Date: 10/03/2018 Cashier : USER Time: 13:49:00 Salesperson : Ref.: (GST) (GST) Item Qty S/Price S/Price Amount Tax 100135 10 8.00 8.48 84.80 SR BESI R 5.5 (CQ) Total Qty: 10 84.80 Total Sales (Excluding GST) : 80.00 Discount : 0.00 Total GST : 4.80 Rounding : 0.00 Total Sales (Inclusive of GST) : 84.80 CASH : 84.80 Change : 0.00 GST SUMMARY Tax Code % Amt (RM) Tax (RM) SR 6 80.00 4.80 Total : 80.00 4.80 GOODS SOLD ARE NOT RETURNABLE THANK YOU',\n",
              " 'X51005741929': '- MyMydin Subang Bestari 2300 MY MYDIN SDN BHD (257229-K) No 13, 15, 17 & 19 Jalan Nova Q U5/Q, Seksyen U5,Subang Bestari 40150 Shah Ala Selangor Darul Ehsan Tel: 03-78322935 GST ID : 001400971264 RECEIPT TERMINAL : 1670 INVOICE NO. : 1670327566 DATE : 15/01/2018 10:59:13 CASHIER : Azhar - 928374 EVEREADY BAT S/H/D 1212BP4 AAAFA S 9556500903668 1 * 5.50 5.50 Item Count 1 Total 5.50 Rounding Adjustment 0.00 Total After Rounding 5.50 CASH 100.00 Change CASH 94.50 GST Rate Amt Excl GST(RM) Tax(RM) S = 6% 5.19 0.31 Points earned in this trans. : 0 Receipt No: 1670327566 Print Date. 15/01/2018 10:59:23 Thank You Please Come Again',\n",
              " 'X51005742110': 'Q YONG CEN ENTERPRISE 9, JALAN SUBANG JASA 3, 40150 SHAH ALAM, SELANGOR. TEL: 012-9719498 GST NO: 001147981824 CASH RECEIPT #: CS00668595 DATE: 06/01/2018 SALESPERSON : TIME: 10:47:00 COUNTER : ITEM QTY U/P AMOUNT 9555223500000 24 2.58 61.99 SR: CHAMPIGNONS MUSHROOMS 425G(2.5833X TOTAL QUANTITY 24 SUB-TOTAL 61.99 DISC 0.00 GST 3.72 button mush TAX 0.00 ROUNDING -0.01 TOTAL 65.70 CASH 65 70 CHANGE 0.00 65.70 GOODS SOLD ARE NOT RETURNABLE, THANK YOU.',\n",
              " 'X51005745213': 'P MUN HENG ELECTRICAL & HARDWARE SUPPLY (ROC: 001960450-U) GST ID No: 000372871168 No.52, Jalan Bulan US/BT, Bandar Pinggiran Subang, Sungal Buloh, 40150 Shah Alam, Sel. Tel: :013-2238377/016-3662990 Fax:03-78455834 Tax Invoice No. : CS-51762 Date : 01/02/2018 Qty RM Tax 2f WHITE SPRAY 1.00 7.00 SR @ 7.00 Total Amt Ind. GST @ 6%: 7.00 Rounding Adjustment : 0.01 Total Artn Payable : 7.00 Paid Amount : 7.00 Change : 0.00 Total Qty Tender : 1 Goods sold are not 7/2 GST Summary Amount Tax (RM) (RM) SR@A 6.60 0,40 - Total 6.60 0.40 THANK YOU For any enquiry, please e-mail us 01/02/2018 16:22:05',\n",
              " 'X51005745244': 'Subway#42210-0 Phone 03-78870693 URBAN IDEA SDN BHD (417940-M), A-G-06, DATARAN GLOMAC, JALAN SS6/5A, PUSAT BANDAR KELANA JAYA, 47301 PETALING JAYA, SELANGOR, Malaysia Served by: JOSEPH 14/02/2018 11:13:31 Tax Invoice# 1/A-42210-138075 GST ID: 000220499968 Qty Size Item Price 1 (MY) EDV Meal RM11.90 6\" -Meatball Sub -16oz Fountain Drink .-1 Cookies Total (Eat In) RM11.90 Cash 11-90 RM11.90 Change RM0.00 Tax Info: GST 6% (6%) RM0.67 Total-Excl-GST RM11.23 Take our 1 Minute Survey at www.tellsubway. my and get a FREE COOKIE with next purchase. Redemption of 1 cookie per transaction',\n",
              " 'X51005745298': '99 SPEED MART S/B (519537-X) LOT P.T. 2811, JALAN ANGSA, TAMAN BERKELEY 41150 KLANG, SELANGOR 1317-TRILLIUM SG BESI GST ID. NO : 000181747712 INVOICE NO : 18353/102/T0311 04:06PM 570842 31-03-18 503 100 PLUS CAN 325ML (ICE RM1.49 s 501 MALTA CAN 320ML (ICE) RM2.50 s Total Sales (Inclusive GST) RM 3.99 Rounding Adjustment RM .01 Rounding RM 4.00 CASH RM 10.00 CHANGE RM 6.00 GST Summary Amount (RM) Tax(RM) $ = 6% 3.77 .22 Thank You. Please come again Keep the invoice for applicable returns',\n",
              " 'X51005746203': 'SUPER SEVEN CASH & CÂRRY SDN BHD (590150-A) PASARAYA BORONG SUPER SEVEN NO. 1 Jalan Euro 1 Off Jalan Batu Tiga Sungai Buloh Seksyen U3 Shah Alam, 40150 http://www.super7.com.my TEL : 03-78590861 FAX : 03-78590864 GST ID : 000639090688 TAX INVOICE Customer : [77853745] Mrs. ONG GUAT CHYE TAX INVOICE NO : 179509 COUNTER :004 OPERATOR : [NUR ATIQAH BINTI MUH-CASHIER] 01-03-2018 09:23:06 AM (RM) TENDERLION @43.37 40212 *1 43.37 ZR D3.1 TENDERLOIN @49.42 40240 . *1 49.42 ZR D31 TENDERLOIN @43.90 40240 *1 43.90 ZR D31 TENDERLOIN @49.66 40240 *1 49.66 ZR AYAMAS CHICKEN FRANKFURTER 340G @4.30 9556276020392 *8 34.40 SR BUTTERCUP LUXURY SPREAD 500G @9.90 6888010995552 *1 9.90 SR BUTTERCUP LUXURY SPREAD 500G @9.90 6888010995552 *1 9.90 SR QY CINCAU 2KG @3.90 9554100149455 *1 3.90 SR CRAB NUGGET 500G MUSHROOM @8.20 9557240160502 *20 164.00 SR QUANTITY : 35 Units Total Sales (Incl. GST @6%) RM408.45 Rounding Adjustment RM0.00 Net Total RM408.45 Payment Method MASTER CARD GST Summary Sales Amt Tax Amt (RM) (RM) ZR (0%) 186.35 0.00 SR (6%) 209.53 12.57 PLEASE VERIFY YOUR RECEIPT 408-85 BEFORE LEAVING THE COUNTER. GOODS SOLD ARE NOT RETURNABLE. THANK YOU',\n",
              " 'X51005746204': 'CP, BEMED (SP) SDN. BHD. No.49, Jalai DharG U3.G, Sibaig Perdana, 40150 Stai Alam, Setaigor D.E. 03-7845 8155 GST Reg : 001734164480 CASH RECEIPT CB#: 236100411023 27/01/2013 06:27:41 Cashier : mimie 0 Qty Code&Desc Price Total PRISTIN MOPL FISH OIL OR 1 465920 143.70 143.70 ALPHA LIPID LIFE LINE BR 1 184810 165.00 165.00 2 Type: 2 Sub Total: 308.70 Rounding Adj : 0.00 Total Inclusive GST: 308.70 & MASTER 308.70 GST Summary: Amount Tax (MYR) (MYR) SR 291.23 17.47 1 ONG GUAT CHYE Points 1,548 308-70 Thank you. Please come again.',\n",
              " 'X51005746206': 'in PANA JAYA ENTERPRISE NO. 10-G. GROUND FLOOR. JALAN DINAR D. U3/D. TAMAN SUBANG PERDANA. SEK U3. 40150 SHAH ALAM SELANGOR. TEL: 03-7847 2376 FAX:03-7847 2378 (GST Reg. No : 002069438464) Tax Invoice INV No.: 539405 Qty(s) : 2 Date : 21-03-2018 10:37:49 Cashier : CASHIER2 Description Qty U.price Total TAX 9928 28 IN BASIN 1 X 35.00 35.00 SR TG WFD32 PP BOWL CTN 1 X 70.00 70.00 SR Total (Excluding GST) 99.06 GST payable (6%) : 5.94 Total (Inclusive of GST) : 105.00 TOTAL: 105.00t CASH : 105.00 GST Summary Amount (AM) Tax(AM) SR (@ 6%) 99.06 5.94 105/2 .... Thank You **** Please Come Again Goods Sold Are Not Refundable',\n",
              " 'X51005746207': 'SUPER SEVEN CASH & CARRY SDN BHD (590150-A) PASARAYA BORONG SUPER SEVEN NO. 1 Jalan Euro 1 Off Jalan Batu Tiga Sungai Buloh Seksyen U3 Shah Alam, 40150 http://www.super7.com.my TEL : 03-78590861 FAX : 03-78590864 GST ID : 000639090688 p TAX INVOICE Customer : [77853745] Mrs. ONG GUAT CHYE TAX INVOICE NO : 203225 COUNTER :002 OPERATOR : [SYED AHMAD FALLAH 8I-CUSTOMER SERVICE CLERK] 21-03-2018 11:25:07 AM (RM) FRUIT (FP) @2.99 41595 *1 2.99 ZR NANGKA 1 PINGGAN @2.00 FM415000303 *1 2.00 ZR KIMBALL TOMATO PUREE 430G @3.80 9556191030230 *1 3.80 SR KIMBALL TOMATO PUREE 430G @3.80 9556191030230 *1 3.80 SR URO MUSHROOM 425G @2.80 9555227500563 *1 2.80 SR YOUNG CORN 425G (MS) @2.90 9555654400313 *1 2.90 SR QUANTITY : 6 Units Total Sales (Incl. GST @6%) RM18.29 Rounding Adjustment RM0.01 Net Total 18.40 RM18.30 Payment Method MASTER CARD GST Summary Sales Amt Tax Amt (RM) (RM) ZR (0%) 4.99 0.00 SR (E.) 12.54 0.76 PLEASE VERIFY YOUR RECEIPT BEFORE LEAVING THE COUNTER. GOODS SOLD ARE NOT RETURNABLE. THANK YOU',\n",
              " 'X51005746210': \"'P) Segi Cash & Carry Sdn. Bhd. (317041-W) Pt17920 Sek U9, Shah Alam GST Reg No : 001951645696 Invoice No : 31911 Date : 12 Mar 2018 08:51am Counter : 09 KNIFE COOKING OIL 5KG 1 X 25.80 25.80 Z LKK HOI SIN SAUCE 240G 1 X 7.69 7.69 S SEVEN FRENCH FRIES S/S 2.5KG 1 X 13.50 13.50 S IQF SQUID TUBE 1KG+- 1 X 10.90 10.90 Z IQF SQUID TUBE 1KG+- 1 X 10.90 10.90 Z IQF SQUID TUBE 1KG+- 1 X 10.90 10.90 Z IQF SQUID TUBE 1KG+- 1 X 10.90 10.90 Z IQF SQUID TUBE 1KG+- 1 X 10.90 10.90 Z IQF SQUID TUBE 1KG+- 1 X 10.90 10.90 Z IQF SQUID TUBE 1KG+- 1 X 10.90 10.90 Z IQF SQUID TUBE 1KG+- 1 X 10,90 10.90 Z IQF SQUID TUBE 1KG+- 1 X 10.90 10.90 Z No of items: 12 Subtotal Incl. GST:RM 145.09 Rounding:RM 0.01 Total Incl. GST:RM 145.10 Master xxxxxxxxxxxx0000: 145.10 Change:RM 0.00 Missed Point Today: 143 Served by MIRA SURBAKTI 145-10 GST Summary GST Code Amount (RM) Tax(RM) Z 00.0% 123.90 0.00 S 06.0% 19.99 1.20 Ref No: 00600736645031911 Goods Sold Are Not Returnable. TQ\",\n",
              " 'X51005749904': 'SWC ENTERPRISE SDN BHD (1125830-V) 28-G, Ground Floor, Jalan Dinar A U3/A, Tmn Subang Perdana, 40150 Shah Alam, Selangor. TAX INVOICE (GST ID No. : 002017808384) 06/03/2018 Cashier: 123 20:05:56 No:0100122617 Item/Desc. Qty Price Amt. TM621 1.5\"B/CAT NYLON OLS 23 B621-1 1 2.00 2.00 OPP TAPE 1.5\" OPP TAPE 1.5\" 1 2.00 2.00 Total Qty : 2 TOTAL AMOUNT 4.00 CASH 4.00 GST @6% Included In Total 0.22 Thank You ! Please Come Again ! Goods Sold Only Exchangable Within 3 Days ! buy lape',\n",
              " 'X51005757220': '3 1803010 AEON CO. (M) BHD (126926-H) 3RD FLR, AEON. TAMAN, MALURI SC JLN JEJAKA, TAMAN MALURI CHERAS, 55100 KUALA LUMPUR GST ID : 002017394688 SHOPPING HOURS SUN-THU: 1000 HRS - 2200 HRS FRI-SAT:1000 HRS - 2300 HRS 1x 000006215514 10.90SR TOPVALU VIRGIN 1x 000006215514 10.90SR TOPVALU VIRGIN 16x 000001060836 44.00ZR ANCHOR FLOUR 1 @2.75 1x 000001083107 15.40SR DIAMOND FOIL 7 Sub-total 81.20 Total Sales Incl GST 81.20 Total After Adj Incl GST 81.20 CASH 100.00 Item Count 19 Change Amt 18.80 Invoice No: 2018030510080080119 GST Summary Amount Tax SR @ 6% 35.09 2.11 ZR @ 0% 44.00 0.00 Total 79.09 2.11 05/03/2018 15:09 1008 008 0080119 0305114 LEONG SIEW MUI REKHA AEON BANDAR PUCHONG TEL 1-300-80-AEON (2366) THANK YOU FOR YOUR PATRONAGE PLEASE COME AGAIN',\n",
              " 'X51005757233': '31803016 Guardian Health And Beauty Sdn And I(II Mall 631 & 632, 6rd Flr, 101 Mall Bandar Puchong Jaya Tel :03 5082 9000 Company Reg #1101083-T GST Reg #000899874816 RM 121048373 GON WR PLS 100+20 9.95 SUBTOTAL 9.95 TOTAL (GST INCL 9.95 CASH 10.00 CHANGE DUE 0.05 GST - Rate GST Excl -- GST Amt S 6% 9.39 0.56 Thank You For Shopping At Guardian All Amounts Are in M Goods sold are non-refundable. Dispensed medicines sold are not returnable. All exchanges and returns including Guardian brand products must be made within 7days with original receipts and product in original condition. St:8046 Ctr2 ID:4986 TaxInv:68089 18:17 09/03/18',\n",
              " 'X51005757282': '31803037 puctions TSH POWER HARDWARE TRADING 002458685-T 13-1, Jalan PJU 5/10, Dataran Sunway, Kota Damansara, 47810, Petaling Jaya, Selangor el:012-373 2096 TAX INVOICE GST Reg No: 000460664832 olce No : 01-144366 e : 12/09/2017 4:42:33 PM Description Qty Price Amount 308# DRAWER 1 6.00 6.00 SR* OCK C 2 - HL500 / 1L502 AXON GARDEN 1 18.00 18.00 SR* TAP 1/2 X 3/4 FX- 105B LOCAL SEAL WHITE 1 0.50 0.50 SR* TAPE Sub Total: 0.50 Round Amt: 0.00 NET TOTAL : 24.50 Cash Received : 50.00 Change : 25.50 GST Summary Amount(RM) Tax(RM) SR=6.00% 23.11 1.39 Thank You.**** Please Come Again.',\n",
              " 'X51005757292': '31803041 MR. D.I.Y. (M) SDN BHD (CO.REG :860671-D) LOT 1851-A & 1851-B, JALAN KPB 6, KAWASAN PERINDUSTRIAN BALAKONG, 43300 SERI KEMBANGAN, SELANGOR (GST ID No :000306020352) (IOI PUCHONG) -TAX INVOICE- PP WATER FILTER CARTRIDGE INDOOR 1S *S WA38 - 100 9690059 2 X 3.30 6.60 Item(s) : 1 Qty(s) : 2 Total Incl. GST@6% RM 6.60 CASH RM 50.00 CHANGE RM 43.40 GST @6% included in total RM 0.37 * 18-03-18 12:09 SH01 ZJ86 T3 R000060580 OPERATOR TRAINEE CASHIER EXCHANGE ARE ALLOWED WITHIN 7 DAY WITH RECEIPT. STRICTLY NO CASH REFUND.',\n",
              " 'X51005757308': '31803045 MR. D.I.Y. (M) SDN BHD (CO.REG :860671-D) LOT 1851-A & 1851-B, JALAN KPB 6, KAWASAN PERINDUSTRIAN BALAKONG, 43300 SERI KEMBANGAN, SELANGOR (GST ID No :000306020352) (IOI PUCHONG) -TAX INVOICE- CLOTH TAPE 46MM*5M (RED) *S RC22-32 - 36 9084134 1 X 1.90 1.90 BOPP TAPE 48MM*100M CLEAR *S GB12-21-22 - 36 6935818350846 1 X 3.90 3.90 CLOTH TAPE 46MM*5M (GREEN) *S HD03 - 36 9084135 1 X 1.90 1.90 DBL SIDE CLEAR ACRYLIC TAPE VST106C *S WA10 - 8/64 9554100363103 1 X 11.90 11.90 D/S TAPE 1.8*15M *S MC42 - 88 9080456 1 X 1.70 1.70 PLASTIC BAGS *S 99999 1 X 0.20 0.20 Item(s) : 6 Qty(s) : 6 Total Incl. GST@6% RM 21.50 CASH RM 50.00 CHANGE RM 28.50 GST @6% included in total RM 1.22 * * 21-03-18 12:27 SH01 ZJ86 T2 R000110882 OPERATOR TRAINEE CASHIER EXCHANGE ARE ALLOWED WITHIN 7 DAY WITH RECEIPT. STRICTLY NO CASH REFUND.',\n",
              " 'X51005757342': \"31803049 MR. D.I.Y. (M) SDN BHD (CO.REG :860671-D) LOT 1851-A & 1851-B, JALAN KPB 6, KAWASAN PERINDUSTRIAN BALAKONG, 43300 SERI KEMBANGAN, SELANGOR (GST ID No :000306020352) (IOI PUCHONG) -TAX INVOICE- MESH SPONGE 4S *S AN62-72 - 12/96 9064234 1 X 1.80 1.80 BROWN COCO BRUSH 6' V6N *S WA50 - 20/300 9555221303658 2 X 2.10 4.20 PLASTIC BAGS *S 99999 1 X 0.20 0.20 Item(s) : 3 Qty(s) : 4 Total Incl. GST@6% RM 6.20 CASH RM 100.00 CHANGE RM 93.80 GST @6% included in total RM 0.35 23-03-18 16:43 SH01 ZJ86 T1 R000111721 OPERATOR TRAINEE CASHIER EXCHANGE ARE ALLOWED WITHIN 7 DAY WITH RECEIPT. STRICTLY NO CASH REFUND.\",\n",
              " 'X51005763958': 'SUPER SEVEN CASH & CARRY SDN BHD (590150-A) PASARAYA BORONG SUPER SEVEN NO. 1 Jalan Euro 1 Off Jalan BatJ Tiga w Sungai Buloh Seksyen U3 Shah Alam,40150 http://www.sucer7.com.my TEL : 03-78590861 FAX : 03-78590864 GST ID : 000639090688 TAX INVOICE Customer : [77853745] Mrs. ONG GUAT CHYE TAX INVOICE NJ : 152164 COUNTER :006 OPERATOR : [NURUL FATEHA BT MOHD-ASST SUPERVISOR] 27-01-2018 04:32:13 PM (RM) KK KACANGGORENG 300G @5.90 9556624001400 *10 59.00 SR QUANTITY : 10 Units Total Sales (Incl. GST @6%) RM59.00 Rounding Adjustment RM0.00 Net Total RM59.00 Payment Method VISA CARD GST Summary Sales Amt Tax Amt (RM) (RM) SR (6%) 55.66 3.34 ZR (0%) 0.00 0.00 PLEASE VERIFY YOUR RECEIPT 59 BEFORE LEAVING THE COUNTER. GOODS SOLO ARE NOT RETURNABLE. THANK YOU',\n",
              " 'X51005763964': 'Wh, YONG CEN ENTERPRISE buton 9, JALAN SUBANG JASA 3, 40150 SHAH ALAM, SELANGOR TEL: 012-9719498 mushroom GST NO: 001147981824 CASH RECEIPT #: CS00668594 DATE: 06/01/2018 SALESPERSON TIME: 10:47:00 COUNTER : ITEM QTY U/P AMOUNT 9555223500000 24 2.58 61.99 SR:CHAMPIGNONS MUSHROOMS 425G(2 5833X TOTAL QUANTITY 24 SUB-TOTAL 61.99 DISC 0.00 GST 3.72 TAX 0.00 ROUNDING -0.01 65070 TOTAL 65.70 CASH 65.70 CHANGE 0.00 GOODS SOLD ARE NOT RETURNABLE, THANK YOU.',\n",
              " 'X51005763999': \"Segi Cash & Carry Sdn. Bhd (317041-W) ON Pt17920 Sek U9, Shah Alam GST Reg No : 001951645696 Invoice No : 62513 Date : 06 Jan 2018 05:21pm Counter : 02 MIGHTY MARK DISHWASH 11L 2 X 9.90 19.80 S CROWN'S POWER PWD DETERGENT 5KG 1 X 11.50 (Disc: 1.60) 9.90 S UDANG XL 3.18 X 39.90 126.88 Z UDANG XL 3.15 X 39.90 125.69 Z WIN CENDOL (GROSS 1.5KG, NET 1KG) 2 X 4.51 9.02 S IKAN BILIS C TIMBANG 1.36 X 55.00 74.80 Z AJINOMOTO 20X1KG 1 X 210.00 210.00 S SEGI/LEMBU EMAS OIL 17KG+- 1 X 69.90 69.90 Z ABC TEPUNG UBI 10x1KG 1 X 28.00 28.00 Z No of items: 11 Subtotal Incl. GST:RM 673.99 Rounding:RM 0.01 Total Incl. GST:RM 674.00 VISA xxxxxxxxxxxx7118: 674.00 Change:RM 0.00 Savings::RM 1.60 Missed Point Today: 659 Served by KALAVATHI A/P AYAVOD 873.99 GST Summary GST Code Amount(RM) Tax(RM) S @6.0% 234.63 14.09 Z @0.0% 425.27 0.00 Ref No: 00600666580062513 Goods Sold Are Not Returnable. TQ\",\n",
              " 'X51005764031': '(AD) SUPER SEVEN CASH & CARRY SDN BHD (590150-A) PASARAYA BORONG SUPER SEVEN NO. 1 Jalan Euro 1 Off Jalan Batu Tiga Sungai Buloh Seksyen U3 Shah Alam, 40150 http://www.super7.com.my TEL : 03-78590861 FAX : 03-78590864 GST ID : 000639090688 TAX INVOICE Customer : [77853745] Mrs. ONG GUAT CHYE TAX INVOICE NO : 192636 COUNTER :002 OPERATOR : [SYED AHMAD FALLAH BI-CUSTOMER SERVICE CLERK] 01-02-2018 09:52:50 AM (RM) LADY CHOICE 3L TARTAR SAUC @35.50 9556024001383 *1 35.50 SR SAYUR RM1.00 @1.00 FM420000000 *2 2.00 ZR SAYUP. RM1.00 @1.00 FM420000000 *3 3.00 ZR KOBIS MERAH @1.60 42129 *1 1.60 ZR QUANTITY : 7 Units Total Sales (Incl. GST @6%) RM42.10 Rounding Adjustment RM0.00 Net Total 42-10 RM42.10 Payment Method VISA CARD GST Summary Sales Amt Tax Amt (RM) (RM) SR (6%) 33.49 2.01 ZR (0%) 6.60 0.00 PLEASE VERIFY YOUR RECEIPT BEFORE LEAVING THE COUNTER. GOODS SOLD ARE NOT RETURNABLE. THANK YOU',\n",
              " 'X51005764154': \"two Disposite PANA JAYA ENTERPRISE NO.10-G. GROUND FLOOR. JALAN DINAR D. U3/D TAMAN SUBANG PERDANA. SEK U3, 40150 SHAH ALAM SELANGOR TEL:03-7847 2376 FAX 03-7847 2378 (GST Reg. No : 002069438464) Tax Invoice INV No.: 537422 Qty(s) 12 Date : 25-01-2018 18 10:28 Cashier: CASHIER2 Description Qty U price Total TAX CRYSTAL CATERING FOIL 1.15KG 450X18' 1 x 35.00 35.00 SR EC 7 PP PLATE (50PCS) 10 X 6.25 62.50 SR EC 9 PP PLATE(500PCS)CIN 1 X 108.00 108.00 SR Total (Excluding GST) : 193 87 GST payable (6%) 11.63 Total (Inclusive of GST) : 205.50 TOTAL: 205.50 CASH : 205-50 205.50 GST Summary Amount((MM) Tax (RM) SR (@ 6%) 193.87 11.63 Thank You .... Please Come Again Goods Sold Are Not Refundable\",\n",
              " 'X51005764161': '(W) 08/1/08 99 SPEED MART S/B (519537-X) LOT P.T. 2811, JALAN ANGSA, TAMAN BERKELEY 41150 KLANG, SELANGOR 1313-SUBANG BESTARI GST ID, NO : 000181747712 INVOICE NO : 18291/102/T0380 06:04PM 569004 28-01-18 5593 LEA & PERRINS SOS WORC RM98.89 @11 X RM 8.99 Total Sales (Inclusive GST) RN 98.89 Rounding Adjustment RM .01 Rounding RM 98.90 CREDIT RM 98.90 CHANGE RM .00 GST Summary Amount(RM) Tax(RM) $ = 5% 93.28 5.61 98-90 Thank You. Please come again Keep the invoice for applicable returns',\n",
              " 'X51005806692': 'Tax Invoice GREAT ZONE HOUSEHOLD CENTRE SDN BHD (801049-U) 60 & 62. Jalan Ciku, 86000, KLUANG GST Reg.: 001833082880 Document No. : KLG0201130227 Date : 18/02/2018 06:08:59 PM Debtor : Member : Terminal : KLG0201 Cashier : KLG2 DESC U. PRICE Disc AMOUNT TAX QTY RM RM CODE 200SHEET COMPACT SERVIETTES (NTE) 1 PC K 3,30 0.00 3.30 SR 1.5\" RUBBER BAND 1 200G * 3.60 0,00 3.60 SR PP 3X5 04 1 200G * 2.50 0.00 2.50 SR 18MMX90Y OPP TAPE 1 PC x 1.60 0,00 1,60 SR 911 TAPE DISPENSER 1 PC * 8.60 0,00 8.60 SR PSI-890 PENSONIC DRY IRON WITH SPRAY 1 PC x 49.90 0.00 49.90 SR AP-17 APRON PLAIN CLOTH 20 PO * 10,90 0.00 218.00 SR TALI UKURAN 1 PC * 1.00 0,00 1.00 SR CC-100 100PC CITE CANDLE 1 PC * 22.90 0.00 22.90 SR F1502 SCISSOR 08C (CH) (TLC) 6 PC * 6.00 0.00 36.00 SR 2KG HC KITCHEN SCALE 1 PC * 19.90 0,00 19.90 SR Sub Total (Exclusive GST) : 346.51 GST 6% : 20.79 Service Charge : 0,00 Rounding Adjustment : 0,00 Rounded Total (RM): 367.30 Credit Card 367.30 GST Summary Amount(RM) Tax(RM) SR @ 6% 346.51 20.79',\n",
              " 'X51005806695': 'JUWITA WEDDINGS (366310-U) SAYANG YOU STATION SDN BHD LOT G18 & G19, JLN 8/27A WANGSA MAJU (AEON BIG SHOPPING CENTER) 53300 KUALA LUMPUR Tel : 0341434733 / Fax : 0341434722 GST ID : 000689004544 TAX INVOICE Invoice No . : RCP180228-0101-77106 Receipt Date : 28-Feb-2018 16:37:04 Cashier : Juwita Weddings Item Description Qty RM 1640310083 PCS 2 4.10 SR MEASUREMENTTAPE 714WH Sub Total : 4.10 TOTAL : 4.10 CASH : 4.10 BALANCE : 0.00 INC. GST 6.00% : 023 GST Summary Amount (RM) Tax (RM) SR 3.87 0.23 All Payments must be made only in the form of a credit card or cash payable to Juwita Weddings Sdn Bhd. Exchange are allowed within 3 day with receipt. Strictly no cash refund. Thank you.',\n",
              " 'X51005806696': \"IMAGE PRINTEC (M) SDN BHD Reg No: 416123-U GST: 001241862144 No. 12A-G, Jalan Wangsa Delima 11. D'wangsa Wangsa Maju, 53300 Kuala Lumpur. T: +(603) 4141 9822 F:+(603) 4141 9722 TAX INVOICE CB#: 61967 23/02/2018 7:44:16 Salesperson : Qty Desc Price Total 2 COLOR COPY A4 1.00 2.00 SR 2 PHOTOCOPY A4 0.10 0.20 SR 2 LAMINATE A4 2.50 5.00 SR 6 Type: 3 SubTotal: 7.20 GST 6% 0.43 Rounding Adj : 0.02 NET TOTAL: 7.65 CASH 10.00 Change: 2,35 Thank you. Please come again.\",\n",
              " 'X51005806718': \"HUGO TRADING SDN BHD BR No. 1160956-H LOT 3&9, KOMPLEKS PASAR BORONG D SELANGOR, 43300 SERI KEMBANGAN, SEL 03-89442249, GST No. : 001552822272 TAX INVOICE 13/01/2018 11:44:30PM TRN: C2050063 Counter 2 CASHIER 2 QTY UOM UNIT Amt Exc. Amt Inc GSTC Price Tax Taxode HD 32 X40 1kg 2 PKT 10.38 20.75 22.00 SR GST @6% + 1.25 GB3648-GARBAGE BAG 36x48 1X15 2 PKT 8.87 17.74 18.80 SR GST @6% + 1.06 *Total Qty. 400 40.80 Total Includes GST 6% 40.80 Customer's Payment Cash 51.00 Change 10.20 GST Summary Amount (RM) Tax (RM) SR=6% 38.49 2.31 *Goods sold are not returnable Thank you for shopping at HU' TRADING SDN BHD\",\n",
              " 'X51005806719': 'POSTED SATU KAMPUNG ENTERPRISE SDN BHD (1127686-K) NO.42, PASAR BORONG SELANGOR: JALAN PUTRA PERMAI, 43300 SERI KEMBANGAN, SELANGOR TEL : 03-8938 2188 SATUKAMPUNGESB@GMAIL.COM GST ID 000816205824 TAX INVOICE Doc No. : CS00039037 Date: 13/01/201, Cashier : USER Time: 23:37:00 Salesperson : Ref : (GST) (GST) Item Qty S/Price S/Price Amount Tax KIT01 3 19.81 21.00 63.00 SR KITCHENWARE Total Qty: 3 63 00 Total Sales (Exciuding GST) : 59.43 Discount : 0.00 Total GST : 3.57 Rounding : 0.00 Total Sales (Inclusive of GST) : 63.00 CASH : 70.00 Change : 7.00 POSTED IARY % Amt (RM) Tax (FM) 6 59.43 3.57 SDN BHD Total : 59.43 3.57 956-H SAR BORONG D ARE NOT RETURNABLE, THANK YOU',\n",
              " 'X51005806720': 'SATU KAMPUNG ENTERPRISE SDN BHD (1127686-K) NO.42, PASAR BORONG SELANGOR. JALAN PUTRA PERMAI, 43300 SERi KEMBANGAN. SELANGOR. TEL : 03-8938 2188 SATUKAMPUNGESB@GMAIL.COM GST ID : 000816205824 TAX INVOICE Doc No : CS00039038 Date: 13/01/2011 Cashier : USER Time: 23:50 00 Salesperson : Ref. (GST) (GST) Item Qty S/Price S/Price Amount T. HHT006 1 18.87 20.00 20.00 35X40 TRASPERENT BAG I Total Qty: 1 20 00 Total Sales (Excluding GST, : 18 87 Discount : 0.00 Total GST : 1.13 Rounding : 0,00 1 Total Sales (Inclusive of GST) : 20.00 CASH : 20.00 Change : 0.00 GST SUMMARY Tax Code % Am (RM) Tax (RM) SR 6 1837 113 Total : 18.87 1 GOODS SOLD ARE NOT RETURNABLE THANK YOU',\n",
              " 'X51006008081': 'PRINT EXPERT SDN BHD 989625-A NO 18, 20, 22, JALAN BUNGA TANJONG 2/16, 40000 SHAH ALAM, SELANGOR TEL : 03-55250588 FAX: 03-55107309 GST ID : 000886677504 Doc No : SO00050251 DEPT Cashier : USER Date 19/03/2018 Salesperson: SYAH!DAH Time 12 52 00 Description Qty Price Amount BANNER 8X4FEET 1 28.58 28.58 DESIGN BANNER 1 31 80 31.80 BUSINESS SPOT UV 1 159.00 159.00 DIE-CUT TRANSPARENT PF10 11.98 11978 DESIGN STICKER 1 31.80 31 80 T SHIRT PRINTING 5 11.13 55.65 DEPOSIT (CS00530344) 1 -200.00 -200.00 Total Qty: 20 Total Sales (Excluding GST) : 213.78 Discount : 0,00 Total GST : 12.83 Rounding : -0.01 Total Sales (Inclusive of GST) 226.60 THANK YOU, HAVE A NICE DAY I',\n",
              " 'X51006008082': 'PRINT EXPERT SDN BHD (989625-A) NO 18, 20, 22, JALAN BUNGA TANJONG 2/16, 40000 SHAH ALAM, SELANGOR TEL : 03-55250588 GST ID : 000886677504 TAX INVOICE Receipt #: CS00534185 Table: 92 Staff SYAHID Date: 25/03/2018 Cashier: USER Time: 15:17:00 Description Qty Price Amt Tax BANNER 8X4FEET 1 28.58 28.58 SR DESIGN BANNER 1 31.80 31.80 SR BUSINESS SPOT UV 1 159.00 159.00 SR DIE-CUT TRANSPARENT PP : 5 12.40 62.01 SR DESIGN STICKER 1 31.80 31.80 SR T SHIRT PRINTING 5 11.13 55.65 SR DEPOSIT (CS00530344) 1 200.00-200.00 SR BANNER 8 X 4 I 35.36 35.36 SR Total. 16 204.20 Total Sales (Excluding GST) : 192.64 Discount : 0.00 Service Charge : 0.00 Total GST : 11.56 Rounding : 0.00 Total Sales (Inclusive of GST) 204.20 {41005926) VISA 204.20 CHANGE 0.00 GST SUMMARY Tax Code % Amt (RM) Tax (RM) SR 6 192.64 11.56 Total : 192.64 11.56 # indicated this tax code belong to service charges. GOODS SOLD ARE NOT RETURNABLE, ITEM NOT LECTED MORE THAN 1 MONTH WILL BE DISPOSED',\n",
              " 'X51006008083': 'PRINT EXPERT SDN BHD (989625-A) NO 18. 20, 22, JALAN BUNGA TANJONG 2/16, 40000 SHAH ALAM, SELANGOR TEL : 03-55250588 GST ID : 000886677504 TAX INVOICE Receipt #: CS00534200 Table: 105 Staff: LEO Date: 25/03/2018 Cashier: USER Time: 15:32:00 Description Qty Price Amt Tax FLYERS IVORY A5 40 0.82 32.65 SR MIRRORKOTE DIECUT 20 4.35 86.92 SR Total: 60 119.57 Total Sales (Excluding GST) : 112.80 Discount : 0.00 Service Charge : 0.00 Total GST : 6.77 Rounding : -0.02 Total Sales (Inclusive of GST) 119.55 {000031013140} VISA 119.55 CHANGE 0.00 GST SUMMARY Tax Code % Amt (RM) Tax (RM) SR 6 11280 6.77 Total : 112.80 6.77 # indicated this tax code belong to service charges. GOODS SOLD ARE NOT RETURNABLE, ITEM NOT OLLECTED MORE THAN 1 MONTH',\n",
              " 'X51006008090': \"POPULAR BOOK CO. (M) SDN BHD (Co. No. 113825-W) (GST Reg No. 001492992000) No 8, Jalan 7/118B, Desa Tun Razak 56000 Kuala Lumpur, Malaysia EMPIRE SHOPPING GALLERY Tel : 03-56319320 05/03/18 13:56 Slip No. : 1020313836 Hanum Trans: 261486 Member Card No: 1001016668849 Card Expiry: 31/05/18 Description Amount No Plastic Bag Campai 0.20 T Spring Issue 20% Reba PB 2D R/FILE A4 40MM 2pc e 7.99 15.98 T Stat-Buy 2RM 13 -2.98 PB 1H SHRP PB8172-GY 1.50 T Member Discount -0.15 PLASTIC RULER 20CM - 0.80 T Member Discount -0.08 PB SHT/P 11H A4 50'S 16.90 T Member Discount -1.69 Total RM Incl. of GST 30.48 Rounding Adj 0.02 Total RM 30.50 Cash -50.50 CHANGE 20.00 Item Count 7 GST Summary Amount (RM) Tax (RM) T @ 6% 28.75 1.73 Z @ 0% 0.00 0.00 Total Savings -4.90 BE A POPULAR CARD MEMBER AND ENJOY SPECIAL DISCOUNTS THANK YOU. PLEASE COME AGAIN. www.popular.com.my Buy Chinese books online www.popularonline.com.my\",\n",
              " 'X51006008092': \"POPULAR BOOK CO. (M) SDN BHD (Co. No. 113825-W) (GST Reg No. 001492992000) No 8, Jalan 7/118B, Desa Tun Razak 56000 Kuala Lumpur, Malaysia AEON SHAH ALAM Tel : 03-55235214 06/03/18 18:01 Slip No. : 8010180429 Supervisor Trans: 196796 Member Card No: 1001016668849 Card Expiry: 31/05/18 Description Amount No Plastic Bag Campai 0.20 T 70g P. Copy 450'S 13.69 T Stat-Great Saving --1.20 PB 0/TAPE 48X40X45BX3 2pc e 7.99 15.98 T Stat-Buy 20RM 12 -3.98 PB S/Tape 18x40 4IN1 5.99 T Total RM Incl. of GST 30.88 Rounding Ad.j 0.02 Total RM 30.70 Cash -30.70 Item Count 5 GST Summary Amount (RM) Tax (RM) T @ 6% 28.94 1.74 Total Savings -5.18 BE A POPULAR CARD MEMBER AND ENJOY SPECIAL DISCOUNTS THANK YOU. PLEASE COME AGAIN. www.popular.com.m Buy Chinese books online www.popularonline.com.my\",\n",
              " 'X51006008093': 'POPULAR BOOK CO. (M) SDN BHD (Co. No. 113825-W) (GST Reg No. 001492992000) No 8, Jalan 7/118B, Desa Tun Razak 56000 Kuala Lumpur, Malaysia AEON SHAH ALAM Tel : 03-55235214 06/03/18 18:04 Slip No. : 8010180431 Supervisor Trans: 196798 Member Card No: 1001016668849 Card Expiry: 31/05/18 Description Amount IC&License Hol 3552 30pc o 0.45 13.50 T Member Discount -1.35 Total RM Incl. of GST 12.15 Cash -12.15 Item Count 30 GST Summary Amount (RM) Tax (RM) T @ 6% 11.46 0.69 Total Savings -1.35 BE A POPULAR CARD MEMBER AND ENJOY SPECIAL DISCOUNTS THANK YOU. PLEASE COME AGAIN. www.popular.com.my Buy Chinese books online www.popularonline.com.my',\n",
              " 'X51006008105': 'AEON CO. (M) BHD (126926-H) 3RD FLR, AEON TAMAN MALURI SC JLN JEJAKA, TAMAN MALURI CHERAS, 55100 KUALA LUMPUR GST ID : 002017394688 SHOPPING HOURS SUN-THU: 1000 HRS - 2200 HRS FRI-SAT:1000 HRS - 2300 HRS 1x 000006937423 5.90SR DECORATIVE WOOD 10x 000006146818 59.00SR APRON-93 @5.90 1x 000001888854 0.20SR PLASTICS BAG Sub-total 65.10 Total Sales Incl GST 65.10 Total After Adj Incl GST 65.10 CASH 70.10 Item Count 12 Change Amt 5.00 Invoice No: 2018032151300023113 GST Summary Amount Tax SR @ 6% 61.46 3.64 Total 61.46 3.64 21/03/2018 14:49 5130 002 0023113 0302932 RAFIK BIN ABDUL HARI AEON DAISO SHAH ALAM TEL 1-300-80-AEON (2366) THANK YOU FOR YOUR PATRONAGE PLEASE COME AGAIN',\n",
              " 'X51006008166': 'Tax Invoice FLORISM DE ART (940075-X) LOT 2.70.00, LEVEL 2, PAVILION KUALA LUMPUR, 168, JALAN BUKIT BINTANG, 55100 KUALA LUMPUR, MALAYSIA. Tel : 03-2142 3855 GST Reg.: 000397606912 Document No. : T01005445 Date : 14/01/2018 05:03:35 PM Debtor : Member : Promoter : Terminal : T01 Cashier : ADMIN DESC U. PRICE Disc AMOUNT TAX QTY RM RM CODE OPEN 1 NO * 750.00 750.00 SR Sub Total (Exclusive GST) : 707.55 GST 6% : 42.45 Rounding Adj. : 0.00 Rounded Total (RM): 750.00 Credit Card 750.00 GST Summary Amount(RM) Tax(RM) SR @ 6 % 707.55 42.45',\n",
              " 'X51006008206': 'Burger King Lot SATMZ 23, Mezzanine Level Satellite Building Kuala Lumpur International Airport Dewina Host Sdn Bhd (434286-P) GST ID 000806879232 Tel: 603-87766625 Tax Invoice: 001-731709 Dine In Date: 2018/03/27 23:08:45 Whopper JR. 4 RM40.60 Ice Lemon Tea(L) 2 RM12.80 Coke (L) 1 RM5.30 Americano(L) 1 RM5.20 Total After Rounding RM 63.90 (Bill Inclusive of 6% GST : RM3.62) CASH RM70.00 Change RM6.10 Thank You,Please Come Again. Free Open Wifi @Burger King No Password Needed 001-2018/03/27 23:39:28 AZLINDA 001-731709 [1]',\n",
              " 'X51006248253': 'Dream Arts L 2-047, LEVEL 2, VIVACITY MEGAMALL, JALAN WAN ALWI, 93350 KUCHING GST Reg.: 000168861696 Document No. : T02035040 Date : 29/03/2018 07:35:38 PM Terminal : T02 Cashier : CASHIER01 DESC U. PRICE Disc AMOUNT QTY RM RM L123 ANDROID USB CABLE (CODE15) 1 UNIT 15.00 0.00 15.00 Sub Total (Exclusive GST) : 14.15 GST 6% : 0.85 Rounding Adjustment : 0.00 Rounded Total (RM): 15.00 Cash 15.00 GST Summary Amount(RM) Tax(RM) SR @ 6% 14.15 0.85 THANK YOU AND PLEASE COME AGAIN Goods sold cannot be returned & payment not refundable. Happy Shopping with us.',\n",
              " 'X51006311714': '31801107-REF Guardian Health And Beauty Sdn Bhd SOLARIS MOUNT KIARA NO.8 & 10, GF SOLARIS MOUNT KUARA JLN SOLARIS 5 Tel:03-62037941 Company Reg #1101083-T GST Reg #000899874816 RM 121092943 FREEMAN BK/CH 60Z 22.44 S SUBTOTAL 22.44 ROUNDING ADJUSTMENTS 0.01 TOTAL (GST INCL) 22.45 Visa Card 22.45 Trace No. 016036 CARD NO. 461772******2105 Owner Name YOUR SAVINGS FOR TODAY 3.96 GST - Rate GST Excl -- GST Amt S 6% 21.17 1.27 A Promo price items Thank You For Shopping At Guardian All Amounts Are in RM Goods sold are non-refundable. Dispensed medicines sold are not returnable. All exchanges and returns including Guardian brand products must be made within 7days with original receipts and product in original condition. St:8300 Ctr2 ID:2005 TaxInv:53488 12:23 01/01/18',\n",
              " 'X51006327953': 'MEI LET RESTAURANT NO 2. JALAN BULAN BM U5/BM, SEASYEN U5, 40150 SHAH ALAM, SELANGOR TEL: 03-7859 9863 NO GST: 0010 9273 4976 TAX INVOICE TABLE : 13 BILL NO: 00015258 / 10P01 CASHIER: ADMINISTRATOR BILL DT: 03/02/2017 09:26:48 PM RM 1 PORK LEG VINEGAR(S) 20.00 SR K29 PORK LFC VINEGAR(S) 1 TALAHIA - JIU PA! STEAM (M) 4 00 SR 001 4 WATER / TEA @0.50 2.00 SR 6 SUB TOTAL 65.00 GST 6% 3.90 NET TOTAL 68.90 Cash 100.00 CHANGE 31.10 Tax Summary Amount Tax SR GST 6% 65.00 3.90 THANK YOU, PLEASE COME AGAIN 68.90',\n",
              " 'X51006327960': \"KING'S CONFECTIONERY S/B 273500-U (GK3) LOT NO. 623, GIANT KELANA JAYA LOT PT244, JLN PERBANDARAN SS6/4 PUSAT BANDAR KELANA JAYA, PETALING TEL NO: 03 - 7803 0974 - (GST ID : 000294060032) Tax Invoice Inv No :GKJ30786544 Date:07/02/17 16:18 Cashier:FT10060 Ctr :01 Code Desc Qty RM D% Amt 211011 Portugues 1 9.90 0 9.90 S Qty 1 9.90 Rounding Adj 0.00 Due 9.90 Pay 50.00 Change 40.10 (Total Included GST @ 6% : 0.56) GOODS SOLD NOT RETURNABLE/EXCHANGEABLE THANK YOU PLEASE COME AGAIN!! TASTY BAKING HEALTHY NATION!!! ==Visit us online at www.kings.com.my- 9.90\",\n",
              " 'X51006328345': \"P KING'S CONFECTIONERY S/B 273500-U (KJ1) NO. 20-A1, JALAN SS6/3, KELANA JAYA, 473 PETALING JAYA SELANGOR D.E. TEL/FAX :- 03 - 78800732 TEL:0122144371 (GST ID : 000294060032) Tax Invoice Inv No :KJ130631528 Date:23/02/17 10:53 Cashier:FW1254 Ctr :01 Code Desc Qty RM D% Amt 181010 French Lo 3 2.40 0 7.20 S Qty 3 7.20 Rounding Adj 0.00 Rn 7-20 Due 7.20 Pay 10.00 Change 2.80 Total Included GST @ 6% : 0.41) GOODS SOLD NOT RETURNABLE/EXCHANGEABLE! TERIMA KASIK SILA DATANG LAGI!TQ TASTY BAKING HEALTY NATION!! ==Visit us online at www.kings.com.my== 7.20\"}"
            ]
          },
          "execution_count": 45,
          "metadata": {},
          "output_type": "execute_result"
        }
      ],
      "source": [
        "aws_extraction"
      ]
    },
    {
      "cell_type": "code",
      "execution_count": null,
      "metadata": {
        "id": "oqDJYC_aZ3pQ"
      },
      "outputs": [],
      "source": [
        "#folder = \"/content/drive/MyDrive/vision_datasets/Handwriting\""
      ]
    },
    {
      "cell_type": "code",
      "execution_count": null,
      "metadata": {
        "id": "0oH-GzRlj-oN"
      },
      "outputs": [],
      "source": [
        "Aws_Evaluation = evaluate_ocr(aws_extraction,'document')"
      ]
    },
    {
      "cell_type": "code",
      "execution_count": null,
      "metadata": {
        "colab": {
          "base_uri": "https://localhost:8080/"
        },
        "id": "fPcOwyFvkaW2",
        "outputId": "1cca7ba6-6f37-4045-bb00-18071d5cc38d"
      },
      "outputs": [
        {
          "name": "stdout",
          "output_type": "stream",
          "text": [
            "First record:\n",
            "Key: X00016469670\n",
            "Value: {'Levenshtein Accuracy': 90.20771513353117, 'Word Accuracy': 37.5, 'Character Error Rate': 42.03612479474548, 'Levenshtein Accuracy LLM': 90.07407407407408, 'Word Accuracy LLM': 35.0, 'Character Error Rate LLM': 42.20032840722496}\n"
          ]
        }
      ],
      "source": [
        "keys = list(Aws_Evaluation.keys())\n",
        "values = list(Aws_Evaluation.values())\n",
        "\n",
        "print(f\"First record:\\nKey: {keys[0]}\\nValue: {values[0]}\")"
      ]
    },
    {
      "cell_type": "markdown",
      "metadata": {
        "id": "AMUBiaD2N0Mx"
      },
      "source": [
        "# OCR_SPACE"
      ]
    },
    {
      "cell_type": "code",
      "execution_count": null,
      "metadata": {
        "id": "DYA5TCa1Z8AK"
      },
      "outputs": [],
      "source": [
        "#folder=\"/content/test_data/test\""
      ]
    },
    {
      "cell_type": "code",
      "execution_count": null,
      "metadata": {
        "id": "nEa3C9cXNr1f"
      },
      "outputs": [],
      "source": [
        "API_KEY = OCR_SPACE_API_KEY\n",
        "ocrspace_extraction = {}"
      ]
    },
    {
      "cell_type": "code",
      "execution_count": null,
      "metadata": {
        "id": "DDrWs-bsktlb"
      },
      "outputs": [],
      "source": [
        "\n",
        "def ocr_space_file(image_path, output_path=None, overlay=False, api_key=None, language='eng'):\n",
        "    \"\"\"\n",
        "    OCR.space API request with a local file, optionally saving results as JSON.\n",
        "\n",
        "    Parameters:\n",
        "        image_path (str): Path to the file.\n",
        "        output_path (str, optional): Path to save the resulting JSON file.\n",
        "        overlay (bool, optional): Include OCR overlay in the response.\n",
        "        api_key (str): Your OCR.space API key.\n",
        "        language (str): Language code for OCR.\n",
        "\n",
        "    Returns:\n",
        "        dict: A dictionary containing image names as keys and extracted text as values.\n",
        "    \"\"\"\n",
        "\n",
        "    payload = {\n",
        "        'isOverlayRequired': overlay,\n",
        "        'apikey': api_key,\n",
        "        'language': language,\n",
        "        'OCREngine': 2\n",
        "    }\n",
        "\n",
        "\n",
        "    # Open the image file in binary mode\n",
        "    with open(image_path, 'rb') as f:\n",
        "      r = requests.post(\n",
        "      'https://api.ocr.space/parse/image',\n",
        "      files={os.path.basename(image_path): f},\n",
        "      data=payload,\n",
        "      )\n",
        "      result = r.json()\n",
        "\n",
        "      # Skip if there are errors in the response\n",
        "      #if result.get(\"IsErroredOnProcessing\"):\n",
        "      #  return extracted_text\n",
        "\n",
        "      ## Extract the text and remove newlines\n",
        "      extracted_text = result[\"ParsedResults\"][0][\"ParsedText\"].replace('\\n', ' ')\n",
        "    return extracted_text\n",
        "\n",
        "\n"
      ]
    },
    {
      "cell_type": "code",
      "execution_count": null,
      "metadata": {
        "id": "2aUujbvgHq-q"
      },
      "outputs": [],
      "source": [
        "import os\n",
        "import requests\n",
        "\n",
        "def ocr_space_file(image_path, output_path=None, overlay=False, api_key=None, language='eng'):\n",
        "    \"\"\"\n",
        "    OCR.space API request with a local file, optionally saving results as JSON.\n",
        "\n",
        "    Parameters:\n",
        "        image_path (str): Path to the file.\n",
        "        output_path (str, optional): Path to save the resulting JSON file.\n",
        "        overlay (bool, optional): Include OCR overlay in the response.\n",
        "        api_key (str): Your OCR.space API key.\n",
        "        language (str): Language code for OCR.\n",
        "\n",
        "    Returns:\n",
        "        str: Extracted text from the image or None if an error occurred.\n",
        "    \"\"\"\n",
        "    payload = {\n",
        "        'isOverlayRequired': overlay,\n",
        "        'apikey': api_key,\n",
        "        'language': language,\n",
        "        'OCREngine': 2\n",
        "    }\n",
        "\n",
        "    try:\n",
        "        # Open the image file in binary mode\n",
        "        with open(image_path, 'rb') as f:\n",
        "            r = requests.post(\n",
        "                'https://api.ocr.space/parse/image',\n",
        "                files={os.path.basename(image_path): f},\n",
        "                data=payload,\n",
        "            )\n",
        "        result = r.json()\n",
        "\n",
        "        # Check if the response contains errors\n",
        "        #if result.get(\"IsErroredOnProcessing\", False):\n",
        "        #    print(f\"Error processing {image_path}: {result.get('ErrorMessage', 'Unknown error')}\")\n",
        "        #    return None\n",
        "\n",
        "        # Extract the text\n",
        "        return result[\"ParsedResults\"][0][\"ParsedText\"].replace('\\n', ' ')\n",
        "\n",
        "    except Exception as e:\n",
        "        print(f\"Exception occurred for {image_path}: {e}\")\n",
        "        return None\n",
        "\n"
      ]
    },
    {
      "cell_type": "code",
      "execution_count": null,
      "metadata": {
        "id": "Vh_ULJSfH0Np"
      },
      "outputs": [],
      "source": [
        "# Process multiple images\n",
        "ocrspace_extraction = {}\n",
        "ocr_space_time_record=[]\n",
        "for image_path in images_paths[0:150]:\n",
        "    start_time = time.time()\n",
        "    text = ocr_space_file(image_path, api_key=OCR_SPACE_API_KEY)\n",
        "    end_time = time.time()\n",
        "    elapsed_time = end_time - start_time\n",
        "    ocr_space_time_record.append(elapsed_time)\n",
        "    time.sleep(2)\n",
        "    if text:  # Only add if text extraction succeeded\n",
        "        ocrspace_extraction[os.path.basename(image_path)] = text"
      ]
    },
    {
      "cell_type": "code",
      "execution_count": null,
      "metadata": {
        "colab": {
          "base_uri": "https://localhost:8080/"
        },
        "id": "GlSSUuHtZLtM",
        "outputId": "b7a9bcfe-afd2-4798-f6f8-1bba0d207d8b"
      },
      "outputs": [
        {
          "data": {
            "text/plain": [
              "{'X00016469670.jpg': 'tan chay yee *** COPY *** OJC MARKETING SDN BHD ROC NO: 538358-H NO 2 & 4, JALAN BAYU 4, BANDAR SERI ALAM, 81750 MASAI, JOHOR Tel:07-388 2218 Fax:07-388 8218 Email: ng@ojcgroup.com TAX INVOICE Invoice No : PEGIV-1030765 Date : 15/01/2019 11:05:16 AM Cashier : NG CHUAN MIN Sales Persor : FATIN Bill To : THE PEAK QUARRY WORKS Address Description. 000000111 Qty. 1 Price 193.00 KINGS SAFETY SHOES KWD 805 Qty: 1 Total Exclude GST: Total GST @6%: Total Inclusive GST: Round Amt: TOTAL: VISA CARD xx000000000x4318 Approval Code:000 Amount 193.00 SR 193.00 0.00 193.00 0.00 193.00 193.00 93.00 Goods Sold Are Not Returable & Refundable ****Thank You. Please Come Again.****',\n",
              " 'X00016469671.jpg': 'tan chay yee OJC MARKETING SDN BHD ROC NO: 538358-H NO 2 & 4, JALAN BAYU 4, BANDAR SERI ALAM, 81750 MASAI, JOHOR Tel:07-388 2218 Fax:07-388 8218 Email: ng@ojcgroup.com Cash Bill Invoice No : PEGIV-1030531 Date 02/01/2019 2:47:14 PM Cashier : RHYS TAN Sales Persor : FATIN Description Qty 000000111 Price 170.00 KINGS SAFETY P004 SHOES KWD 805 Qty: I Total Item Discount: Total Amount: Round Amt: TOTAL: VISA CARD xxxxxxxxxxxx4318 Approval Code: 123 Amount 170.00 0.00 170.00 0.00 170.00 170.00 170.00 Goods Sold Are Not Returnable & Refundable ****Thank You. Please Come Again.****',\n",
              " 'X51005200931.jpg': 'PERNIAGAAN ZHENG HU! JM0325955-V NO.59 JALAN PERMAS 915 BANDAR BARU PERMAS JAYA 81750 JOHOR BAHRU TEL: 07-386 7524 FAX: 07-386 3793 GST NO: D0800589824 SIMPLIFIED TAX INVOICE GOGIANT ENGINEERING (M) SDN BHD Recelpt #: CS00082258 Salesperson: Cashier: USER Itam 6783 T809 Sty. 5 Date. 09/02/2018 Time: 08:32:00 (RM) RSP 3.50 Ainoun 17.50 SR CERAMIC CAP 2954 1809 30 3.80 114.0C SR: SISTEEL 1/2\" STREET ELBOW 1760 GA 55.00 55.0C SR: 2.4MM STARWELD RED HEAD TUNGSTEN ROD 3496 3 33.00 99.0c SR: ESICUT 4\" CUTTING DISC (1BOX)-50PCS 2460 GA 2 43.00 SR: WELDRO PICKLING GEL 1KG 86.00 9428 4 10.00 40.00 SR: 13.5\" WELDING GLOVE - GREEN (GS) TOT QTY: 45- (Excluded GST) Sub Total (FM) 411.50 Discount (RM) 0 00 Total GST (RM) 24.69 Rounding (RM) : 0.0% Total (RM) : 436.20 CASH: 436.20 Change (RM): 0.00 GST SUMMARY Tax Code SR Total: Amount 411.50\\' 411.50 GOODS SOLD ARE NOT RETURNABLE, THANK YOU. GST 24.69 24.65',\n",
              " 'X51005230605.jpg': 'PETRON BKT LANJAN SB ALSERKAM ENTERPRISE Tel: 03-6156 8757 Co No: 001083069-M KM 458.4 BKT LANJAN UTARA, L/RAYA UTARA SELATAN,SG BULOH 47000 SUNGAI BUL GST ID No: 001210736640 TAX INVOICE TAX INVOICE NO: 19729058 POS: 1 Store No.: 129077 01/02/2018 4:43:17 PM Babu 2 1 double ,mint te sandwich vanill GST RM: Total RM inc.GST: Cash Change GST Summary А=6.00% 3.00 1.90 0.28 4.90 5.00 0.10 Tax (RM) 0.28 Anount (RM) 4.62 ITAL INCLUDES 6.00% GST Use 3000 Petron Miles points to pay for RM45 Fuel',\n",
              " 'X51005230616.jpg': \"Q 0583. 190 Gerbang Alaf Restaurants Sdn Bhd (65351-M) formerly known as Golden Arches Restaurants Sdn Bhd Licensee of McDonald's Level 6, Bangunan TH, Damansara Uptown3 No.3, Jalan SS21/39,47400 Petaling Jaya Selangor (GST ID No: 000504664064) McDonald's Petronas Taman Melati DT Tel No. : 03-4147-3107 TAX INVOICE MFY Side 1 INV#141900016842 ORD #90 -REG #19- 18/01/2018 17:09:21 QTY ITEM TOTAL 2 M SpicyDeluxe 25.40 2 M Coke 2 M Fries 1 M GrilChicBgr 12.50 1 M Coke 1 M Fries 1 Small Cone 1.00 TakeOut Total (incl GST) Total Rounded Cash Tendered Change TOTAL INCLUDES 6% GST 38.90 38.90 50.00 11.10 2.20 love to hear your feedback! Visit www.mcdfeedback.com.my OR Download My McD Feedback from Google Play/App Store to share your experience Thank You and Please Come Again. ustomer Service Hotline : 03-2726-5600\",\n",
              " 'X51005230621.jpg': \"SIN LIANHAP SON BHD LOT 13, JALAN. SIN LIANHAP SON BHD LOT 13, JALAN IPOH, KG BATU 30, ULU YAM LAMA 44.300 BTG KALI, SELANGOR. TE: 03-60752222(HUNTING LINE) FAX: 03-80752572 (Company Reg No: 284922-0 ) (GST Reg No: 001610333920) TAX INVOICE CASH CUSTOMER Involce No. : Date : Cashier#: : H0003939 05/02/2018 PPD 4MIM DENLIME 1.000 PC * 6023# GARDEN 1.000 PC * RM 1.887 Code SR 2.00 5.000 Subtotal : Tuta' Sales Eratung GST: Total Sales Inclusive of GST: tounding Adjustment: Payment: Change Due : Total Item(5) : GOT Summary SR @ 6 2 LIAN Amount 6.89 2D HON SR 5.30 7.30 6.69 7.30 0.00 7.30 0.00 Tar 041 ******** THANK YOU ********* **** PLEASE COME AGAIN ****\",\n",
              " 'X51005230648.jpg': 'CROSS CHANNEL NETWORK SDN. BHD. 47, JALAN MERANTI 1, SEK. 3, BANDAR UTAMA BATANG KALI, 44300 BATANG KALI, SELANGOR. Tel: 03-6057 9688 Fax: 03-6057 9678 GST ID : 001151500288 Tax Invoice No. : BTG-052332 Qty RM Tax 1 6.36 SR SCHNEIDER E15R 13A SWITCH SOCKET OUTLET @ 6.0000 Total Amt Incl. GST @ 6%: 6.36 Rounding Adjustment: -0.01 Total Amt Payable: 6.35 Paid Amount 10.00 Change 3.65 Total Qty Tender 1.00 GST Summary Amount (RM). SR @ A Total 6,00 6.00 Tax (RM). 0.36 0.36 THANK YOU Goods sold are not refundable nor exchangeble. For any enquiry, please e-mail us: gowa9688@gmail.com 29/01/2018 4:40:40 PM',\n",
              " 'X51005230657.jpg': 'CROSS CHANNEL NETWORK SDN. BHD. 47, JALAN MERANTI 1, SEK. 3, BANDAR UTAMA BATANG KALI, 44300 BATANG KALI, SELANGOR. Tel : 03-6057 9688 Fax : 03-6057 9678 GST ID: 001151500288 Tax Invoice No. : BTG-050036 Qty RM Tax 20MM HERO PVC CONDUIT PIPE 1 1.80 SR @ 1.7000 15A PVC CONNECTOR @ 1.8000 R & B-C/CLIP 8MM X 100PCS 1 1.91 SR 3.71 SR CABLE CLIPS @ 35000 3\" X 3\" 2862 A1 PVC NUT BOX @ 1 0.53 SR 0.5000 Total Amt Incl. GST @ 6% Rounding Adjustment Total Amt Payable Paid Amount Change Total Qty Tender 7.95 7.95 10 00 2.05 4.00 GST Summary Amount (RM). SR @ A Total 7.50 7.50 Tax (RM). 0.45 0.45 THANK YOU For any enquiry, please e mail us: gowa9688@gmail.com 31/12/2017 10:33:59 AM',\n",
              " 'X51005230659.jpg': 'SWC ENTERPRISE SDN BHD (1125830-V) No. 5-7, Jalan Mahagoni 7/1, Sekysen 4, Bandar Utama, 44300 Batang Kali, Selangor. Tel: 03-6057 1377 TAX INVOICE (GST ID No. : 002017808384) 08/01/2018 Cashier: 123 11:07:06 No: 0100080332 I tem/Desc. aty Price 20X30 BEG 1K691X30) 20X30 1KG 1 8.00 Total Qty : 1 Amt. 8.00 TOTAL AMOUNT CASH CHANGE G 36% Included In Total 8.00 10.00 2.00 0.45 Thank You ! Please Come Again ! Goods Sold Only Exchangable Within 3 Days !',\n",
              " 'X51005268275.jpg': 'LIGHTROOM GALLERY SDN BHD No: 28, JALAN ASTANA 1C, BANDAR BUKIT RAJA, 41050 KLANG SELANGOR D. E, MALAYSTA ROC No. : (1072825-A) GST No.: 000584089600 Tel: 03-3362 4395 Fax: 03-3362 4395 CREDIT NOTE Station: CASHIER C/N No: LCN00212 Cashier: ANGELA Cover : 1 Bill Date : 20/11/2017 Bill Start: 20/11/2017 03:57:01 PM Code : 300-E0009 Name : ESWARAN 012-6369400 Address GST No. YT51129 YE36 BK 12W WW LED TRACK LIGHT * RM 45. 29 UNI ( 5. 43) =RM YT52683 YE44 35W WW BK TRACK HOLDER 1 * RM 155.66 UNI ( 9. 34) =RM CH50688 IMETER TRACK-BK 1 * RM 16.99 UNI ( 1.01) = RM - RM39. 80 CONTRA W LCN00211 0 * UNIT SR 90. 57 SR 155. 66 SR 16. 79 SR Sub Total Item Discount Service Charge GST/TAX 6% TOT : CAST CHANGE: RM RM RM RM 263. 02 RM 0220 RM 0.00 RM 15. 78 278.80 278.80 0.00 Item Count: 4 Qty Count : 4.0 Closed Bill: 20/11/2017 04:01:23 PM Thank You, Please come again. Goods Sold are not refundable, returnable BANK ACC MBB 5128 4851 2118 BANK ACC MBB 5626 4732 1744 BANK ACC AMBANK 888 100 123 3706 GST Summary Amount (RM) Tax (RM) SR @ 6% ZR/OS/EZ 263. 02 0. 00 15. 78 0. 00',\n",
              " 'X51005268408.jpg': '99 SPEED MART S/B (519537-X) LOT P.T. 2811, JALAN ANGSA, TAMAN BERKELEY 41150 KLANG, SELANGOR 1413-SETIA ALAM 2 GST ID. NO : 000181747712 INVOICE NO : 10222/102/T0341 03: 29PM 562936 20-11-17 2973 PEDIASURE COMPLETE SUS 069 MILO 2KG 2709 ZING HEING OAT & WHEAT 2893 DISNEY 03112 WIDE NECK 4385 JOHNSONS PHE.5 2IN1 BO RN117.90 S RM34.90 g RN4,10 g RMS. 89 g R46. 99 s Total Sales (Inclusive BST) RM 169.78 Rounding Adjustment RH .02. Rounding RM 169.00 CASH RN 200.00 CHANGE RA 30. 20 GST Summary = = A% Arount (RM) 160.17 Tax (RH) 9,61 Thank You. Please come again Keep the invoice for applicable returns',\n",
              " 'X51005288570.jpg': '3180301 SECURE PARKING CORPORATION S/B Riverwalk Village Batu 3, Jalan Ipoh 51200 KL. GSTNo. 000296652800 TEL No: 1300881698 RECEIPT C13 Receipt Number: К0131800235697 ENTRY TIME: 23.03.18 14:59 EXIT TIME: 23.03.18 15:27 PARK-DUR.: D: HH: MM 0:00:28 KIND OF PAYMENT: CASH Parking Fee Add GST *AMT RM 0.94 RM 0.06 RM •. UL. *Rate incl. 6% GST THANK YOU FOR YOUR VISIT',\n",
              " 'X51005301666.jpg': 'LIGHTROOM GALLERY SDN BHD No: 28, JALAN ASTANA 1C, BANDAR BUKIT RAJA, 41050 KLANG SELANGOR D. E, MALAYSTA ROC No. : (1072825-A) GST No.: 000584089600 Tel: 03-3362 4395 Fax: 03-3362 4395 CREDIT NOTE Station: CASHIER C/N No: LCN00212 Cashier: ANGELA Cover : 1 Bill Date : 20/11/2017 Bill Start: 20/11/2017 03:57:01 PM Code : 300-E0009 Name : ESWARAN 012-6369400 Address GST No. YT51129 YE36 BK 12W WW LED TRACK LIGHT * RM 45. 29 UNI ( 5. 43) =RM YT52683 YE44 35W WW BK TRACK HOLDER 1 * RM 155.66 UNI ( 9. 34) =RM CH50688 IMETER TRACK-BK 1 * RM 16.99 UNI ( 1.01) = RM - RM39. 80 CONTRA W LCN00211 0 * UNIT SR 90. 57 SR 155. 66 SR 16. 79 SR Sub Total Item Discount Service Charge GST/TAX 6% TOT : CAST CHANGE: RM RM RM RM 263. 02 RM 0220 RM 0.00 RM 15. 78 278.80 278.80 0.00 Item Count: 4 Qty Count : 4.0 Closed Bill: 20/11/2017 04:01:23 PM Thank You, Please come again. Goods Sold are not refundable, returnable BANK ACC MBB 5128 4851 2118 BANK ACC MBB 5626 4732 1744 BANK ACC AMBANK 888 100 123 3706 GST Summary Amount (RM) Tax (RM) SR @ 6% ZR/OS/EZ 263. 02 0. 00 15. 78 0. 00',\n",
              " 'X51005337867.jpg': 'SY LEZ. OLDTOWN WHITE COFFEE Old Town Kopitiam Sdn Bhd (716269-X) Sri Rampai Tel: 03-4148 1876 Guest Check **THIS IS NOT A RECEIPT** GST ID:000801587200 4 COUNTER3 2009 LIZA Check:37617 Cover: 1 22 Маг 18 12:44:00 PM Table:5 / 1 - Dine In 1 ST30 BR10 Stm Ginger R TF2 (H) Teh Tarik HS4 SN5 Curry Mee TF7 (C) Lemon T 13.87 S S S 12.07 s Subtotal : 10% Srv Chg: GST @6% Total: Rounding: Amount Due 30.25 INCLUSIVE 25.94 2.59 1.71 30.24 0.01 0.00 * ----3004 STORED 22 Mar 18 02:10-50 PM--- THANK YOU PLEASE COME AGAIN GST @6% included in total GSTSummary Amount (RM) GST (RM) S=GST @6%: 28.53 1.71 Z=GST @0%: 0.00 0.00 xW',\n",
              " 'X51005337877.jpg': 'Teff pro spors. UROKO JAPANESE CUISINE SDN BHD 22A-1, JALAN 17/54, SECTION 17, 46400 PETALING JAYA, SELANGOR. 03-7932 1023/0191 GST Reg No: 001126838272 Bill No Date Cashier Table No : 01H-25029 : 20/03/2018 6:41:02 PM : RESAN : S09 Qty Description 1 KO NABE INANIWA UDON @ 24.00 1 GREEN TEA @ 1.00 1 GYOZA 5pcs @ 15.00 1 GARLIC CHAHAN @ Amount 24.00 SR 1.00 SR 15.00 SR 6.00 SR 4 [T Al Total : Discount : service Chg 10.00% : GST : Grand Total : Net Total : 46.00 (.00) 4.00 3.00 53.00 53.00 GST Summary SR % 6.00 Amount(RM Tax(RM) 50.00 3.00 M',\n",
              " 'X51005361906.jpg': 'TEO HENG STATIONERY & BOOKS (001451 537-M) NO. 59, JALAN BESAR, 45600 BATANG BERJUNTAI SELANGOR DARULEHSANA TE: 03.3%1 9872 FAX :03 327183 GST No. : 000689913856 SIMPLIFIED TAX INVOIGE CASH Receipt No. : CS1801/27175 Date : 27/01/2018 ITEM QTY UP DISC!® AMOUNT (RM) 3.80 * 1355 3.96 4.09 - DOUBLE SIDE FOAM TAPE 18MM 9557950605126 5 2.74 4.96 - CAMIS SQ BOOK 200 9557369315029 1 5.47 4.96 - EAGLE F4 200 FOOLSCAP BOOK 9557369305006 1 3.96 4.09 - EAGLE F4 120 NUMBERING FOOLSCAP BOOK 13.00 * 5.20 * 3.80* Total Qty.: 25.80 SUB-TOTAL (EX) TOTAL TAX ROUNDING TOTAL CASH CHANGE .. .. 25.80 1.55 0.00 27.35 27.35 0.00 TAX CODE SR GST SUMMARY % AMOUNT (RND 6.00 25.80 TAX (RM) 1.55 TOTAL: 25.80 1.55 Note: (*) Indicated The Item Sold Has Been Related To GST (Goods & Services Tax). GOODS SOLD ARE NOT RETURNABLE THANK YOU.',\n",
              " 'X51005361912.jpg': 'TEO HENG STATIONERY & BOOKS (001451 637-M) NO. 53, JALAN BESAR, 45600 BATANG BERJUNTAI SELANGOR DARUL EHSAN TEL: 03-3271 9872 FAX: 03-3271 9481 GST No.: 000689913856 SIMPLIFIED TAX INVOICE CASH Receipt No.: CS1801/27224 Date: 29/01/2018 ITEM QTY UP DISC% 2 0.50 0.00 AMOUNT (RM) 1.00 * - CARBON PAPER Total Qty. : 2 SUB-TOTAL (EX) TOTAL TAX ROUNDING TOTAL CASH CHANGE 1.00 1.00 0.06 -0.01 1.05 1.05 0.00 TAX CODE SR GST SUMMARY % AMOUNT (RM) 6.00 1.00 TAX (RM) 0.06 TOTAL : 1.00 0.06 Note: (*) Indicated The Item Sold Has Been Related To GST (Goods & Services Tax). GOODS SOLD ARE NOT RETURNABLE, THANK YOU.',\n",
              " 'X51005361923.jpg': 'SWC ENTERPRISE SDN BAD (1125630-V) 8 & 10, Jalan Ijok Fermai 1, Pusat Niaga Ijok Permal, 48000 Ijok, Selanger. TAX INVOICE (GST ID No. # 002017808384) 02/01/2018 Cashier: 123 10:46:55 No: 0100036262 I tem/Desc. Ety Price Amt. SX8 5006 (1X60) 5X8 500G 1 4.20 Total Oty : 1 4.20 TOTAL AMOUNT CASH CHANGE GST Ca96 Tacluded In Total 4.20 50.20 46.00 0.24 Thank You ! Please Dome Again Goods Sold Only Exchangable Within 3 Days !',\n",
              " 'X51005365187.jpg': '3-1707067 F&P PHARMACY (002309592-P) NO.20. GROUND FLOOR JALAN BS 10/6 TAMAN BUKIT SERDANG, SEKSYEN 10. 43300 SERI KEMBANGAN. SELANGOR DARUL EHSAN TEL 03-89599823 GST Reg NO 001800666112 TAX INVOICE Doc. No Cashier Salesperson CS00110840 F&P Date 02/03/2018 Time. 16.46.00 Ref Item 9557892105256 Oly. 1 HOMECARE GASCOAL 50MG 1486 P.P NAPROXEN NA 275 MG 9557837400036 1 S/Price ---- 5.66 6 00 4 30 YELLOW LOTION 30 MI 1014 1 3 58 PANADOL SOLUBLE TABLET 1155 6 13 PMS GAUZE BANDAGE 5CM X 4M 95506104 5 00 DETTOL DU ML ... .- Total Qty (GST) S/Price 5.00 (GST) Amourt 6.00 Tax ---- SR 6 00 6 00 ERL 4 30 4 30 ZRL 3 80 3 80 SR 6.50 6 50 SR 5 30 5 30 SR Total Sales (Excluding GST) Discount Total GST Rounding Total Sales (Inclusive of GST) : CASH : Change : 31 90 30.68 0.00 122 0.00 31.90 50.00 18.10 GST SUMMARY Tax Code SR ZRL 6 0 Total: Amt (RM) 20 38 10.30 30.68 Tax (RM) 1.22 0.00 1.22 GOODS SOLD ARE NOT RETURNABLE & EXCHANGABLE, THANK YOU.',\n",
              " 'X51005433518.jpg': 'A030% UNIHAKKA INTERNATIONAL SDN BHD 07 Mar 2018 18:22 (867388-U) 12, Jalan Tampoi 7/4, Kawasan Perindustrian Tampoi, 81200 Johor Bahru, Johor TAX INVOICE Invoice #: OR18030702170417 Item Qty SR 100100000035-1 Meat + 3 Vege $7.10 1 SR 100100000015- Vegetable $1.10 Total $7.10 $1.10 Total Amount: $8.20 GST @6%: S0.46 Nett Total: $8.20 Amount $8.20 $0.00 Payment Mode CASH Change GST Summary SR = GST @6% GST REG #000656195584 BAR WANG RICE@PERMAS JAYA (Price Inclusive Of GST) Thank You & Come Again! Like and Follow Us on Facebook! Facebook.com/BarWangRice 0.46',\n",
              " 'X51005433543.jpg': 'AO30SZ UNHAKKA INTERNATIONAL SDN BHI (867388-U) 12, Jalan Tampoi 7/4, Kawasan Perindustrian Tampoi.81200 Johor Bahru, Johor Invoice #: OR18031302170441 Item aty SR 100100000035- 1 Meat + 3 Vege $7.10 SR 100100000015- Vegetable $1.10 Total $7.10 $1.10 Total Amount: 38.20 GST @6%6: SD.46 Nett Total: $8.20 Amount $8.20 S0.00 Tax(s) 048 Payment Mode CASH Change UST Summary SR - GST (96% Amount(S) 774 GST REG #000656195684 BAR WANG RICE@PERMAS JAYA (Price Inclusive Of GST) Thank You & Come Again! Like and Follow Us on Facebook! Facebook.com/BarWangRice',\n",
              " 'X51005433548.jpg': '903057 • PASAR MINI JIM SENG 379, JALAN PERMAS SATU, BANDAR BARU PERMAS JAYA 81750 PLENTONG, JOHOR. TEL: 07-3874904 (CO. NO. JM0195368-D) (GST NO. 000150511616) TAXINV: 001-1541798 03/03/18 Cashier : CASHIER 1 1 1 VEGETABLES TELUR / TELUR NASIN VEGETABLES GL STEWED PORK 256G BOTAN IKAN SARDIN 425G item Count: SUBTOTAL: TL :RM 6X GST 16.00 ZRL 2.40 ZRL 1.80 ZRL 6.80 SR 6.80 SR 38. 60 33.80 0.77 •- Payment Details -- CASH CASH CHANGE 03/03/18 10:18 #001-1541798# CASHIER GST Summary SR (@6% ) ZRI. (80*) Amount (RM) 18.60 20.20 50,00 16.20 Tax(RM) 0.77 0.00 Thank you Please come again GOODS SOLD ARE NOT REFUNDABLE',\n",
              " 'X51005433556.jpg': 'A63064 YHM Aeon Tebrau City S117, Second Floor, Aeon Tebrau City, 1, Jalan Desa Tebrau, Taman Desa Tebrau, 81100 Johor Bahru, Johor. 002105827328 * TAX INVOICE * Order No. 1000249 11/03/2018 07:09 PM Receigt No.:003-1220845 Pax: Cashier :Cashier Eat In Iten FG-A00019 Green Tea FG-Y00030 Qty 1 1 U.Price 1.50 12.80 Yakiniku Bowl R FG-Y00183 15:80 Negi Tama Beef Bowl R FG-Y00102 1 3.80 Miso/Wakame+Green Tea FG-Y00264 0.00 Miso Soup SubTotal Total TOTAL :MYR Total Excluded Tax Annount Tax 1.50 SR 12.80 SR 31.60 SR 3.80 SR 0.00 SR 49,70 49.70 49.70 46.90 2.80 Payment Details Cash Cash Change Tax Summary lax Code % SR 6 50.00 0.30 Tax(MYR) 2.80 Amount (MYR) 46.90 **** Thank You **** Please Come Again.',\n",
              " 'X51005442322.jpg': \"N03662 RESTAURANT TONY ROMA'S AEON TEBRAU CITY GRAND COMPANIONS SON BHD (285560-H) LOT G112, AEON MALL TEBRAU CITY NO 1 JALAN DESA TEBRAU 81100 JOHOR BAHRU Tel: 07-3510749 Website: www.tonyromas.com.my Facebook: www.facebook. com/TRMALAYSIA GST I0:000436699136 2 TR1 Chk 65991 1014 FAZLIN Guest3 03 Mar 18 05:16:55 PM TBL43 / 1 NY STRIP Medium Well RANCH BEANS SLAW 1 NY STRIP Medium FR ROASTED VEGE BAKEO POTATO Loaded 1 NY STRIP Medium Well FR ROASTED VEGE FF 67.67 $ 67.67 S 67.67 S Subtotal 10% Srv Chg GST 06% Total 9.35 S 9.35 $ 9.35 S 231.06 23.10 15.25 269.40 RM 10 OFF FOR A MINIMUM OF RM 50 SPENT ON YOUR NEXT VISIT TO TONY ROMA'S !! GO TO : WWW.TONYCARES.COM PLEASE TELL US HOW WE ARE DOING Store # 0217 SURVEY VALIDATION CODE This Receipt With Validation Code Is Valid 3 Months From Date of Receipt One redemption per group, per visit. GST 06% included in total GSTSummary Amount(RM) S-GST 46x: 254.17 Z=GST 00%: 0.00 GST (RM) 15.25 0.00\",\n",
              " 'X51005442334.jpg': 'A03128 UNIHAKKA INTERNATIONAL SDN BHD 26 Mar 2018 18:14 (867388-U) 12, Jalan Tampoi 7/4,Kawasan Perindustrian Tampoi, 81200 Johor Bahru, Johor TAX INVOICE Invoice # : OR18032602170324 Item Qty SR 100100000035-1 Meat + 3 Vege $7.10 1 SR 100100000015- Vegetable $1.10 1 Total $7.10 $1.10 Total Amount: $8.20 GST @6%: $0.46 Nett Total: $8.20 Amount $8.20 $0.00 Tax(s) 0.46 Payment Mode CASH Change GST Summary SR - GST @6%6 Amount(s) 774 GST REG #000656195584 BAR WANG RICE@PERMAS JAYA (Price Inclusive OI GST) Thank You & Come Again! Like and Follow Us on Facebookl Facebook.com/BarWangRice',\n",
              " 'X51005442343.jpg': '403677 YONG TAT HARDWARE TRADING (JM0292487-D) NO 4, JALAN PERJIRANAN 10, TAMAN AIR BIRU 81700 PASIR GUDANG JOHOR. TEL: 07-2614733 FAX: 07-2614733 YONGTAT99@YAHOO.COM.MY GST ID: 001570349056 -TAX INVOICE... CS00035862 Date: 13/03/2018 : USER Time: 12:41:00 Ref.: (GST) (GST) S/Price.. Amount - Tax 72.00 72.00 SR Doc No. Cashier Salesperson Item 8603 aty.. 1.00 SHYS s/Price 67.82 Total Oly T Total Sales (Excluding GST) : Discount : Total GST Rounding: Total Sales (Inclusive of GST) : CASH : Change : 67.92 0.00 4.08 0.00 72.00 102.00 30.00 GST SUMMARY Tak Code SR Amt. (RM) 67.92 Total: 67.92 Tax (RM) 4.08 4.03 GOODS SOLD ARE NOT RETURNABLE, THANK YOU',\n",
              " 'X51005442366.jpg': '703/03 Triple Six Point Enterprise 666 No 14816 Jalan Permas 4/3 Bandar Baru Permas Jay: Tel: 016-7574666 Receipt no: REC-0014888 Date: 22-03-2018 04:01:20 PM Payment Type: Cash Receipt (Receipt No.: REC-0014888) ..41... 1............ 1x VS FUJ1500ml 1x Apollo cake original 30s (Disc: 0.3000) 1x TG Cashew nuts mixwd Almond smoke 1x TG Coated coconut peanuts Discount Total Amount Tendered 10.00 6.80 10.00 6.50 4.20 4.20 1.90 1.90 0.30 22.60 22.60',\n",
              " 'X51005442375.jpg': 'A02 112 UNIHAKKA INTERNATIONAL SDN BHD 25 Mar 2018 18:26 (867388-U) 12, Jalan Tampoi 7/4, Kawasan Perindustrian Tampoi, 81200 Johor Bahru, Johor TAX INVOICE Invoice # : OR18032502170439 Item Qty SR 100100000060- 4 Vege $5.50 1 SR 100100000057-Frled Noodle (L) $3.00 1 Payment Mode CASH Change GST Summary SR - GST @6% 8.C2 GST REG #000656195584 BAR WANG RICE@PERMAS JAYA (Price Inclusive Of GST) Thank You & Come Again! Like and Follow Us on Facebook! Facebook.com/Ba:WangRice Total $5.50 $3.00 Total Amount: $8.50 GST @6%: $0.48 Nett Total: $8.50 Amount $8.50 $0.00 Tax(S) 0.48',\n",
              " 'X51005442382.jpg': 'A03/19 UNIHAKKA INTERNATIONAL SDN BHB 20 Mar 2018 17:55 (867388-U) 12, Jalan Tampoi 7/4, Kawasan Perindustrian Tampoi, 81200 Johor Bahru,Johor TAX INVOICE Invoice #: OR18032002170471 Item SR 100100000061-5 Vege $6.60 1 Payment Mode CASH Change OST Summary SR = GST @6% Amount(5) 6.73 GST REG #000656195584 BAR WANG RICE @PERMAS JAYA (Price Inclusive Of GST) Thank You & Come Again! Like and Foliow Us on Facebook! Facabook.com/BarWangRice Total $6.60 Total Amount: $6.60 GST @6%: $0.37 Nett Total: $6.60 Amount $6.60 $0.00 Tax(S) 037 ...',\n",
              " 'X51005442388.jpg': '- 03/41 CONTENTO 0M0761170-K 15, JALAN PERMAS 10/7, PERMAS 81750 MASAI JOHOR 20/03/18 17:19 000000#001429 2x 5.90 (Danio) RM Bubble M T 1x 4.90 RM Yam N T 1x 1.00 SIck) ADD ON 1x 3 90 W. Cho 11.80 4.90 RM 1.00 3.90 ITEMS 30 **#TOTA CASH CHANGE RH 21 30.0 30.00 RM 8.40 THANK YOU FORWARD TO YOUR NEXT VISIT • .',\n",
              " 'X51005444040.jpg': \"B.I.C. Der's Independent Grocer BENS INDEPENDENT GROCER SDN. BHD (913144-A) Lot 6, Jalan Batai, Plaza Batai, Damansara Heights 50490, Kuala Lumpur • T: 03-2093 7358 | F: 03-2093 7359 (GST REG NO 000243941376) Tax Invoice : BAT01201803090220 Cashier : Jorvilyn 09/03/18 18:08:53 Evian Mineral Water 6x1.25L 3068320113784 53.50*2 107.00 S Fresh Cut Honey Jackfruit Peeled 400g 1430018201 8.90*3 26.70 Z Item 2 Qty 5 Total Saving GST Analysis S = 6% 7 = 0% Total with GST @ 6% Pounding 0.00 Total Tender Cash Change Goods 100.94 26.70 Tax Amount 6.06 0.00 133.70 0.00 133.70 140.00 6.30 BIG.COM. MY FACEBOOK.COM/THEBIGGROUP EXCHANGE & REFUND MAY BE ALLOWED WITHIN 3 DAYS WITH ORIGINAL TAX INVOICE THANK YOU, PLEASE COME AGAIN BАТ01201803090220\",\n",
              " 'X51005444041.jpg': \"B.I.C. Der's Independent Grover BENS INDEPENDENT GROCER SDN. BHD (913144-A) Lot 6, Jalan Batai, Plaza Batai, Damansara Heights 50490, Kuala Lumpur T: 03-2093 7358 | F: 03-2093 7359 (GST REG NO 000243941376) Tax Invoice: BAT01201803080169 Cashier : Sharol N 08/03/18 18:20:41 Dole Pineapple Pcs 8809069300708 7.90*3 Farmhouse Fresh Milk Twin Pack 2x1L 9556040440548 19.90*1 Fresh Cut Hones 1430018201 kfruit Peeled 400g 8.90*3 Nestle Bliss Yog Drink Strawberry 700g 9556001030290 5.80*1 Vitagen Assorted 5x125ml 9557305000118 4.90*1 Item 5 Quy 9 Total Saving GST Analysis S = 6% Z = 0% Total with GST @ 6% Rounding 0.00 Total Tender Pmpc (debit) 0012 App: 578149 Change Goods 28.86 50.40 Tax Amount 1.74 0.00 23.70 Z 19.90 S 26.70 Z 5.80 S 4.90 S 81.00 0.00 81.00 81.00 0.00 BIG. COM.MY FACEBOOK.COM/THEBIGGROUP EXCHANGE & REFUND MAY BE ALLOWED WITHIN 3 DAYS WITH ORIGINAL TAX INVOICE THANK YOU, PLEASE COME AGAIN BAТ01201803080169\",\n",
              " 'X51005444044.jpg': '99 SPEED MART S/B (519537-X) LOT P.T. 2811, JALON ANGSA, TAMAN BERKELEY 41150 KLANG, SELANGOR 1572-TMN BKT PANDAN GST ID. NO: 000181747712 INVOICE NO: 18332/103/0157 02: 27PM 570285 104 SUNQUICK OREN 330ML Total Sales (Inclusive GST) RM CASH RM CHANGE RM GST. Summary $ = 6% Amount (RM) 5.05 10-03-18 RM5.35 $ 5.35 6.00 .65 Tax (RM) .30 Thank You. Please come again Keep the invoice for applicable returns',\n",
              " 'X51005444046.jpg': 'STAR GROCER SDN BHD (1171881-W) No 4, Desa Pandan, Off kampong Pandan, 55100 Kuala Lumpur (GST REG NO: 000915943424) Tax Invoices Tax Invoice : DSP05201803250022 Cashier: Raja Nur CARROT S/M 500GM CH (PKT) 1800001501 1.59*8 JAMBU BATU (GUAVA SEEDLESS/ MUTIARA) KG 200033100148002149 6.92*0.214 MANGO HONEY (SUSU) (KG) 200010800259005280 4.91*0.528 PINEAPPLE LOCAL 1S 1810064501 8.60*2 TIMUN JEPUN (JAPANESE CUCUMBER) KG 200017100108008367 1.29*0.837 US GREEN APPLE (175) 105 1810078202 7.50*1 VALENCIA SA (105) 85 1810061602 Item 7 Qty 18 Total Saving 0.00 25/03/18 13:43:11 12.72 Z 1.48 2 2.59 Z 17.20 Z 1.08 Z 7.50 Z GST Analysis S = 6% Z = 0% Consider PTS: 66 5.90*4 Total with GST @ 6% Rounding Total Tender Cash Change Goods 0.00 66.17. Tax Amount 0.00 0.00 23.60 Z 66.17 -0.02 66.15 67.00 0.85',\n",
              " 'X51005447841.jpg': \"PASARAYA BORONG PINTAR SDN BHD BR No.: (124525-H) NO 19-G&19-1&19-2 JALAN TASIK UTAMA 4, MEDAN NIAGA TASIK DAMAI 016-5498845, GST No. : 09/03/2018 4:21:23PM TAX INVOICE TRN: CR0008252 COUNTER 3 CASHIER: 2 QTY UOM UNIT Amt Exc. Amt Inc. GST Tax Tax Code Price A&M SARSAP 330ML 1 WALK 1.20 100PLUS REGULAR 500ML 1 WALK 1.90 1.20 1.90 Loacker wafer milk 45g 1 WALK 2.70 2.70 fishermans.f s/free lemon 25g 1 WALK 4.60 4.60 1.20 ZRL 1.90 ZRL 2.70 ZRL 4.60 ZRL *Total Qty: 4.00 Total Includes GST 0% Customer's Payment Cash Change 10.40 10.40 10.50 0.10 GST Summary ZRL = 0 % Amount (RM) 10.40 Tax (RM) 0.00 *Goods sold are not returnable Thank you for shopping at PASARAYA BORONG PINTAR SDN BHD\",\n",
              " 'X51005447842.jpg': \"PASARAYA BORONG PINTAR SDN BHD BR No.: (124525-H) NO 19-G& 19-1819-2 JALAN TASIK UTAMA 4, MEDAN NIAGA TASIK DAMAI 016-5498845, GST No. : 14/03/2018 4:06:34PM TAX INVOICE TRN: CR0008955 COUNTER 3 CASHIER: 1 QTY UOM UNITAmt Exc. Amt Inc. GST Price Tax Tax Code GB CR-CORN 1 WALK 0.90 0.90 0.90 ZRL *Total Qty: 1.00 Total Includes GST 0% 0.90 0.90 Customer's Payment Cash Change GST Summary Amount (RM) ZRL = 0 % 0.90 5.00 4.10 Tax (RM) 0.00 *Goods sold are not returnable Thank you for shopping at PASARAYA BORONG PINTAR SDN BHD\",\n",
              " 'X51005447844.jpg': 'RESTAURANT JIAWE I JIAWEI HOUSE 002693074-K 13, JLN TASIK UTAMA & MEDAN NIAGA DAMAI SG BESI 57000 KL INVOICE Invoice : 8884 POS No: 2 Date : 23/2/2018 20:04:08 Table : 13 Cashier: admin I TEM OTY U/P (RM) Red Cat Fish 1 Steamed Ginger Clams (S) 42.00 Beancurd W Dao Gan (S) 1 1 G. Dragon Chives (S) 1 STIR FRIED Pu Er (1-3) (1-3) 1 HOT Rice (B) 5.00 Rice Smal! 100 DISC (%) Amt (RM) 0. 00 42.1 Sub Total Bc Service Chars. Total Sales Rounding Adjustment : TOTAL ******* ***: 20. 00 0.00 18.00 0. 00 16.00 0. 00 0. 00 5.0 . 50 0. 00 6 0. 00 3. 0 scount RM 110.00 RM | 0.00 RM 110 . 00 RM 0. 00 RM 110.00 *****',\n",
              " 'X51005447851.jpg': \"PASARAYA BORONG PINTAR SDN BHD BR No.: (124525-H) NO 19-G8 19-18 19-2 JALAN TASIK UTAMA 4, MEDAN NIAGA TASIK DAMAI 016-5498845, GST No. : 30/01/2018 14: 48:23 TAX INVOICE TRN: CR0002815 COUNTER 3 CASHIER: 11 QTY UOM UNIT Amt Exc. Amt Inc. GST Price Tax Tax Code REVIVE 500ML 1 WALK 1.70 1.70 1.70 ZRL *Total Qty: 1.00 Total Includes GST 0% 1.70 1.70 Customer's Payment Cash Change GST Summary Amount (RM) ZRL = 0 % 1.70 100.00 98.30 Tax (RM) 0.00 *Goods sold are not returnable Thank you for shopping at PASARAYA BORONG PINTAR SDN BHD\",\n",
              " 'X51005447859.jpg': \"PASARAYA BORONG PINTAR SDN BHD BR No.: (124525-H) NO 19-G8 19-1819-2 JALAN TASIK UTAMA 4, MEDAN NIAGA TASIK DAMAI 016-5498845, GST No. : 14/02/2018 5:37:44PM TAX INVOICE TRN: CR0005140 COUNTER 4 CASHIER: 2 QTY UOM UNITAmt Exc. Amt Inc. GST Price Tax Tax Code 100PLUS LIME 325ML 1 WALK 1.45 1.45 1.45 ZRL *Total Qty: 1.00 Total Includes GST 0% 1.45 1.45 Customer's Payment Cash Change GST Summary Amount (RM) ZRL = 0 % 1.45 10.00 8.55 Tax (RM) 0.00 *Goods sold are not returnable Thank you for shopping at PASARAYA BORONG PINTAR SDN BHD\",\n",
              " 'X51005568855.jpg': \"POPULAR BOOK CO. (M) SDN BHD (Co. No. 113825-W) (GST Reg No. 001492992000) No 8, Jalan 7/118B, Desa Tun Razak 56000 Kuala Lumpur, Malaysia CHERAS LEISURE MALL Tel: 03-91322435/437 23/12/17 15:53 ainaa Slip No.: 9050338975 Trans: 309782 Member Card No: 2002008382210 Card Expiry: 31/08/20 Description Amount Shoe White SW1101«2S MR C. TAPE REF WH624R- KIT KAT 2F (PM) 17G Oxford-Coin Box BTS RMIO Voucher Issu 4.29 T 31.99 T 1.35 T FC GRIP BPO.5 BLK PK Member Discount: FC GRIP BPO.5 BLU PK Member Discount 4.20 T -0. 42 4.20 T -0.42 3M GlueStick 7gm 4's STAT-PROMO SPECIAL 10.59 T -3.69 PU F/C B/L A4 450' s STAT-PROMO SPECIAL PLUS stapler set 010E STAT-PROMO SPECIAL FC EXM. ERS 4S 187016 STAT-PROMO SPECIAL 16.99 T -2.99 8.89 T -3. 89 3.80 T -0.91 S4 SUPER S M AKT SPM [BK] Rev-BTS Promotion 9.90 Z -1.49 SUCCESS SPM ADD MATHS [BK] Rev-BTS Promotion SUCCESS SPM SCI [BK] Rev-BTS Promotion 37.00 2 -7.40 35.70 Z -7.14 Total RM Incl. of GST Mastercard 140.65 -140.65 Item Count GST Summary T • 6% Z • 0% Amount (RM) 69.90 66.57 14 Tax (RM) 4. 18 0.00 Total Savings -28. 35 BE A POPULAR CARD MEMBER AND ENJOY SPECIAL DISCOUNTS THANK YOU. PLEASE COME AGAIN. www. popular.com. my Buy Chinese books online www.popularonline. com. my\",\n",
              " 'X51005568866.jpg': \"POPULAR BOOK CO. (M) SDN BHD (Co. No. 113825-W) (GST Reg No. 001492992000) No 8, Jalan 7/118B, Desa Tun Razak 56000 Kuala Lumpur, Malaysia CHERAS LEISURE MALL Tel: 03-91322435/437 ********** * * ********** Mega Bookfair ® SPCC 2017 Sunway Paramid Convention Centre 25 AUG - 3 Sept 2017 20/08/17 12:48 Yen Lee Slip No.: 9020374893 Trans: 304168 Member Card No: 2002008362249 Card Expiry: 31/08/20 Description Amount H'MAN GLASS PAPER 4pc • 1.40 Member Discount 5.60 T -0. 58 Total RM Inel. of GST Rounding Adi Total RM Cash CHANGE 5. 04 0.01 5. 05 -10.00 4. 95 Item Count GST Summary T ® 6% Amount (RM) 4.75 4 Tax (RM) 0.29 Total Savings -0.56 BE A POPULAR CARD MEMBER AND ENJOY SPECIAL DISCOUNTS THANK YOU. PLEASE COME AGAIN. www. popular.com. my Buy Chinese books online www.popularonline. com. my\",\n",
              " 'X51005568885.jpg': 'EVERGREEN LIGHT SON BHD 1227859-07 NO.7-1, JALAN PLTERI 7/11, BANDAR PLITERI, 47100 PLCHONG, BELANGOR TEU/FAX: 03-80609719 (NO. ID CET: 0003893534721 TAX INVOICE #01-01 EDDIE B.CODE ATY 11598 4 PROBMK 10W LED BTICK SUB-TOTAL Totsl GAT(E) SUE-TOTAL ROUNDING ADJUBT 10/07/2017 U/PRICE 13.21 NO.: 139110 18:02 AMT 52.84 5 52.84 3.17 56.01 -0.01 TOTAL ITEM(B): 1 TOTAL QUANTITY : 4 Total Incl GST Pay Cash Change RM 56.00 56.00 0.00 CET Texoble Amt G&T Amt BIR SIROLUN UN NIGET SO INS D ĐN L8 ĐÌỆ BỆN TƠI TH NẢN HỆN TIN TI BỊỆ TỆ TỊỆN BA TỆT LỊ TH BC BỊỢ 1 5-8R(E) - 6% 52.84 3.17 THÀNK YOU GOODB BOLD ARE NOT REFLINDABLE FOR: CABR.',\n",
              " 'X51005568887.jpg': '• HON HWA HARDWARE TRADING Company Reg. No. : 001055194X NO 37, JALAN MANIS 7, TAMAN SEGAR, 56100 CHERAS, KUALA LUMPUR. +603-9130 2672 GST Reg: 001125220352 TAX INVOICE 28/04/2017 11:01:36 AM CB#: 75588 M# : C2-0 Cashier: cashi - Oty Description 1.2 3/4\" ALUMINIUM ROD Item Discount 1.2 Type: 1 Total Discount: Rounding Adi Total Inclusive GST: CASH GST Summary Code % SR SR Total Nel Amf 6.79 6.79 Price 6.00 Total(RM, 7.20 SR 000 7.20 0.00 0.00 7.20 7.20 GST Total (R.MI) 0.41 7.20 0.41 7.20 Thank you ! & Please come again !! Goods sold are not returnable for refund or exchange Il',\n",
              " 'X51005568889.jpg': 'HON HWA HARDWARE TRADING Company Reg. No. : 001055194X NO 37, JALAN MANIS 7, TAMAN SEGAR, 56100 CHERAS, KUALA LUMPUR. +603-9130 2672 GST Reg: 001125220352 TAX INVOICE 11/02/2017 9:35:48 AM СВ#: 69379 *# : C1-0 Cashier: cash3 - Oly Description 1.38 3/4\" ALUMINIUM ROD Price 5.a0 Item Discount 1.38 Type: 1 Total Discount: Rounding Adj Total Inclusive GST: CASH Total(RM, 19.60 SR 0.00 19.60 0.00 0.00 19.60 19.60 GST Summary Code % SR SR Total Net Amt 18.49 18.49 GST 1.11 1.11 Thank you ! & Please come again !! Goods sold are not returnable for refund or exchange lI Total(RM) 19.60 19.60',\n",
              " 'X51005568890.jpg': 'HON HWA HARDWARE TRADING Company Reg. No. : 001055194X NO 37, JALAN MANIS 7, TAMAN SEGAR, 56100 CHERAS, KUALA LUM PUR. +603-91 30 2672 GST Reg: 001125220352 TAX INVOICE 05/01/2017 4:47:51 PM CB#: 66549 *# : C2-0 Cashier: casht - Oty Description 5 PVC WALLPLUG (50PCS) 5 Type: 1 Total Discount: Rounding Adj Total Inclusive GST: CASH GST Summary Code % SR SR Total Net Amt 4.72 4.72 Price Total(RM; 1.00 5.00 GR 5.00 0.00 0,00 5.00 5.00 GST 0.28 0.28 Tofal(RM) 5.00 5.00 Thank you ! & Please come again !! Goods sold are not teturnable for refund or exchange Il',\n",
              " 'X51005582745.jpg': 'MODERN DEPOT SON BHD 950345-T NO.19, PT18685, JALAN JAMBU MELAKA 24 JINJANG SELATAN, KEPONG. TEL: +603-6242 8076 FAX: +603-6242 8176 GST NO: 002098102272 CASH RECEIPT #: CS00090733 DATE: 04/12/2016 SALESPERSON : TIME: 09:58:00 CASHIER : THYE - - -- ITEM QTY U/P AMOUNT CLSTEL670 1 141.51 141.51 SR: STEL670 HEATGUN 2000U \"STANLEY\" S/N: 031274 TOTAL QUANTITY 1 TOTAL CASH CHANGE SUB-TOTAL 141.51 DISC 0.00 TOTAL GST 8.49 TAX 0.00 ROUNDING 0.00 150 - 00 150. 00 0.00 CODE SR GST SUMMARY AMOUNT 141.51 % 6 TAX TOTAL: TAX/AMT 8.49 8.49 GOONS SOLD ARE NOT RETURNABLE, THANK YOU. # GST @ 6% INCLUDED IN TOTAL'}"
            ]
          },
          "execution_count": 39,
          "metadata": {},
          "output_type": "execute_result"
        }
      ],
      "source": [
        "ocrspace_extraction"
      ]
    },
    {
      "cell_type": "code",
      "execution_count": null,
      "metadata": {
        "id": "GgCt_m2SqFAM"
      },
      "outputs": [],
      "source": [
        "OcrSpace_Evaluation = evaluate_ocr(ocrspace_extraction , 'document')"
      ]
    },
    {
      "cell_type": "code",
      "execution_count": null,
      "metadata": {
        "colab": {
          "base_uri": "https://localhost:8080/"
        },
        "id": "OBc22SXLqKRJ",
        "outputId": "bbedf37f-3eb2-4e7b-a3ad-aad64dc31163"
      },
      "outputs": [
        {
          "name": "stdout",
          "output_type": "stream",
          "text": [
            "First record:\n",
            "Key: X00016469670\n",
            "Value: {'Levenshtein Accuracy': 70.254110612855, 'Word Accuracy': 27.500000000000004, 'Character Error Rate': 56.97865353037766, 'Levenshtein Accuracy LLM': 70.9145427286357, 'Word Accuracy LLM': 27.500000000000004, 'Character Error Rate LLM': 56.97865353037766}\n"
          ]
        }
      ],
      "source": [
        "keys = list(OcrSpace_Evaluation.keys())\n",
        "values = list(OcrSpace_Evaluation.values())\n",
        "\n",
        "print(f\"First record:\\nKey: {keys[0]}\\nValue: {values[0]}\")"
      ]
    },
    {
      "cell_type": "markdown",
      "metadata": {
        "id": "3YUyXnslzFft"
      },
      "source": [
        "esempio output ocr space"
      ]
    },
    {
      "cell_type": "code",
      "execution_count": null,
      "metadata": {
        "id": "6S15wrfNzFft",
        "outputId": "35e597c0-851c-458a-e8c9-9955929262fa"
      },
      "outputs": [
        {
          "data": {
            "text/plain": [
              "{'img_109.jpg': 'SPIDER MAN',\n",
              " 'img_11.jpg': \"iM. Summer's Here!\",\n",
              " 'img_110.jpg': '123 FANSTORMERS GRNGD2',\n",
              " 'img_111.jpg': 'NATURAL HISTORY MUSEUM',\n",
              " 'img_112.jpg': 'CLOSING DOWN SALE',\n",
              " 'img_113.jpg': 'one hour the eyecare clinic contact lens centre',\n",
              " 'img_114.jpg': 'act one',\n",
              " 'img_115.jpg': 'FUN FASHION LADIES LINGERIE SHOP 01206 368166 FUNFASHION@HOTMAIL.COM',\n",
              " 'img_116.jpg': 'P',\n",
              " 'img_117.jpg': 'Counselling Helpline Lifelines Family Support'}"
            ]
          },
          "execution_count": 10,
          "metadata": {},
          "output_type": "execute_result"
        }
      ],
      "source": [
        "ocrspace_extraction"
      ]
    },
    {
      "cell_type": "markdown",
      "metadata": {
        "id": "WzXo_CxA6OkB"
      },
      "source": [
        "# TESSERACT"
      ]
    },
    {
      "cell_type": "code",
      "execution_count": null,
      "metadata": {
        "id": "Pi2gu_Ll68cg"
      },
      "outputs": [],
      "source": [
        "tesseract_extraction = {}"
      ]
    },
    {
      "cell_type": "code",
      "execution_count": null,
      "metadata": {
        "id": "kyOMTr6L6Sal"
      },
      "outputs": [],
      "source": [
        "# Function to extract text using Tesseract OCR\n",
        "def extract_text_tesseract(image_path):\n",
        "  text = pytesseract.image_to_string(Image.open(image_path))\n",
        "  return text.strip()"
      ]
    },
    {
      "cell_type": "code",
      "execution_count": null,
      "metadata": {
        "id": "w4Fy4KKR7GDA"
      },
      "outputs": [],
      "source": [
        "tesseract_time_record=[]\n",
        "for image_path in images_paths[0:150]:\n",
        "  start_time = time.time()\n",
        "  tesseract_extraction[os.path.basename(image_path)] = extract_text_tesseract(image_path)\n",
        "  end_time = time.time()\n",
        "  elapsed_time = end_time - start_time\n",
        "  tesseract_time_record.append(elapsed_time)"
      ]
    },
    {
      "cell_type": "code",
      "execution_count": null,
      "metadata": {
        "id": "wwZ6hXVB8IwX"
      },
      "outputs": [],
      "source": [
        "Tesseract_Evaluation = evaluate_ocr(tesseract_extraction ,'document')"
      ]
    },
    {
      "cell_type": "code",
      "execution_count": null,
      "metadata": {
        "colab": {
          "base_uri": "https://localhost:8080/"
        },
        "id": "AFjqRPz08SV8",
        "outputId": "1a821fa2-e1e2-4e0f-9393-058c99fd8aea"
      },
      "outputs": [
        {
          "name": "stdout",
          "output_type": "stream",
          "text": [
            "First record:\n",
            "Key: X00016469670\n",
            "Value: {'Levenshtein Accuracy': 60.591133004926114, 'Word Accuracy': 17.5, 'Character Error Rate': 65.1888341543514, 'Levenshtein Accuracy LLM': 60.91954022988506, 'Word Accuracy LLM': 12.5, 'Character Error Rate LLM': 65.1888341543514}\n"
          ]
        }
      ],
      "source": [
        "keys = list(Tesseract_Evaluation.keys())\n",
        "values = list(Tesseract_Evaluation.values())\n",
        "\n",
        "print(f\"First record:\\nKey: {keys[0]}\\nValue: {values[0]}\")"
      ]
    },
    {
      "cell_type": "code",
      "execution_count": null,
      "metadata": {
        "id": "T2oqlZ2H2nt6"
      },
      "outputs": [],
      "source": []
    },
    {
      "cell_type": "markdown",
      "metadata": {
        "id": "C8P95qxkevKc"
      },
      "source": [
        "# GOOGLE CLOUD VISION API"
      ]
    },
    {
      "cell_type": "code",
      "execution_count": null,
      "metadata": {
        "colab": {
          "base_uri": "https://localhost:8080/",
          "height": 515
        },
        "id": "-MDuRRfqS7ug",
        "outputId": "a4f95f7f-c177-4c16-c5a9-59bef500ffb5"
      },
      "outputs": [
        {
          "name": "stdout",
          "output_type": "stream",
          "text": [
            "Collecting google-cloud-vision\n",
            "  Downloading google_cloud_vision-3.9.0-py2.py3-none-any.whl.metadata (5.3 kB)\n",
            "Requirement already satisfied: google-api-core!=2.0.*,!=2.1.*,!=2.10.*,!=2.2.*,!=2.3.*,!=2.4.*,!=2.5.*,!=2.6.*,!=2.7.*,!=2.8.*,!=2.9.*,<3.0.0dev,>=1.34.1 in /usr/local/lib/python3.11/dist-packages (from google-api-core[grpc]!=2.0.*,!=2.1.*,!=2.10.*,!=2.2.*,!=2.3.*,!=2.4.*,!=2.5.*,!=2.6.*,!=2.7.*,!=2.8.*,!=2.9.*,<3.0.0dev,>=1.34.1->google-cloud-vision) (2.19.2)\n",
            "Requirement already satisfied: google-auth!=2.24.0,!=2.25.0,<3.0.0dev,>=2.14.1 in /usr/local/lib/python3.11/dist-packages (from google-cloud-vision) (2.27.0)\n",
            "Requirement already satisfied: proto-plus<2.0.0dev,>=1.22.3 in /usr/local/lib/python3.11/dist-packages (from google-cloud-vision) (1.25.0)\n",
            "Requirement already satisfied: protobuf!=4.21.0,!=4.21.1,!=4.21.2,!=4.21.3,!=4.21.4,!=4.21.5,<6.0.0dev,>=3.20.2 in /usr/local/lib/python3.11/dist-packages (from google-cloud-vision) (4.25.5)\n",
            "Requirement already satisfied: googleapis-common-protos<2.0.dev0,>=1.56.2 in /usr/local/lib/python3.11/dist-packages (from google-api-core!=2.0.*,!=2.1.*,!=2.10.*,!=2.2.*,!=2.3.*,!=2.4.*,!=2.5.*,!=2.6.*,!=2.7.*,!=2.8.*,!=2.9.*,<3.0.0dev,>=1.34.1->google-api-core[grpc]!=2.0.*,!=2.1.*,!=2.10.*,!=2.2.*,!=2.3.*,!=2.4.*,!=2.5.*,!=2.6.*,!=2.7.*,!=2.8.*,!=2.9.*,<3.0.0dev,>=1.34.1->google-cloud-vision) (1.66.0)\n",
            "Requirement already satisfied: requests<3.0.0.dev0,>=2.18.0 in /usr/local/lib/python3.11/dist-packages (from google-api-core!=2.0.*,!=2.1.*,!=2.10.*,!=2.2.*,!=2.3.*,!=2.4.*,!=2.5.*,!=2.6.*,!=2.7.*,!=2.8.*,!=2.9.*,<3.0.0dev,>=1.34.1->google-api-core[grpc]!=2.0.*,!=2.1.*,!=2.10.*,!=2.2.*,!=2.3.*,!=2.4.*,!=2.5.*,!=2.6.*,!=2.7.*,!=2.8.*,!=2.9.*,<3.0.0dev,>=1.34.1->google-cloud-vision) (2.32.3)\n",
            "Requirement already satisfied: grpcio<2.0dev,>=1.33.2 in /usr/local/lib/python3.11/dist-packages (from google-api-core[grpc]!=2.0.*,!=2.1.*,!=2.10.*,!=2.2.*,!=2.3.*,!=2.4.*,!=2.5.*,!=2.6.*,!=2.7.*,!=2.8.*,!=2.9.*,<3.0.0dev,>=1.34.1->google-cloud-vision) (1.69.0)\n",
            "Requirement already satisfied: grpcio-status<2.0.dev0,>=1.33.2 in /usr/local/lib/python3.11/dist-packages (from google-api-core[grpc]!=2.0.*,!=2.1.*,!=2.10.*,!=2.2.*,!=2.3.*,!=2.4.*,!=2.5.*,!=2.6.*,!=2.7.*,!=2.8.*,!=2.9.*,<3.0.0dev,>=1.34.1->google-cloud-vision) (1.62.3)\n",
            "Requirement already satisfied: cachetools<6.0,>=2.0.0 in /usr/local/lib/python3.11/dist-packages (from google-auth!=2.24.0,!=2.25.0,<3.0.0dev,>=2.14.1->google-cloud-vision) (5.5.1)\n",
            "Requirement already satisfied: pyasn1-modules>=0.2.1 in /usr/local/lib/python3.11/dist-packages (from google-auth!=2.24.0,!=2.25.0,<3.0.0dev,>=2.14.1->google-cloud-vision) (0.4.1)\n",
            "Requirement already satisfied: rsa<5,>=3.1.4 in /usr/local/lib/python3.11/dist-packages (from google-auth!=2.24.0,!=2.25.0,<3.0.0dev,>=2.14.1->google-cloud-vision) (4.9)\n",
            "Requirement already satisfied: pyasn1<0.7.0,>=0.4.6 in /usr/local/lib/python3.11/dist-packages (from pyasn1-modules>=0.2.1->google-auth!=2.24.0,!=2.25.0,<3.0.0dev,>=2.14.1->google-cloud-vision) (0.6.1)\n",
            "Requirement already satisfied: charset-normalizer<4,>=2 in /usr/local/lib/python3.11/dist-packages (from requests<3.0.0.dev0,>=2.18.0->google-api-core!=2.0.*,!=2.1.*,!=2.10.*,!=2.2.*,!=2.3.*,!=2.4.*,!=2.5.*,!=2.6.*,!=2.7.*,!=2.8.*,!=2.9.*,<3.0.0dev,>=1.34.1->google-api-core[grpc]!=2.0.*,!=2.1.*,!=2.10.*,!=2.2.*,!=2.3.*,!=2.4.*,!=2.5.*,!=2.6.*,!=2.7.*,!=2.8.*,!=2.9.*,<3.0.0dev,>=1.34.1->google-cloud-vision) (3.4.1)\n",
            "Requirement already satisfied: idna<4,>=2.5 in /usr/local/lib/python3.11/dist-packages (from requests<3.0.0.dev0,>=2.18.0->google-api-core!=2.0.*,!=2.1.*,!=2.10.*,!=2.2.*,!=2.3.*,!=2.4.*,!=2.5.*,!=2.6.*,!=2.7.*,!=2.8.*,!=2.9.*,<3.0.0dev,>=1.34.1->google-api-core[grpc]!=2.0.*,!=2.1.*,!=2.10.*,!=2.2.*,!=2.3.*,!=2.4.*,!=2.5.*,!=2.6.*,!=2.7.*,!=2.8.*,!=2.9.*,<3.0.0dev,>=1.34.1->google-cloud-vision) (3.10)\n",
            "Requirement already satisfied: urllib3<3,>=1.21.1 in /usr/local/lib/python3.11/dist-packages (from requests<3.0.0.dev0,>=2.18.0->google-api-core!=2.0.*,!=2.1.*,!=2.10.*,!=2.2.*,!=2.3.*,!=2.4.*,!=2.5.*,!=2.6.*,!=2.7.*,!=2.8.*,!=2.9.*,<3.0.0dev,>=1.34.1->google-api-core[grpc]!=2.0.*,!=2.1.*,!=2.10.*,!=2.2.*,!=2.3.*,!=2.4.*,!=2.5.*,!=2.6.*,!=2.7.*,!=2.8.*,!=2.9.*,<3.0.0dev,>=1.34.1->google-cloud-vision) (2.3.0)\n",
            "Requirement already satisfied: certifi>=2017.4.17 in /usr/local/lib/python3.11/dist-packages (from requests<3.0.0.dev0,>=2.18.0->google-api-core!=2.0.*,!=2.1.*,!=2.10.*,!=2.2.*,!=2.3.*,!=2.4.*,!=2.5.*,!=2.6.*,!=2.7.*,!=2.8.*,!=2.9.*,<3.0.0dev,>=1.34.1->google-api-core[grpc]!=2.0.*,!=2.1.*,!=2.10.*,!=2.2.*,!=2.3.*,!=2.4.*,!=2.5.*,!=2.6.*,!=2.7.*,!=2.8.*,!=2.9.*,<3.0.0dev,>=1.34.1->google-cloud-vision) (2024.12.14)\n",
            "Downloading google_cloud_vision-3.9.0-py2.py3-none-any.whl (514 kB)\n",
            "\u001b[2K   \u001b[90m━━━━━━━━━━━━━━━━━━━━━━━━━━━━━━━━━━━━━━━━\u001b[0m \u001b[32m514.6/514.6 kB\u001b[0m \u001b[31m11.7 MB/s\u001b[0m eta \u001b[36m0:00:00\u001b[0m\n",
            "\u001b[?25hInstalling collected packages: google-cloud-vision\n",
            "Successfully installed google-cloud-vision-3.9.0\n"
          ]
        },
        {
          "data": {
            "application/vnd.colab-display-data+json": {
              "id": "c78de154fb6a487cb3f24808b45f45c8",
              "pip_warning": {
                "packages": [
                  "google"
                ]
              }
            }
          },
          "metadata": {},
          "output_type": "display_data"
        }
      ],
      "source": [
        "!pip install google-cloud-vision"
      ]
    },
    {
      "cell_type": "code",
      "execution_count": null,
      "metadata": {
        "id": "1YRrzttyequu"
      },
      "outputs": [],
      "source": [
        "cloudvisionapikey = CLOUD_VISION_API\n",
        "cloudvision_extraction = {}"
      ]
    },
    {
      "cell_type": "code",
      "execution_count": null,
      "metadata": {
        "id": "iwhPI5Zve6uz"
      },
      "outputs": [],
      "source": [
        "from google.cloud import vision\n",
        "from google.auth.transport.requests import Request\n",
        "from google.auth.credentials import AnonymousCredentials\n",
        "import requests\n",
        "import base64 # Import base64\n",
        "\n",
        "def detect_text(image_path):\n",
        "    \"\"\"\n",
        "    Detect text in an image using the Vision API with an API key.\n",
        "\n",
        "    Args:\n",
        "        api_key (str): Your Google Cloud Vision API key.\n",
        "        image_path (str): Path to the image file.\n",
        "\n",
        "    Returns:\n",
        "        str: Detected text.\n",
        "    \"\"\"\n",
        "    # Read the image file\n",
        "    with open(image_path, \"rb\") as image_file:\n",
        "        image_content = image_file.read()\n",
        "\n",
        "    # Encode image content to base64\n",
        "    image_content_base64 = base64.b64encode(image_content).decode('utf-8')\n",
        "\n",
        "    # Create the request payload\n",
        "    url = f\"https://vision.googleapis.com/v1/images:annotate?key={cloudvisionapikey}\"\n",
        "    headers = {\"Content-Type\": \"application/json\"}\n",
        "    payload = {\n",
        "        \"requests\": [\n",
        "            {\n",
        "                \"image\": {\"content\": image_content_base64}, # Use base64 encoded content\n",
        "                \"features\": [{\"type\": \"TEXT_DETECTION\"}]\n",
        "            }\n",
        "        ]\n",
        "    }\n",
        "\n",
        "    # Send the request\n",
        "    response = requests.post(url, json=payload, headers=headers)\n",
        "    response.raise_for_status()\n",
        "\n",
        "    # Parse the response\n",
        "    result = response.json()\n",
        "    if \"responses\" in result and \"textAnnotations\" in result[\"responses\"][0]:\n",
        "        detected_text = result[\"responses\"][0][\"textAnnotations\"][0][\"description\"]\n",
        "        return detected_text\n",
        "    else:\n",
        "        return \"No text detected.\""
      ]
    },
    {
      "cell_type": "code",
      "execution_count": null,
      "metadata": {
        "id": "Wz4pMZipfXFj"
      },
      "outputs": [],
      "source": [
        "google_vision_time_record=[]\n",
        "for image_path in images_paths[0:150]:\n",
        "  start_time = time.time()\n",
        "  cloudvision_extraction[os.path.basename(image_path)] = detect_text(image_path)\n",
        "  end_time = time.time()\n",
        "  elapsed_time = end_time - start_time\n",
        "  google_vision_time_record.append(elapsed_time)"
      ]
    },
    {
      "cell_type": "code",
      "execution_count": null,
      "metadata": {
        "id": "FMBGxMHgfak0"
      },
      "outputs": [],
      "source": [
        "OcrCloudVision_Evaluation = evaluate_ocr(cloudvision_extraction,'document')"
      ]
    },
    {
      "cell_type": "code",
      "execution_count": null,
      "metadata": {
        "colab": {
          "base_uri": "https://localhost:8080/"
        },
        "id": "nngHxoSDfdUp",
        "outputId": "d17291e9-9190-4650-d3d6-9e0ff053a143"
      },
      "outputs": [
        {
          "name": "stdout",
          "output_type": "stream",
          "text": [
            "First record:\n",
            "Key: X00016469670\n",
            "Value: {'Levenshtein Accuracy': 67.96992481203009, 'Word Accuracy': 32.5, 'Character Error Rate': 60.26272577996716, 'Levenshtein Accuracy LLM': 79.18552036199095, 'Word Accuracy LLM': 32.5, 'Character Error Rate LLM': 51.55993431855501}\n"
          ]
        }
      ],
      "source": [
        "keys = list(OcrCloudVision_Evaluation.keys())\n",
        "values = list(OcrCloudVision_Evaluation.values())\n",
        "\n",
        "print(f\"First record:\\nKey: {keys[0]}\\nValue: {values[0]}\")"
      ]
    },
    {
      "cell_type": "code",
      "execution_count": null,
      "metadata": {
        "id": "ZlihV30s3M95"
      },
      "outputs": [],
      "source": []
    },
    {
      "cell_type": "markdown",
      "metadata": {
        "id": "ND9aNNba3OFK"
      },
      "source": [
        "# COMPARE THE EVALUATIONS"
      ]
    },
    {
      "cell_type": "code",
      "execution_count": null,
      "metadata": {
        "id": "r-_liZJw7mhV"
      },
      "outputs": [],
      "source": [
        "import pandas as pd"
      ]
    },
    {
      "cell_type": "code",
      "execution_count": null,
      "metadata": {
        "id": "B1maFZ573OFM"
      },
      "outputs": [],
      "source": [
        "def calculate_score(metrics, alpha, beta, gamma):\n",
        "\n",
        "    lev_accuracy = metrics.get(\"Levenshtein Accuracy\", 0)\n",
        "    word_accuracy = metrics.get(\"Word Accuracy\", 0)\n",
        "    cer = metrics.get(\"Character Error Rate\", 0)\n",
        "\n",
        "    total_score = alpha * lev_accuracy + beta * word_accuracy - gamma * cer\n",
        "    return total_score\n",
        "\n",
        "def calculate_score_llm(metrics, alpha, beta, gamma):\n",
        "\n",
        "    lev_accuracy = metrics.get(\"Levenshtein Accuracy LLM\", 0)\n",
        "    word_accuracy = metrics.get(\"Word Accuracy LLM\", 0)\n",
        "    cer = metrics.get(\"Character Error Rate LLM\", 0)\n",
        "\n",
        "    total_score = alpha * lev_accuracy + beta * word_accuracy - gamma * cer\n",
        "    return total_score\n",
        "\n",
        "\n",
        "def evaluate_all_metrics(evaluations, alpha, beta, gamma):\n",
        "\n",
        "    best_api = None\n",
        "    best_score = float('-inf')\n",
        "    results=[]\n",
        "\n",
        "    print(\"API Scores:\\n\")\n",
        "\n",
        "    for api_name, image_metrics in evaluations.items():\n",
        "        total_score = 0\n",
        "        total_score_llm = 0\n",
        "        total_lev_accuracy = 0\n",
        "        total_word_accuracy = 0\n",
        "        total_cer = 0\n",
        "        total_lev_accuracy_llm = 0\n",
        "        total_word_accuracy_llm = 0\n",
        "        total_cer_llm = 0\n",
        "        num_images = len(image_metrics)\n",
        "        for image_name, metrics in image_metrics.items():\n",
        "            total_score += calculate_score(metrics, alpha, beta, gamma)\n",
        "            total_score_llm += calculate_score_llm(metrics, alpha, beta, gamma)\n",
        "\n",
        "            total_lev_accuracy += metrics.get(\"Levenshtein Accuracy\", 0)\n",
        "            total_word_accuracy += metrics.get(\"Word Accuracy\", 0)\n",
        "            total_cer += metrics.get(\"Character Error Rate\", 0)\n",
        "\n",
        "            total_lev_accuracy_llm += metrics.get(\"Levenshtein Accuracy LLM\", 0)\n",
        "            total_word_accuracy_llm += metrics.get(\"Word Accuracy LLM\", 0)\n",
        "            total_cer_llm += metrics.get(\"Character Error Rate LLM\", 0)\n",
        "        avg_score = total_score / num_images if num_images > 0 else 0\n",
        "        avg_score_llm = total_score_llm / num_images if num_images > 0 else 0\n",
        "\n",
        "        avg_lev_accuracy = total_lev_accuracy / num_images if num_images > 0 else 0\n",
        "        avg_word_accuracy = total_word_accuracy / num_images if num_images > 0 else 0\n",
        "        avg_cer = total_cer / num_images if num_images > 0 else 0\n",
        "\n",
        "        avg_lev_accuracy_llm = total_lev_accuracy_llm / num_images if num_images > 0 else 0\n",
        "        avg_word_accuracy_llm = total_word_accuracy_llm / num_images if num_images > 0 else 0\n",
        "        avg_cer_llm = total_cer_llm / num_images if num_images > 0 else 0\n",
        "\n",
        "        print(f\"{api_name} - Average Score: {avg_score:.2f}, with LLM: {avg_score_llm:.2f}\")\n",
        "\n",
        "        results.append({\n",
        "            \"API Name\": api_name,\n",
        "            \"Levenshtein Accuracy\": avg_lev_accuracy,\n",
        "            \"Levenshtein Accuracy with LLM\": avg_lev_accuracy_llm,\n",
        "            \"Word Accuracy\": avg_word_accuracy,\n",
        "            \"Word Accuracy with LLM\": avg_word_accuracy_llm,\n",
        "            \"Character Error Rate\": avg_cer,\n",
        "            \"Character Error Rate with LLM\": avg_cer_llm,\n",
        "            \"Average Score\": avg_score,\n",
        "            \"Average Score with LLM\": avg_score_llm\n",
        "        })\n",
        "\n",
        "\n",
        "        if avg_score > best_score:\n",
        "            best_score = avg_score\n",
        "            best_api = api_name\n",
        "\n",
        "\n",
        "    df = pd.DataFrame(results)\n",
        "    df.to_excel(\"eng_document_ocr_evaluation_results.xlsx\", index=False)\n",
        "\n",
        "    print(\"\\nResults saved to excel file\")\n",
        "    return best_api, best_score\n",
        "\n",
        "\n"
      ]
    },
    {
      "cell_type": "code",
      "execution_count": null,
      "metadata": {
        "colab": {
          "base_uri": "https://localhost:8080/"
        },
        "id": "tLP1HVnT3OFM",
        "outputId": "4bbed4a1-1720-46bb-dd3a-eb1a7df9c871"
      },
      "outputs": [
        {
          "name": "stdout",
          "output_type": "stream",
          "text": [
            "API Scores:\n",
            "\n",
            "Azure OCR - Average Score: 66.96, with LLM: 65.18\n",
            "AWS Textract - Average Score: 73.62, with LLM: 70.48\n",
            "OCR.space - Average Score: 27.37, with LLM: 31.22\n",
            "Tesseract - Average Score: 21.88, with LLM: 18.70\n",
            "Google Cloud Vision API - Average Score: 41.33, with LLM: 31.51\n",
            "\n",
            "Results saved to excel file\n",
            "\n",
            "The best OCR API is AWS Textract with an average score of 73.62.\n"
          ]
        }
      ],
      "source": [
        "# Esempio di dati delle metriche\n",
        "evaluations = {\n",
        "    \"Azure OCR\": Azure_Evaluation,\n",
        "    \"AWS Textract\": Aws_Evaluation,\n",
        "    \"OCR.space\": OcrSpace_Evaluation,\n",
        "    \"Tesseract\": Tesseract_Evaluation,\n",
        "    \"Google Cloud Vision API\": OcrCloudVision_Evaluation\n",
        "}\n",
        "\n",
        "# Confronta le metriche per tutte le API\n",
        "best_api, best_score = evaluate_all_metrics(evaluations, alpha=1.3, beta=0.6, gamma=1.5)\n",
        "print(f\"\\nThe best OCR API is {best_api} with an average score of {best_score:.2f}.\")\n"
      ]
    },
    {
      "cell_type": "code",
      "execution_count": null,
      "metadata": {
        "colab": {
          "base_uri": "https://localhost:8080/"
        },
        "id": "Z7GqBJb8MGz0",
        "outputId": "2fd73d4c-4c92-49f0-ae91-551791ca44ef"
      },
      "outputs": [
        {
          "name": "stdout",
          "output_type": "stream",
          "text": [
            "Average processing times saved to 'average_processing_times.xlsx'\n"
          ]
        }
      ],
      "source": [
        "avg_google_vision_time=sum(google_vision_time_record)/len(google_vision_time_record)\n",
        "avg_aws_time=sum(aws_time_record)/len(aws_time_record)\n",
        "avg_azure_time=sum(azure_time_record)/len(azure_time_record)\n",
        "avg_tesseract_time=sum(tesseract_time_record)/len(tesseract_time_record)\n",
        "avg_ocr_space_time=sum(ocr_space_time_record)/len(ocr_space_time_record)\n",
        "\n",
        "time_data = {\n",
        "    \"Model\": [\"Azure\",\"AWS\" ,\"OCR.SPACE\" ,\"Tesseract\" ,\"Google Vision\"],  # You can add more models here\n",
        "    \"Average Time (seconds)\": [avg_azure_time,avg_aws_time,avg_ocr_space_time,avg_tesseract_time,avg_google_vision_time],\n",
        "}\n",
        "\n",
        "df = pd.DataFrame(time_data)\n",
        "df.to_excel(\"average_ocr_processing_times_docs.xlsx\", index=False)\n",
        "\n",
        "print(\"Average processing times saved to 'average_processing_times.xlsx'\")"
      ]
    }
  ],
  "metadata": {
    "colab": {
      "provenance": []
    },
    "kernelspec": {
      "display_name": "ds",
      "language": "python",
      "name": "python3"
    },
    "language_info": {
      "codemirror_mode": {
        "name": "ipython",
        "version": 3
      },
      "file_extension": ".py",
      "mimetype": "text/x-python",
      "name": "python",
      "nbconvert_exporter": "python",
      "pygments_lexer": "ipython3",
      "version": "3.12.8"
    }
  },
  "nbformat": 4,
  "nbformat_minor": 0
}
